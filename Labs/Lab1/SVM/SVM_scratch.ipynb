{
 "cells": [
  {
   "cell_type": "markdown",
   "metadata": {},
   "source": [
    "## importing libraries"
   ]
  },
  {
   "cell_type": "code",
   "execution_count": 1,
   "metadata": {},
   "outputs": [],
   "source": [
    "import numpy as np"
   ]
  },
  {
   "cell_type": "code",
   "execution_count": 2,
   "metadata": {},
   "outputs": [],
   "source": [
    "#X data\n",
    "X = np.array([\n",
    "    [-2,4,-1],\n",
    "    [4,1,-1],\n",
    "    [1,2,-1],\n",
    "    [2,0,-1],\n",
    "    [0,0,-1],\n",
    "    [3, 5,-1],\n",
    "    [1, 6,-1],\n",
    "    [5, 5,-1],\n",
    "    [2, 4,-1],\n",
    "    [6, 2,-1]\n",
    "])\n",
    "#Yi\n",
    "Y = np.array([[-1],[-1],[-1],[-1],[-1],[1],[1],[1],[1],[1]])"
   ]
  },
  {
   "cell_type": "code",
   "execution_count": 3,
   "metadata": {},
   "outputs": [],
   "source": [
    "from matplotlib import pyplot as plt\n",
    "%matplotlib inline"
   ]
  },
  {
   "cell_type": "code",
   "execution_count": 4,
   "metadata": {},
   "outputs": [
    {
     "data": {
      "text/plain": [
       "<matplotlib.collections.PathCollection at 0x7fc24389fd30>"
      ]
     },
     "execution_count": 4,
     "metadata": {},
     "output_type": "execute_result"
    },
    {
     "data": {
      "image/png": "[encoded data removed]",
      "text/plain": [
       "<Figure size 432x288 with 1 Axes>"
      ]
     },
     "metadata": {},
     "output_type": "display_data"
    }
   ],
   "source": [
    "#Visualizing data\n",
    "plt.scatter(X[0:5,0],X[0:5,1], c='b', marker='_', linewidths=2)\n",
    "plt.scatter(X[5:10,0],X[5:10,1], c='r', marker='+', linewidths=2)"
   ]
  },
  {
   "cell_type": "code",
   "execution_count": 5,
   "metadata": {},
   "outputs": [],
   "source": [
    "def omega(X,Y,epochs,eta,reg_param): #eta=learning rate, reg_param=regularization parameter, returns W final\n",
    "    errors=[]\n",
    "    W=np.zeros(X[0].size)\n",
    "    #learning\n",
    "    for epoch in range(epochs):\n",
    "        error=0\n",
    "        for i,example in enumerate(X):\n",
    "            cost = 1 - Y[i]*(np.dot(X[i,:],W))   #Cost is the hinge loss. It is positive when example is classified incorrectly\n",
    "            if cost > 0:\n",
    "                #misclassified example\n",
    "                W = W + eta*(Y[i]*X[i,:] - (2*reg_param*W))\n",
    "                error=error+1\n",
    "            else:\n",
    "                #correctly classified example\n",
    "                W = W - eta*(2*reg_param*W)\n",
    "        errors.append(error)\n",
    "    return W, errors"
   ]
  },
  {
   "cell_type": "code",
   "execution_count": 6,
   "metadata": {},
   "outputs": [],
   "source": [
    "W,e = omega(X,Y,100000,1,0.00001)\n",
    "#W is the normal vector to the hyperline\n",
    "#W[2] is the bias term b so that Y*X.W is greater than 1"
   ]
  },
  {
   "cell_type": "code",
   "execution_count": 7,
   "metadata": {},
   "outputs": [
    {
     "data": {
      "text/plain": [
       "array([ 2.25388867,  5.41360949, 19.53789435])"
      ]
     },
     "execution_count": 7,
     "metadata": {},
     "output_type": "execute_result"
    }
   ],
   "source": [
    "W"
   ]
  },
  {
   "cell_type": "code",
   "execution_count": 9,
   "metadata": {},
   "outputs": [],
   "source": [
    "# We found the slope above. Now to find a point through which the line passes which is the \n",
    "# midpoint of the closest positive and negative examples.\n",
    "li=[]\n",
    "li2=[]\n",
    "for i,sample in enumerate(X):\n",
    "    if np.dot(X[i], W) <=-1:\n",
    "        li.append(np.dot(X[i], W))\n",
    "    elif np.dot(X[i],W) >=1:\n",
    "        li2.append(np.dot(X[i],W))\n",
    "        #li contains all the negative samples\n",
    "        #li2 contains all the positive samples\n",
    "a=(X[0:len(li)][li.index(max(li))])\n",
    "b=(X[len(li):][li.index(min(li))])\n",
    "#a is closest negative\n",
    "#b is closest positive\n",
    "m=(a+b)/2\n",
    "#m is a point on the hyper line"
   ]
  },
  {
   "cell_type": "code",
   "execution_count": 39,
   "metadata": {},
   "outputs": [
    {
     "data": {
      "image/png": "[encoded data removed]",
      "text/plain": [
       "<Figure size 432x288 with 1 Axes>"
      ]
     },
     "metadata": {},
     "output_type": "display_data"
    }
   ],
   "source": [
    "#Plotting the results\n",
    "ax = plt.gca()\n",
    "#Dark blue line is the hyperplane\n",
    "ax.quiver(m[0],m[1],[W[1]],[-W[0]],scale=1, color='blue')\n",
    "ax.quiver(m[0],m[1],[-W[1]],[W[0]],scale=1, color='blue')\n",
    "#Light red line is the svm seprator\n",
    "ax.quiver(a[0],a[1],[W[1]],[-W[0]],scale=1, color='red', width=0.001)\n",
    "ax.quiver(b[0],b[1],[-W[1]],[W[0]],scale=1, color='red', width=0.001)\n",
    "ax.quiver(a[0],a[1],[-W[1]],[W[0]],scale=1, color='red', width=0.001)\n",
    "ax.quiver(b[0],b[1],[W[1]],[-W[0]],scale=1, color='red', width=0.001)\n",
    "plt.scatter(X[0:5,0],X[0:5,1], c='b', marker='_', linewidths=2)\n",
    "plt.scatter(X[5:10,0],X[5:10,1], c='r', marker='+', linewidths=2)\n",
    "\n",
    "#test points(green)\n",
    "tp=np.array([[2,2.5,-1],[6,0.8,-1],[5,3,-1]])\n",
    "\n",
    "for i,samaple in enumerate(tp):\n",
    "    if np.dot(tp[i],W)>0:\n",
    "        plt.scatter(tp[i,0],tp[i,1], c='g', marker='+', linewidths=2)\n",
    "    else:\n",
    "        plt.scatter(tp[i,0],tp[i,1], c='g', marker='_', linewidths=2)"
   ]
  },
  {
   "cell_type": "markdown",
   "metadata": {},
   "source": [
    "## Using sklearn"
   ]
  },
  {
   "cell_type": "code",
   "execution_count": 40,
   "metadata": {},
   "outputs": [],
   "source": [
    "from sklearn import svm as svm\n",
    "from matplotlib import style\n",
    "style.use('ggplot')"
   ]
  },
  {
   "cell_type": "code",
   "execution_count": 41,
   "metadata": {},
   "outputs": [],
   "source": [
    "#declaring model\n",
    "clf = svm.SVC(kernel='linear', C=1)"
   ]
  },
  {
   "cell_type": "code",
   "execution_count": 42,
   "metadata": {},
   "outputs": [
    {
     "data": {
      "text/plain": [
       "SVC(C=1, cache_size=200, class_weight=None, coef0=0.0,\n",
       "  decision_function_shape='ovr', degree=3, gamma='auto', kernel='linear',\n",
       "  max_iter=-1, probability=False, random_state=None, shrinking=True,\n",
       "  tol=0.001, verbose=False)"
      ]
     },
     "execution_count": 42,
     "metadata": {},
     "output_type": "execute_result"
    }
   ],
   "source": [
    "#Fitting the data\n",
    "clf.fit(X[:,0:2],Y.ravel())"
   ]
  },
  {
   "cell_type": "code",
   "execution_count": 43,
   "metadata": {},
   "outputs": [
    {
     "data": {
      "text/plain": [
       "array([-1,  1])"
      ]
     },
     "execution_count": 43,
     "metadata": {},
     "output_type": "execute_result"
    }
   ],
   "source": [
    "clf.predict([[1,1],[9,9]])"
   ]
  },
  {
   "cell_type": "code",
   "execution_count": 44,
   "metadata": {},
   "outputs": [],
   "source": [
    "W2=clf.coef_"
   ]
  },
  {
   "cell_type": "code",
   "execution_count": 45,
   "metadata": {},
   "outputs": [],
   "source": [
    "c=clf.intercept_"
   ]
  },
  {
   "cell_type": "markdown",
   "metadata": {},
   "source": [
    "### for the median line given by ax+by + c =0 dividing the points, [a,b] are W2 and intercept is c"
   ]
  },
  {
   "cell_type": "code",
   "execution_count": 47,
   "metadata": {},
   "outputs": [],
   "source": [
    "xx=np.array([-3,8])\n",
    "yy= (-W2[0,0]/W2[0,1])*xx - (c/W2[0,1])\n"
   ]
  },
  {
   "cell_type": "code",
   "execution_count": 48,
   "metadata": {},
   "outputs": [
    {
     "data": {
      "text/plain": [
       "<matplotlib.collections.PathCollection at 0x7fc237f94ba8>"
      ]
     },
     "execution_count": 48,
     "metadata": {},
     "output_type": "execute_result"
    },
    {
     "data": {
      "image/png": "[encoded data removed]",
      "text/plain": [
       "<Figure size 432x288 with 1 Axes>"
      ]
     },
     "metadata": {},
     "output_type": "display_data"
    }
   ],
   "source": [
    "plt.plot(xx,yy,'k-')\n",
    "plt.scatter(X[0:5,0],X[0:5,1], c='b', marker='_', linewidths=2)\n",
    "plt.scatter(X[5:10,0],X[5:10,1], c='r', marker='+', linewidths=2)"
   ]
  },
  {
   "cell_type": "code",
   "execution_count": 9,
   "metadata": {},
   "outputs": [
    {
     "data": {
      "text/plain": [
       "5"
      ]
     },
     "execution_count": 9,
     "metadata": {},
     "output_type": "execute_result"
    }
   ],
   "source": [
    "5"
   ]
  },
  {
   "cell_type": "code",
   "execution_count": 3,
   "metadata": {},
   "outputs": [
    {
     "data": {
      "text/plain": [
       "6"
      ]
     },
     "execution_count": 3,
     "metadata": {},
     "output_type": "execute_result"
    }
   ],
   "source": [
    "6"
   ]
  }
 ],
 "metadata": {
  "kernelspec": {
   "display_name": "Python 3",
   "language": "python",
   "name": "python3"
  },
  "language_info": {
   "codemirror_mode": {
    "name": "ipython",
    "version": 3
   },
   "file_extension": ".py",
   "mimetype": "text/x-python",
   "name": "python",
   "nbconvert_exporter": "python",
   "pygments_lexer": "ipython3",
   "version": "3.5.2"
  }
 },
 "nbformat": 4,
 "nbformat_minor": 2
}
