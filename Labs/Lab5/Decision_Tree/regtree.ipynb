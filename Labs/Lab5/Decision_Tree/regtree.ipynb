{
 "cells": [
  {
   "cell_type": "markdown",
   "metadata": {},
   "source": [
    "# Decision Trees and Random Forests for Regression"
   ]
  },
  {
   "cell_type": "markdown",
   "metadata": {},
   "source": [
    "Decision Trees are used for classification as well as regression(hence called CART(Classification and Regression Trees)).\n",
    "\n",
    "When a single decision tree is used to predict, it overfits almost certainly and hence a bad example of a model. \n",
    "Hence, to address overfitting, random forests are used."
   ]
  },
  {
   "cell_type": "markdown",
   "metadata": {},
   "source": [
    "Random Forests are (surprise surprise!!) random groups of trees. A random forest consists of n deccision trees, which build on k randomly selected features and m random datapoints from the dataset.\n",
    "In case of classification, a majority vote is taken and decision is given\n",
    "In case of regression, an average of the predicted values is taken and a final predicted value is produced."
   ]
  },
  {
   "cell_type": "markdown",
   "metadata": {},
   "source": [
    "### Deciding on what feature to divide - The Standard Deviation"
   ]
  },
  {
   "cell_type": "markdown",
   "metadata": {},
   "source": [
    "Just like entropy in classification problems, we use standard deviation to decide on what feature to divide the dataset.\n",
    "We calculate the standard deviation of a parent branch target values and a weighted average of the standard deviations of the sub branches and their difference. The resulting value is the total decrease in the standard deviation. The higher the value, the better the feature is for division.\n",
    "\n",
    "A standard deviation of 0 means a homogeneous data. But for avoiding overfitting, we prune the data by setting a tolerance value of about 5% of the original dataset. We also keep an extra safety measure of 10 datapoints per leaf node."
   ]
  },
  {
   "cell_type": "markdown",
   "metadata": {},
   "source": [
    "<img src='http://www.saedsayad.com/images/Decision_tree_r3.png'>"
   ]
  },
  {
   "cell_type": "markdown",
   "metadata": {},
   "source": [
    "For more information, do check out [this](https://www.youtube.com/watch?v=nSaOuPCNvlk) video by Noureddin Sadawi"
   ]
  },
  {
   "cell_type": "markdown",
   "metadata": {},
   "source": [
    "#### Lets make our own Random Forest"
   ]
  },
  {
   "cell_type": "markdown",
   "metadata": {},
   "source": [
    "# Importing Data"
   ]
  },
  {
   "cell_type": "code",
   "execution_count": 4,
   "metadata": {},
   "outputs": [],
   "source": [
    "# importing dependancies\n",
    "import pandas as pd\n",
    "from numpy import NaN"
   ]
  },
  {
   "cell_type": "code",
   "execution_count": 6,
   "metadata": {},
   "outputs": [],
   "source": [
    "# This data is taken from the kaggle dataset on house prices\n",
    "data = pd.read_csv('train.csv')"
   ]
  },
  {
   "cell_type": "code",
   "execution_count": 7,
   "metadata": {},
   "outputs": [
    {
     "data": {
      "text/plain": [
       "Index(['Id', 'MSSubClass', 'MSZoning', 'LotFrontage', 'LotArea', 'Street',\n",
       "       'Alley', 'LotShape', 'LandContour', 'Utilities', 'LotConfig',\n",
       "       'LandSlope', 'Neighborhood', 'Condition1', 'Condition2', 'BldgType',\n",
       "       'HouseStyle', 'OverallQual', 'OverallCond', 'YearBuilt', 'YearRemodAdd',\n",
       "       'RoofStyle', 'RoofMatl', 'Exterior1st', 'Exterior2nd', 'MasVnrType',\n",
       "       'MasVnrArea', 'ExterQual', 'ExterCond', 'Foundation', 'BsmtQual',\n",
       "       'BsmtCond', 'BsmtExposure', 'BsmtFinType1', 'BsmtFinSF1',\n",
       "       'BsmtFinType2', 'BsmtFinSF2', 'BsmtUnfSF', 'TotalBsmtSF', 'Heating',\n",
       "       'HeatingQC', 'CentralAir', 'Electrical', '1stFlrSF', '2ndFlrSF',\n",
       "       'LowQualFinSF', 'GrLivArea', 'BsmtFullBath', 'BsmtHalfBath', 'FullBath',\n",
       "       'HalfBath', 'BedroomAbvGr', 'KitchenAbvGr', 'KitchenQual',\n",
       "       'TotRmsAbvGrd', 'Functional', 'Fireplaces', 'FireplaceQu', 'GarageType',\n",
       "       'GarageYrBlt', 'GarageFinish', 'GarageCars', 'GarageArea', 'GarageQual',\n",
       "       'GarageCond', 'PavedDrive', 'WoodDeckSF', 'OpenPorchSF',\n",
       "       'EnclosedPorch', '3SsnPorch', 'ScreenPorch', 'PoolArea', 'PoolQC',\n",
       "       'Fence', 'MiscFeature', 'MiscVal', 'MoSold', 'YrSold', 'SaleType',\n",
       "       'SaleCondition', 'SalePrice'],\n",
       "      dtype='object')"
      ]
     },
     "execution_count": 7,
     "metadata": {},
     "output_type": "execute_result"
    }
   ],
   "source": [
    "#Given the various features of the data , we need to predict the price of an unknown dataset\n",
    "data.columns"
   ]
  },
  {
   "cell_type": "code",
   "execution_count": 8,
   "metadata": {},
   "outputs": [],
   "source": [
    "Y = data.SalePrice \n",
    "data.drop(axis=1,labels='SalePrice',inplace=True)"
   ]
  },
  {
   "cell_type": "markdown",
   "metadata": {},
   "source": [
    "# Building A Tree"
   ]
  },
  {
   "cell_type": "code",
   "execution_count": 9,
   "metadata": {},
   "outputs": [],
   "source": [
    "#Defining a node of a tree\n",
    "class Node:\n",
    "    def __init__(self,best_feature=0 , best_value=None , children=None , result=None):\n",
    "        self.best_feature = best_feature\n",
    "        self.best_value = best_value\n",
    "        self.result = result\n",
    "        self.children = children"
   ]
  },
  {
   "cell_type": "code",
   "execution_count": 10,
   "metadata": {},
   "outputs": [],
   "source": [
    "#Calculate the standard deviation of the data\n",
    "def sdev(data):\n",
    "    return data.std()"
   ]
  },
  {
   "cell_type": "code",
   "execution_count": 11,
   "metadata": {},
   "outputs": [],
   "source": [
    "#Splits into sub branches\n",
    "def split(data , Y, feature , value):\n",
    "    children = []\n",
    "    target=[]\n",
    "    if value == None:  #Discrete data\n",
    "        \n",
    "        for childname in data[feature].unique():\n",
    "            if not (childname == childname):\n",
    "                children.append(data[data[feature].isnull()])\n",
    "                target.append(Y[data[data[feature].isnull()].index])\n",
    "                \n",
    "            else:\n",
    "                children.append(data[data[feature] == childname])  #Sub branch data\n",
    "                target.append(Y[data[data[feature] == childname].index])  #Sub branch target\n",
    "    else:  #Continuous data\n",
    "        \n",
    "        children.append(data[data[feature] <= value])  #Left branch data\n",
    "        target.append(Y[data[data[feature] <= value].index])  # Left branch target\n",
    "        children.append(data[data[feature] > value])  # Right branch data\n",
    "        target.append(Y[data[data[feature] > value].index])  # Right branch target\n",
    "        \n",
    "    return children,target\n",
    "        "
   ]
  },
  {
   "cell_type": "code",
   "execution_count": null,
   "metadata": {},
   "outputs": [],
   "source": []
  },
  {
   "cell_type": "code",
   "execution_count": 19,
   "metadata": {},
   "outputs": [],
   "source": [
    "lis=[]   #Global variable for keeping track of the features which are already used for splitting\n",
    "\n",
    "# Main builder function\n",
    "def build_tree(data,Y,tol=5):\n",
    "    global lis\n",
    "    #data is a pandas dataframe \n",
    "    # target is a pandas list\n",
    "    if len(Y)<=10:  #Pruning the tree when number of datapoints in a branch is less than or equal to 10\n",
    "        return Node(result=Y.mean()) #return leaf node\n",
    "    \n",
    "    else:\n",
    "        #Initializing node parameters\n",
    "        sdev_target = sdev(Y)  # standard deviation of the target\n",
    "        dev_loss = 0  #the standard deviation loss\n",
    "        best_feature=None #best feature to split upon \n",
    "        best_value = None #value of the feature to split upon(in case of continuous data)\n",
    "        best_children = None #best sub branches\n",
    "        best_target=None #the target values for the best sub branches\n",
    "    \n",
    "    #return leaf node when the loss in standard deviation is below tolerance\n",
    "    if dev_loss >= (sdev_target*(1-(tol/100))):  \n",
    "        result = Y.mean()   \n",
    "        return Node(result = result)\n",
    "    \n",
    "    else:  #branch further\n",
    "        cols=data.columns.tolist()\n",
    "        for feature in cols:\n",
    "\n",
    "            f_sdev=0 \n",
    "            \n",
    "            if feature in lis:\n",
    "                continue\n",
    "                \n",
    "            if not ((data[feature].dtype == int) or data[feature].dtype == float):  #For discrete data\n",
    "                children, children_target = split(data,Y,feature,value=None)  #Split into  sub branches\n",
    "                \n",
    "                for child in children:\n",
    "                    f_sdev += (sdev(Y[child.index]) * len(child)/len(data))  #Calculate total std. deviation\n",
    "                \n",
    "                dev_decr = sdev_target - f_sdev  #The total decrease in std. deviation\n",
    "                \n",
    "                #Updating the node parameters \n",
    "                if dev_decr > dev_loss:\n",
    "                    dev_loss = dev_decr\n",
    "                    best_feature = feature\n",
    "                    best_value = data[feature].unique()\n",
    "                    best_children = children\n",
    "                    best_target = children_target\n",
    "                    \n",
    "            \n",
    "            else:  #For continuous data\n",
    "                for uvalue in data[feature].unique(): #iterate for each unique value\n",
    "                    if uvalue == NaN:\n",
    "                        continue\n",
    "                    f_sdev = 0\n",
    "                    children,children_target = split(data,Y,feature,value = uvalue) #Split into sub branches\n",
    "                    \n",
    "                    for child in children:\n",
    "                        f_sdev += (sdev(Y[child.index]) * len(child)/len(data))  #Calculate total std. deviation\n",
    "                    \n",
    "                        dev_decr = sdev_target - f_sdev #The total decrease in std. deviation\n",
    "                \n",
    "                    #updating the node parameters\n",
    "                    if dev_decr > dev_loss:\n",
    "                        dev_loss = dev_decr\n",
    "                        best_feature = feature\n",
    "                        best_value = uvalue\n",
    "                        best_children = children\n",
    "                        best_target = children_target\n",
    "        \n",
    "        if not ((data[best_feature].dtype == int) or data[best_feature].dtype ==float):\n",
    "            lis.append(best_feature)\n",
    "            print (lis)\n",
    "        #Return Node \n",
    "        children = [build_tree(best_children[i],best_target[i],tol) for i in range(len(best_target))]\n",
    "        return Node(best_feature=best_feature, best_value=best_value, children=children)    \n",
    "        "
   ]
  },
  {
   "cell_type": "code",
   "execution_count": 20,
   "metadata": {},
   "outputs": [],
   "source": [
    "#Returns the result for a testing datapoint X\n",
    "def predict(model, X):\n",
    "    if model.result != None:  #a leaf node\n",
    "        return model.result\n",
    "    \n",
    "    elif (((model.best_value).dtype == int) or ((model.best_value).dtype == float)):  #if best_feature is numeric\n",
    "        if not(X[(model.best_feature)]==X[(model.best_feature)]):\n",
    "            return predict(model.children[0], X)\n",
    "        \n",
    "        if X[(model.best_feature)] <= model.best_value: #Select the left branch\n",
    "            return predict(model.children[0], X)  \n",
    "        \n",
    "        else:  #Select the right branch\n",
    "            return predict(model.children[1], X)\n",
    "        \n",
    "    else:  #The best feature has discrete values\n",
    "        if not(X[model.best_feature] == X[model.best_feature]):\n",
    "            return predict((model.children[0]),X)\n",
    "        else:\n",
    "            idx = ((model.best_value).tolist()).index(X[model.best_feature]) #index of the particular label\n",
    "            return predict((model.children)[idx],X)  #Go to the label branch         \n",
    "        \n",
    "        "
   ]
  },
  {
   "cell_type": "code",
   "execution_count": 21,
   "metadata": {
    "scrolled": true
   },
   "outputs": [
    {
     "name": "stdout",
     "output_type": "stream",
     "text": [
      "['Neighborhood']\n",
      "['Neighborhood', 'KitchenQual']\n",
      "['Neighborhood', 'KitchenQual', 'LotConfig']\n",
      "['Neighborhood', 'KitchenQual', 'LotConfig', 'SaleCondition']\n",
      "['Neighborhood', 'KitchenQual', 'LotConfig', 'SaleCondition', 'LandContour']\n",
      "['Neighborhood', 'KitchenQual', 'LotConfig', 'SaleCondition', 'LandContour', 'BsmtFinType1']\n",
      "['Neighborhood', 'KitchenQual', 'LotConfig', 'SaleCondition', 'LandContour', 'BsmtFinType1', 'Exterior2nd']\n",
      "['Neighborhood', 'KitchenQual', 'LotConfig', 'SaleCondition', 'LandContour', 'BsmtFinType1', 'Exterior2nd', 'BsmtExposure']\n",
      "['Neighborhood', 'KitchenQual', 'LotConfig', 'SaleCondition', 'LandContour', 'BsmtFinType1', 'Exterior2nd', 'BsmtExposure', 'BsmtQual']\n",
      "['Neighborhood', 'KitchenQual', 'LotConfig', 'SaleCondition', 'LandContour', 'BsmtFinType1', 'Exterior2nd', 'BsmtExposure', 'BsmtQual', 'GarageFinish']\n",
      "['Neighborhood', 'KitchenQual', 'LotConfig', 'SaleCondition', 'LandContour', 'BsmtFinType1', 'Exterior2nd', 'BsmtExposure', 'BsmtQual', 'GarageFinish', 'HeatingQC']\n",
      "['Neighborhood', 'KitchenQual', 'LotConfig', 'SaleCondition', 'LandContour', 'BsmtFinType1', 'Exterior2nd', 'BsmtExposure', 'BsmtQual', 'GarageFinish', 'HeatingQC', 'Condition1']\n",
      "['Neighborhood', 'KitchenQual', 'LotConfig', 'SaleCondition', 'LandContour', 'BsmtFinType1', 'Exterior2nd', 'BsmtExposure', 'BsmtQual', 'GarageFinish', 'HeatingQC', 'Condition1', 'LotShape']\n",
      "['Neighborhood', 'KitchenQual', 'LotConfig', 'SaleCondition', 'LandContour', 'BsmtFinType1', 'Exterior2nd', 'BsmtExposure', 'BsmtQual', 'GarageFinish', 'HeatingQC', 'Condition1', 'LotShape', 'Alley']\n",
      "['Neighborhood', 'KitchenQual', 'LotConfig', 'SaleCondition', 'LandContour', 'BsmtFinType1', 'Exterior2nd', 'BsmtExposure', 'BsmtQual', 'GarageFinish', 'HeatingQC', 'Condition1', 'LotShape', 'Alley', 'GarageType']\n",
      "['Neighborhood', 'KitchenQual', 'LotConfig', 'SaleCondition', 'LandContour', 'BsmtFinType1', 'Exterior2nd', 'BsmtExposure', 'BsmtQual', 'GarageFinish', 'HeatingQC', 'Condition1', 'LotShape', 'Alley', 'GarageType', 'FireplaceQu']\n"
     ]
    }
   ],
   "source": [
    "#Defining a model\n",
    "model = build_tree(data,Y)"
   ]
  },
  {
   "cell_type": "code",
   "execution_count": 18,
   "metadata": {},
   "outputs": [
    {
     "data": {
      "text/plain": [
       "Id                 int64\n",
       "MSSubClass         int64\n",
       "MSZoning          object\n",
       "LotFrontage      float64\n",
       "LotArea            int64\n",
       "Street            object\n",
       "Alley             object\n",
       "LotShape          object\n",
       "LandContour       object\n",
       "Utilities         object\n",
       "LotConfig         object\n",
       "LandSlope         object\n",
       "Neighborhood      object\n",
       "Condition1        object\n",
       "Condition2        object\n",
       "BldgType          object\n",
       "HouseStyle        object\n",
       "OverallQual        int64\n",
       "OverallCond        int64\n",
       "YearBuilt          int64\n",
       "YearRemodAdd       int64\n",
       "RoofStyle         object\n",
       "RoofMatl          object\n",
       "Exterior1st       object\n",
       "Exterior2nd       object\n",
       "MasVnrType        object\n",
       "MasVnrArea       float64\n",
       "ExterQual         object\n",
       "ExterCond         object\n",
       "Foundation        object\n",
       "                  ...   \n",
       "HalfBath           int64\n",
       "BedroomAbvGr       int64\n",
       "KitchenAbvGr       int64\n",
       "KitchenQual       object\n",
       "TotRmsAbvGrd       int64\n",
       "Functional        object\n",
       "Fireplaces         int64\n",
       "FireplaceQu       object\n",
       "GarageType        object\n",
       "GarageYrBlt      float64\n",
       "GarageFinish      object\n",
       "GarageCars         int64\n",
       "GarageArea         int64\n",
       "GarageQual        object\n",
       "GarageCond        object\n",
       "PavedDrive        object\n",
       "WoodDeckSF         int64\n",
       "OpenPorchSF        int64\n",
       "EnclosedPorch      int64\n",
       "3SsnPorch          int64\n",
       "ScreenPorch        int64\n",
       "PoolArea           int64\n",
       "PoolQC            object\n",
       "Fence             object\n",
       "MiscFeature       object\n",
       "MiscVal            int64\n",
       "MoSold             int64\n",
       "YrSold             int64\n",
       "SaleType          object\n",
       "SaleCondition     object\n",
       "Length: 80, dtype: object"
      ]
     },
     "execution_count": 18,
     "metadata": {},
     "output_type": "execute_result"
    }
   ],
   "source": [
    "data.dtypes"
   ]
  },
  {
   "cell_type": "code",
   "execution_count": 22,
   "metadata": {},
   "outputs": [
    {
     "name": "stdout",
     "output_type": "stream",
     "text": [
      "118713.88888888889\n"
     ]
    }
   ],
   "source": [
    "print(predict(model,data.iloc[99,:]))"
   ]
  },
  {
   "cell_type": "code",
   "execution_count": 312,
   "metadata": {},
   "outputs": [
    {
     "name": "stdout",
     "output_type": "stream",
     "text": [
      "0 210500.0\n",
      "1 195500.0\n",
      "2 231083.33333333334\n",
      "3 141365.22222222222\n",
      "4 276400.0\n",
      "5 143700.0\n",
      "6 338608.3333333333\n",
      "7 171090.0\n",
      "8 132280.0\n",
      "9 128011.11111111111\n",
      "10 141687.5\n",
      "11 342472.375\n",
      "12 114193.55555555556\n",
      "13 259649.5\n",
      "14 124166.66666666667\n",
      "15 132633.33333333334\n",
      "16 109334.22222222222\n",
      "17 141687.5\n",
      "18 153625.0\n",
      "19 140750.0\n",
      "20 330490.5\n",
      "21 132450.0\n",
      "22 231980.0\n",
      "23 135575.0\n",
      "24 114193.55555555556\n",
      "25 255867.5\n",
      "26 143925.0\n",
      "27 342472.375\n",
      "28 197483.33333333334\n",
      "29 77475.0\n",
      "30 87680.0\n",
      "31 114193.55555555556\n",
      "32 185005.2\n",
      "33 158000.0\n",
      "34 268500.0\n",
      "35 330490.5\n",
      "36 139200.0\n",
      "37 138175.0\n",
      "38 112314.28571428571\n",
      "39 118785.71428571429\n",
      "40 161218.75\n",
      "41 173333.33333333334\n",
      "42 202250.0\n",
      "43 142362.5\n",
      "44 140750.0\n",
      "45 290531.75\n",
      "46 233337.2\n",
      "47 248992.66666666666\n",
      "48 100200.0\n",
      "49 131483.33333333334\n",
      "50 308750.0\n",
      "51 110416.66666666667\n",
      "52 115250.0\n",
      "53 306125.0\n",
      "54 143350.0\n",
      "55 176280.0\n",
      "56 181900.0\n",
      "57 187033.33333333334\n",
      "58 511120.3333333333\n",
      "59 124300.0\n",
      "60 153625.0\n",
      "61 102272.0\n",
      "62 204833.0\n",
      "63 132280.0\n",
      "64 231980.0\n",
      "65 330490.5\n",
      "66 197483.33333333334\n",
      "67 217877.77777777778\n",
      "68 90063.0\n",
      "69 232687.5\n",
      "70 230333.33333333334\n",
      "71 127937.5\n",
      "72 187166.66666666666\n",
      "73 161218.75\n",
      "74 100200.0\n",
      "75 88000.0\n",
      "76 109334.22222222222\n",
      "77 128011.11111111111\n",
      "78 138750.0\n",
      "79 111275.55555555556\n",
      "80 195066.66666666666\n",
      "81 163766.66666666666\n",
      "82 196000.0\n",
      "83 143350.0\n",
      "84 308750.0\n",
      "85 255519.0\n",
      "86 173757.0\n",
      "87 167644.33333333334\n",
      "88 87680.0\n",
      "89 124300.0\n",
      "90 112314.28571428571\n",
      "91 115500.0\n",
      "92 184383.33333333334\n",
      "93 132280.0\n",
      "94 211883.33333333334\n",
      "95 308750.0\n",
      "96 217877.77777777778\n",
      "97 107781.25\n",
      "98 123500.0\n"
     ]
    },
    {
     "ename": "ValueError",
     "evalue": "'Fa' is not in list",
     "output_type": "error",
     "traceback": [
      "\u001b[0;31m---------------------------------------------------------------------------\u001b[0m",
      "\u001b[0;31mValueError\u001b[0m                                Traceback (most recent call last)",
      "\u001b[0;32m<ipython-input-312-f0793f5faf35>\u001b[0m in \u001b[0;36m<module>\u001b[0;34m()\u001b[0m\n\u001b[1;32m      1\u001b[0m \u001b[0;32mfor\u001b[0m \u001b[0mi\u001b[0m \u001b[0;32min\u001b[0m \u001b[0mrange\u001b[0m\u001b[0;34m(\u001b[0m\u001b[0mlen\u001b[0m\u001b[0;34m(\u001b[0m\u001b[0mY\u001b[0m\u001b[0;34m)\u001b[0m\u001b[0;34m)\u001b[0m\u001b[0;34m:\u001b[0m\u001b[0;34m\u001b[0m\u001b[0m\n\u001b[0;32m----> 2\u001b[0;31m     \u001b[0mprint\u001b[0m\u001b[0;34m(\u001b[0m\u001b[0mi\u001b[0m\u001b[0;34m,\u001b[0m \u001b[0mpredict\u001b[0m\u001b[0;34m(\u001b[0m\u001b[0mmodel\u001b[0m\u001b[0;34m,\u001b[0m\u001b[0mdata\u001b[0m\u001b[0;34m.\u001b[0m\u001b[0miloc\u001b[0m\u001b[0;34m[\u001b[0m\u001b[0mi\u001b[0m\u001b[0;34m,\u001b[0m\u001b[0;34m:\u001b[0m\u001b[0;34m]\u001b[0m\u001b[0;34m)\u001b[0m\u001b[0;34m)\u001b[0m\u001b[0;34m\u001b[0m\u001b[0m\n\u001b[0m",
      "\u001b[0;32m<ipython-input-281-f884a07cd78a>\u001b[0m in \u001b[0;36mpredict\u001b[0;34m(model, X)\u001b[0m\n\u001b[1;32m     19\u001b[0m         \u001b[0;32melse\u001b[0m\u001b[0;34m:\u001b[0m\u001b[0;34m\u001b[0m\u001b[0m\n\u001b[1;32m     20\u001b[0m             \u001b[0midx\u001b[0m \u001b[0;34m=\u001b[0m \u001b[0;34m(\u001b[0m\u001b[0;34m(\u001b[0m\u001b[0mmodel\u001b[0m\u001b[0;34m.\u001b[0m\u001b[0mbest_value\u001b[0m\u001b[0;34m)\u001b[0m\u001b[0;34m.\u001b[0m\u001b[0mtolist\u001b[0m\u001b[0;34m(\u001b[0m\u001b[0;34m)\u001b[0m\u001b[0;34m)\u001b[0m\u001b[0;34m.\u001b[0m\u001b[0mindex\u001b[0m\u001b[0;34m(\u001b[0m\u001b[0mX\u001b[0m\u001b[0;34m[\u001b[0m\u001b[0mmodel\u001b[0m\u001b[0;34m.\u001b[0m\u001b[0mbest_feature\u001b[0m\u001b[0;34m]\u001b[0m\u001b[0;34m)\u001b[0m \u001b[0;31m#index of the particular label\u001b[0m\u001b[0;34m\u001b[0m\u001b[0m\n\u001b[0;32m---> 21\u001b[0;31m             \u001b[0;32mreturn\u001b[0m \u001b[0mpredict\u001b[0m\u001b[0;34m(\u001b[0m\u001b[0;34m(\u001b[0m\u001b[0mmodel\u001b[0m\u001b[0;34m.\u001b[0m\u001b[0mchildren\u001b[0m\u001b[0;34m)\u001b[0m\u001b[0;34m[\u001b[0m\u001b[0midx\u001b[0m\u001b[0;34m]\u001b[0m\u001b[0;34m,\u001b[0m\u001b[0mX\u001b[0m\u001b[0;34m)\u001b[0m  \u001b[0;31m#Go to the label branch\u001b[0m\u001b[0;34m\u001b[0m\u001b[0m\n\u001b[0m\u001b[1;32m     22\u001b[0m \u001b[0;34m\u001b[0m\u001b[0m\n\u001b[1;32m     23\u001b[0m \u001b[0;34m\u001b[0m\u001b[0m\n",
      "\u001b[0;32m<ipython-input-281-f884a07cd78a>\u001b[0m in \u001b[0;36mpredict\u001b[0;34m(model, X)\u001b[0m\n\u001b[1;32m      9\u001b[0m \u001b[0;34m\u001b[0m\u001b[0m\n\u001b[1;32m     10\u001b[0m         \u001b[0;32mif\u001b[0m \u001b[0mX\u001b[0m\u001b[0;34m[\u001b[0m\u001b[0;34m(\u001b[0m\u001b[0mmodel\u001b[0m\u001b[0;34m.\u001b[0m\u001b[0mbest_feature\u001b[0m\u001b[0;34m)\u001b[0m\u001b[0;34m]\u001b[0m \u001b[0;34m<=\u001b[0m \u001b[0mmodel\u001b[0m\u001b[0;34m.\u001b[0m\u001b[0mbest_value\u001b[0m\u001b[0;34m:\u001b[0m \u001b[0;31m#Select the left branch\u001b[0m\u001b[0;34m\u001b[0m\u001b[0m\n\u001b[0;32m---> 11\u001b[0;31m             \u001b[0;32mreturn\u001b[0m \u001b[0mpredict\u001b[0m\u001b[0;34m(\u001b[0m\u001b[0mmodel\u001b[0m\u001b[0;34m.\u001b[0m\u001b[0mchildren\u001b[0m\u001b[0;34m[\u001b[0m\u001b[0;36m0\u001b[0m\u001b[0;34m]\u001b[0m\u001b[0;34m,\u001b[0m \u001b[0mX\u001b[0m\u001b[0;34m)\u001b[0m\u001b[0;34m\u001b[0m\u001b[0m\n\u001b[0m\u001b[1;32m     12\u001b[0m \u001b[0;34m\u001b[0m\u001b[0m\n\u001b[1;32m     13\u001b[0m         \u001b[0;32melse\u001b[0m\u001b[0;34m:\u001b[0m  \u001b[0;31m#Select the right branch\u001b[0m\u001b[0;34m\u001b[0m\u001b[0m\n",
      "\u001b[0;32m<ipython-input-281-f884a07cd78a>\u001b[0m in \u001b[0;36mpredict\u001b[0;34m(model, X)\u001b[0m\n\u001b[1;32m     19\u001b[0m         \u001b[0;32melse\u001b[0m\u001b[0;34m:\u001b[0m\u001b[0;34m\u001b[0m\u001b[0m\n\u001b[1;32m     20\u001b[0m             \u001b[0midx\u001b[0m \u001b[0;34m=\u001b[0m \u001b[0;34m(\u001b[0m\u001b[0;34m(\u001b[0m\u001b[0mmodel\u001b[0m\u001b[0;34m.\u001b[0m\u001b[0mbest_value\u001b[0m\u001b[0;34m)\u001b[0m\u001b[0;34m.\u001b[0m\u001b[0mtolist\u001b[0m\u001b[0;34m(\u001b[0m\u001b[0;34m)\u001b[0m\u001b[0;34m)\u001b[0m\u001b[0;34m.\u001b[0m\u001b[0mindex\u001b[0m\u001b[0;34m(\u001b[0m\u001b[0mX\u001b[0m\u001b[0;34m[\u001b[0m\u001b[0mmodel\u001b[0m\u001b[0;34m.\u001b[0m\u001b[0mbest_feature\u001b[0m\u001b[0;34m]\u001b[0m\u001b[0;34m)\u001b[0m \u001b[0;31m#index of the particular label\u001b[0m\u001b[0;34m\u001b[0m\u001b[0m\n\u001b[0;32m---> 21\u001b[0;31m             \u001b[0;32mreturn\u001b[0m \u001b[0mpredict\u001b[0m\u001b[0;34m(\u001b[0m\u001b[0;34m(\u001b[0m\u001b[0mmodel\u001b[0m\u001b[0;34m.\u001b[0m\u001b[0mchildren\u001b[0m\u001b[0;34m)\u001b[0m\u001b[0;34m[\u001b[0m\u001b[0midx\u001b[0m\u001b[0;34m]\u001b[0m\u001b[0;34m,\u001b[0m\u001b[0mX\u001b[0m\u001b[0;34m)\u001b[0m  \u001b[0;31m#Go to the label branch\u001b[0m\u001b[0;34m\u001b[0m\u001b[0m\n\u001b[0m\u001b[1;32m     22\u001b[0m \u001b[0;34m\u001b[0m\u001b[0m\n\u001b[1;32m     23\u001b[0m \u001b[0;34m\u001b[0m\u001b[0m\n",
      "\u001b[0;32m<ipython-input-281-f884a07cd78a>\u001b[0m in \u001b[0;36mpredict\u001b[0;34m(model, X)\u001b[0m\n\u001b[1;32m     12\u001b[0m \u001b[0;34m\u001b[0m\u001b[0m\n\u001b[1;32m     13\u001b[0m         \u001b[0;32melse\u001b[0m\u001b[0;34m:\u001b[0m  \u001b[0;31m#Select the right branch\u001b[0m\u001b[0;34m\u001b[0m\u001b[0m\n\u001b[0;32m---> 14\u001b[0;31m             \u001b[0;32mreturn\u001b[0m \u001b[0mpredict\u001b[0m\u001b[0;34m(\u001b[0m\u001b[0mmodel\u001b[0m\u001b[0;34m.\u001b[0m\u001b[0mchildren\u001b[0m\u001b[0;34m[\u001b[0m\u001b[0;36m1\u001b[0m\u001b[0;34m]\u001b[0m\u001b[0;34m,\u001b[0m \u001b[0mX\u001b[0m\u001b[0;34m)\u001b[0m\u001b[0;34m\u001b[0m\u001b[0m\n\u001b[0m\u001b[1;32m     15\u001b[0m \u001b[0;34m\u001b[0m\u001b[0m\n\u001b[1;32m     16\u001b[0m     \u001b[0;32melse\u001b[0m\u001b[0;34m:\u001b[0m  \u001b[0;31m#The best feature has discrete values\u001b[0m\u001b[0;34m\u001b[0m\u001b[0m\n",
      "\u001b[0;32m<ipython-input-281-f884a07cd78a>\u001b[0m in \u001b[0;36mpredict\u001b[0;34m(model, X)\u001b[0m\n\u001b[1;32m      6\u001b[0m     \u001b[0;32melif\u001b[0m \u001b[0;34m(\u001b[0m\u001b[0;34m(\u001b[0m\u001b[0;34m(\u001b[0m\u001b[0mmodel\u001b[0m\u001b[0;34m.\u001b[0m\u001b[0mbest_value\u001b[0m\u001b[0;34m)\u001b[0m\u001b[0;34m.\u001b[0m\u001b[0mdtype\u001b[0m \u001b[0;34m==\u001b[0m \u001b[0mint\u001b[0m\u001b[0;34m)\u001b[0m \u001b[0;32mor\u001b[0m \u001b[0;34m(\u001b[0m\u001b[0;34m(\u001b[0m\u001b[0mmodel\u001b[0m\u001b[0;34m.\u001b[0m\u001b[0mbest_value\u001b[0m\u001b[0;34m)\u001b[0m\u001b[0;34m.\u001b[0m\u001b[0mdtype\u001b[0m \u001b[0;34m==\u001b[0m \u001b[0mfloat\u001b[0m\u001b[0;34m)\u001b[0m\u001b[0;34m)\u001b[0m\u001b[0;34m:\u001b[0m  \u001b[0;31m#if best_feature is numeric\u001b[0m\u001b[0;34m\u001b[0m\u001b[0m\n\u001b[1;32m      7\u001b[0m         \u001b[0;32mif\u001b[0m \u001b[0;32mnot\u001b[0m\u001b[0;34m(\u001b[0m\u001b[0mX\u001b[0m\u001b[0;34m[\u001b[0m\u001b[0;34m(\u001b[0m\u001b[0mmodel\u001b[0m\u001b[0;34m.\u001b[0m\u001b[0mbest_feature\u001b[0m\u001b[0;34m)\u001b[0m\u001b[0;34m]\u001b[0m\u001b[0;34m==\u001b[0m\u001b[0mX\u001b[0m\u001b[0;34m[\u001b[0m\u001b[0;34m(\u001b[0m\u001b[0mmodel\u001b[0m\u001b[0;34m.\u001b[0m\u001b[0mbest_feature\u001b[0m\u001b[0;34m)\u001b[0m\u001b[0;34m]\u001b[0m\u001b[0;34m)\u001b[0m\u001b[0;34m:\u001b[0m\u001b[0;34m\u001b[0m\u001b[0m\n\u001b[0;32m----> 8\u001b[0;31m             \u001b[0;32mreturn\u001b[0m \u001b[0mpredict\u001b[0m\u001b[0;34m(\u001b[0m\u001b[0mmodel\u001b[0m\u001b[0;34m.\u001b[0m\u001b[0mchildren\u001b[0m\u001b[0;34m[\u001b[0m\u001b[0;36m0\u001b[0m\u001b[0;34m]\u001b[0m\u001b[0;34m,\u001b[0m \u001b[0mX\u001b[0m\u001b[0;34m)\u001b[0m\u001b[0;34m\u001b[0m\u001b[0m\n\u001b[0m\u001b[1;32m      9\u001b[0m \u001b[0;34m\u001b[0m\u001b[0m\n\u001b[1;32m     10\u001b[0m         \u001b[0;32mif\u001b[0m \u001b[0mX\u001b[0m\u001b[0;34m[\u001b[0m\u001b[0;34m(\u001b[0m\u001b[0mmodel\u001b[0m\u001b[0;34m.\u001b[0m\u001b[0mbest_feature\u001b[0m\u001b[0;34m)\u001b[0m\u001b[0;34m]\u001b[0m \u001b[0;34m<=\u001b[0m \u001b[0mmodel\u001b[0m\u001b[0;34m.\u001b[0m\u001b[0mbest_value\u001b[0m\u001b[0;34m:\u001b[0m \u001b[0;31m#Select the left branch\u001b[0m\u001b[0;34m\u001b[0m\u001b[0m\n",
      "\u001b[0;32m<ipython-input-281-f884a07cd78a>\u001b[0m in \u001b[0;36mpredict\u001b[0;34m(model, X)\u001b[0m\n\u001b[1;32m     18\u001b[0m             \u001b[0;32mreturn\u001b[0m \u001b[0mpredict\u001b[0m\u001b[0;34m(\u001b[0m\u001b[0;34m(\u001b[0m\u001b[0mmodel\u001b[0m\u001b[0;34m.\u001b[0m\u001b[0mchildren\u001b[0m\u001b[0;34m[\u001b[0m\u001b[0;36m0\u001b[0m\u001b[0;34m]\u001b[0m\u001b[0;34m)\u001b[0m\u001b[0;34m,\u001b[0m\u001b[0mX\u001b[0m\u001b[0;34m)\u001b[0m\u001b[0;34m\u001b[0m\u001b[0m\n\u001b[1;32m     19\u001b[0m         \u001b[0;32melse\u001b[0m\u001b[0;34m:\u001b[0m\u001b[0;34m\u001b[0m\u001b[0m\n\u001b[0;32m---> 20\u001b[0;31m             \u001b[0midx\u001b[0m \u001b[0;34m=\u001b[0m \u001b[0;34m(\u001b[0m\u001b[0;34m(\u001b[0m\u001b[0mmodel\u001b[0m\u001b[0;34m.\u001b[0m\u001b[0mbest_value\u001b[0m\u001b[0;34m)\u001b[0m\u001b[0;34m.\u001b[0m\u001b[0mtolist\u001b[0m\u001b[0;34m(\u001b[0m\u001b[0;34m)\u001b[0m\u001b[0;34m)\u001b[0m\u001b[0;34m.\u001b[0m\u001b[0mindex\u001b[0m\u001b[0;34m(\u001b[0m\u001b[0mX\u001b[0m\u001b[0;34m[\u001b[0m\u001b[0mmodel\u001b[0m\u001b[0;34m.\u001b[0m\u001b[0mbest_feature\u001b[0m\u001b[0;34m]\u001b[0m\u001b[0;34m)\u001b[0m \u001b[0;31m#index of the particular label\u001b[0m\u001b[0;34m\u001b[0m\u001b[0m\n\u001b[0m\u001b[1;32m     21\u001b[0m             \u001b[0;32mreturn\u001b[0m \u001b[0mpredict\u001b[0m\u001b[0;34m(\u001b[0m\u001b[0;34m(\u001b[0m\u001b[0mmodel\u001b[0m\u001b[0;34m.\u001b[0m\u001b[0mchildren\u001b[0m\u001b[0;34m)\u001b[0m\u001b[0;34m[\u001b[0m\u001b[0midx\u001b[0m\u001b[0;34m]\u001b[0m\u001b[0;34m,\u001b[0m\u001b[0mX\u001b[0m\u001b[0;34m)\u001b[0m  \u001b[0;31m#Go to the label branch\u001b[0m\u001b[0;34m\u001b[0m\u001b[0m\n\u001b[1;32m     22\u001b[0m \u001b[0;34m\u001b[0m\u001b[0m\n",
      "\u001b[0;31mValueError\u001b[0m: 'Fa' is not in list"
     ]
    }
   ],
   "source": [
    "for i in range(len(Y)):\n",
    "    print(i, predict(model,data.iloc[i,:]))"
   ]
  },
  {
   "cell_type": "code",
   "execution_count": 23,
   "metadata": {
    "scrolled": true
   },
   "outputs": [
    {
     "name": "stdout",
     "output_type": "stream",
     "text": [
      "[210500.0, 195500.0, 231083.33333333334, 141365.22222222222, 276400.0, 143700.0, 338608.3333333333, 171090.0, 132280.0, 128011.11111111111, 141687.5, 342472.375, 114193.55555555556, 259649.5, 145225.0, 132633.33333333334, 132757.14285714287, 141687.5, 153625.0, 138207.14285714287, 330490.5, 132450.0, 231980.0, 135575.0, 114193.55555555556, 255867.5, 127425.0, 342472.375, 239833.33333333334, 77475.0, 87680.0, 114193.55555555556, 185005.2, 152800.0, 268500.0, 330490.5, 139200.0, 155450.0, 118713.88888888889, 114937.5, 161218.75, 173333.33333333334, 202250.0, 142362.5, 145225.0, 290531.75, 233337.2, 248992.66666666666, 100200.0, 131483.33333333334, 308750.0, 110416.66666666667, 115250.0, 306125.0, 118713.88888888889, 176280.0, 181900.0, 187033.33333333334, 511120.3333333333, 124300.0, 153625.0, 102272.0, 204833.0, 132280.0, 231980.0, 330490.5, 156685.7142857143, 217877.77777777778, 90063.0, 232687.5, 230333.33333333334, 127937.5, 187166.66666666666, 161218.75, 100200.0, 88000.0, 119350.0, 128011.11111111111, 138750.0, 111275.55555555556, 195066.66666666666, 163766.66666666666, 196000.0, 149166.66666666666, 308750.0, 255519.0, 173757.0, 167644.33333333334, 87680.0, 124300.0, 120525.0, 115500.0, 184383.33333333334, 132280.0, 211883.33333333334, 308750.0, 217877.77777777778, 105825.0, 137190.0, 118713.88888888889, 171090.0, 174225.0, 114422.2, 211883.33333333334, 142416.66666666666, 251980.0, 100000.0, 112700.0, 87680.0, 194015.0, 142740.0, 308750.0, 404420.0, 209166.66666666666, 209166.66666666666, 181900.0, 114193.55555555556, 162666.66666666666, 288130.0, 158557.5, 232687.5, 102272.0, 138590.0, 172988.88888888888, 171090.0, 87680.0, 142694.44444444444, 90063.0, 156685.7142857143, 152800.0, 230333.33333333334, 308750.0, 149916.66666666666, 182840.0, 141687.5, 157822.22222222222, 145225.0, 163766.66666666666, 231980.0, 231083.33333333334, 107358.28571428571, 231083.33333333334, 149166.66666666666, 208167.125, 141687.5, 127500.0, 110416.66666666667, 308750.0, 114422.2, 118666.66666666667, 124300.0, 386272.22222222225, 171090.0, 232687.5, 111275.55555555556, 114937.5, 120525.0, 279407.6, 251980.0, 266281.25, 306125.0, 394396.6666666667, 215250.0, 90063.0, 139222.22222222222, 114937.5, 135810.66666666666, 342472.375, 187820.0, 182840.0, 132280.0, 195066.66666666666, 234125.0, 156685.7142857143, 182840.0, 227958.33333333334, 205750.0, 114193.55555555556, 367123.77777777775, 100000.0, 181900.0, 184383.33333333334, 114937.5, 152225.0, 128011.11111111111, 323395.8, 163766.66666666666, 139222.22222222222, 146763.33333333334, 234125.0, 315300.0, 151700.0, 196544.44444444444, 127500.0, 124300.0, 142694.44444444444, 338608.3333333333, 230333.33333333334, 100200.0, 280053.25, 137190.0, 163766.66666666666, 112700.0, 142362.5, 109875.0, 180817.0, 114193.55555555556, 138000.0, 172988.88888888888, 143333.33333333334, 114937.5, 137190.0, 248992.66666666666, 142362.5, 158557.5, 138207.14285714287, 196544.44444444444, 90063.0, 248000.0, 164958.75, 211883.33333333334, 308750.0, 182460.0, 107358.28571428571, 386272.22222222225, 95590.0, 276400.0, 95590.0, 132750.0, 190783.1, 145225.0, 347633.6, 95590.0, 139200.0, 308750.0, 95590.0, 185005.2, 202250.0, 290531.75, 92633.33333333333, 263316.0, 90063.0, 105340.0, 114422.2, 172988.88888888888, 194015.0, 139222.22222222222, 138590.0, 187033.33333333334, 232687.5, 83750.0, 248000.0, 172988.88888888888, 161218.75, 145225.0, 222500.0, 210900.0, 217877.77777777778, 231083.33333333334, 94150.0, 176280.0, 281677.5714285714, 158583.33333333334, 114780.0, 85157.0, 171090.0, 185166.25, 185125.0, 115250.0, 142740.0, 264739.1666666667, 232687.5, 276400.0, 145225.0, 127937.5, 185697.22222222222, 233337.2, 143000.0, 386272.22222222225, 232687.5, 229375.0, 192272.22222222222, 215250.0, 248992.66666666666, 172988.88888888888, 167644.33333333334, 161000.0, 120525.0, 114193.55555555556, 185697.22222222222, 236115.0, 119994.44444444444, 133000.0, 171090.0, 239833.33333333334, 143700.0, 142416.66666666666, 240000.0, 194015.0, 151000.0, 151000.0, 281677.5714285714, 211883.33333333334, 139200.0, 323395.8, 281677.5714285714, 229375.0, 87680.0, 139500.0, 386272.22222222225, 308750.0, 132757.14285714287, 114780.0, 374466.6666666667, 164771.42857142858, 190166.66666666666, 257000.0, 264739.1666666667, 255519.0, 202500.0, 330490.5, 330490.5, 288130.0, 138645.83333333334, 230333.33333333334, 102272.0, 306125.0, 145225.0, 145057.14285714287, 87680.0, 138207.14285714287, 138000.0, 255867.5, 204833.0, 185166.25, 257546.16666666666, 367123.77777777775, 217877.77777777778, 182460.0, 156966.66666666666, 279407.6, 114422.2, 135250.0, 290531.75, 88000.0, 185697.22222222222, 120525.0, 239833.33333333334, 168562.5, 461077.0, 290531.75, 232687.5, 114937.5, 152225.0, 145204.85714285713, 185005.2, 308750.0, 135575.0, 135810.66666666666, 255519.0, 143700.0, 145057.14285714287, 181950.0, 118750.0, 171090.0, 142416.66666666666, 168100.0, 161218.75, 151700.0, 151700.0, 308750.0, 135810.66666666666, 114422.2, 120233.33333333333, 202983.33333333334, 78000.0, 142362.5, 311245.4, 367123.77777777775, 179300.0, 119994.44444444444, 192272.22222222222, 208167.125, 114422.2, 232687.5, 190783.1, 78000.0, 142740.0, 195500.0, 394396.6666666667, 117333.33333333333, 233337.2, 120525.0, 118666.66666666667, 109875.0, 142740.0, 139200.0, 156685.7142857143, 87680.0, 240000.0, 306125.0, 158557.5, 114193.55555555556, 255519.0, 308750.0, 114193.55555555556, 119994.44444444444, 177316.66666666666, 290531.75, 311245.4, 78000.0, 143000.0, 181900.0, 112700.0, 202250.0, 180817.0, 158583.33333333334, 236600.0, 114937.5, 138207.14285714287, 197150.0, 171090.0, 125812.5, 315281.25, 145225.0, 139222.22222222222, 172988.88888888888, 107358.28571428571, 196544.44444444444, 173333.33333333334, 95590.0, 90063.0, 119625.0, 179513.33333333334, 82250.0, 210500.0, 111275.55555555556, 118666.66666666667, 105050.0, 127500.0, 550385.0, 137190.0, 145057.14285714287, 164958.75, 231083.33333333334, 142740.0, 195066.66666666666, 308750.0, 142416.66666666666, 118450.0, 109875.0, 232687.5, 182840.0, 210900.0, 197150.0, 157822.22222222222, 111275.55555555556, 135810.66666666666, 139222.22222222222, 118666.66666666667, 264739.1666666667, 145204.85714285713, 114193.55555555556, 184383.33333333334, 124300.0, 190783.1, 230333.33333333334, 143100.0, 255867.5, 174225.0, 234125.0, 194015.0, 144333.33333333334, 386272.22222222225, 234125.0, 141875.0, 217877.77777777778, 394396.6666666667, 281677.5714285714, 85157.0, 386272.22222222225, 386272.22222222225, 139222.22222222222, 163766.66666666666, 114193.55555555556, 143100.0, 152800.0, 171090.0, 156750.0, 82250.0, 88000.0, 127833.33333333333, 173757.0, 149166.66666666666, 94150.0, 87680.0, 406000.0, 185697.22222222222, 132750.0, 120525.0, 119625.0, 226813.75, 142740.0, 315300.0, 142694.44444444444, 132280.0, 229375.0, 192272.22222222222, 164771.42857142858, 124125.0, 156966.66666666666, 204833.0, 132757.14285714287, 127937.5, 141365.22222222222, 342472.375, 202500.0, 315281.25, 210500.0, 248000.0, 90063.0, 136625.0, 145057.14285714287, 227958.33333333334, 315281.25, 192272.22222222222, 132500.0, 394396.6666666667, 139500.0, 209166.66666666666, 173333.33333333334, 110416.66666666667, 107358.28571428571, 77475.0, 179513.33333333334, 142740.0, 187033.33333333334, 107358.28571428571, 114193.55555555556, 281677.5714285714, 279407.6, 406000.0, 218416.66666666666, 132500.0, 185166.25, 218416.66666666666, 185697.22222222222, 127937.5, 138645.83333333334, 311245.4, 142694.44444444444, 112700.0, 280053.25, 105825.0, 290531.75, 110416.66666666667, 151700.0, 102272.0, 173757.0, 248379.66666666666, 114193.55555555556, 163766.66666666666, 142740.0, 142740.0, 406000.0, 119994.44444444444, 367123.77777777775, 215250.0, 288130.0, 132500.0, 143100.0, 124125.0, 182840.0, 163644.0, 138207.14285714287, 120233.33333333333, 119994.44444444444, 155333.33333333334, 145076.0, 132280.0, 138207.14285714287, 290531.75, 137190.0, 323395.8, 145057.14285714287, 374466.6666666667, 128011.11111111111, 132750.0, 135810.66666666666, 83750.0, 187033.33333333334, 550385.0, 143700.0, 142362.5, 111250.0, 367123.77777777775, 90063.0, 190783.1, 236600.0, 137500.0, 280053.25, 142416.66666666666, 229375.0, 156050.0, 217877.77777777778, 230333.33333333334, 148833.33333333334, 227958.33333333334, 315300.0, 114193.55555555556, 281677.5714285714, 171090.0, 231083.33333333334, 163766.66666666666, 82250.0, 152800.0, 308750.0, 107358.28571428571, 280053.25, 279407.6, 78000.0, 257000.0, 131483.33333333334, 181900.0, 194015.0, 161218.75, 145225.0, 145225.0, 138207.14285714287, 176280.0, 105340.0, 204833.0, 108750.0, 143100.0, 138645.83333333334, 119994.44444444444, 128011.11111111111, 100200.0, 114937.5, 248379.66666666666, 268500.0, 181900.0, 239833.33333333334, 157822.22222222222, 338608.3333333333, 132757.14285714287, 119350.0, 137190.0, 156685.7142857143, 82250.0, 192272.22222222222, 105825.0, 187033.33333333334, 87680.0, 315281.25, 95590.0, 138000.0, 141365.22222222222, 118713.88888888889, 142740.0, 171090.0, 406000.0, 115500.0, 137190.0, 338608.3333333333, 266281.25, 149916.66666666666, 202250.0, 114193.55555555556, 151000.0, 164667.5, 105825.0, 306125.0, 236600.0, 138000.0, 142694.44444444444, 105340.0, 112700.0, 367123.77777777775, 114193.55555555556, 114422.2, 145204.85714285713, 232687.5, 281677.5714285714, 255519.0, 234125.0, 226813.75, 156050.0, 367123.77777777775, 190275.0, 142362.5, 708333.3333333334, 257546.16666666666, 111275.55555555556, 145057.14285714287, 182840.0, 77475.0, 139500.0, 141875.0, 192272.22222222222, 279407.6, 157822.22222222222, 367123.77777777775, 152225.0, 217877.77777777778, 87680.0, 232687.5, 268500.0, 179513.33333333334, 114193.55555555556, 77475.0, 102272.0, 234125.0, 128011.11111111111, 114193.55555555556, 171090.0, 164771.42857142858, 157822.22222222222, 347633.6, 131316.66666666666, 234125.0, 142362.5, 127425.0, 133000.0, 227958.33333333334, 107358.28571428571, 209166.66666666666, 196544.44444444444, 136625.0, 102272.0, 234125.0, 257546.16666666666, 208167.125, 131483.33333333334, 114193.55555555556, 164771.42857142858, 135250.0, 266281.25, 142740.0, 187033.33333333334, 147375.0, 141875.0, 172988.88888888888, 158583.33333333334, 234125.0, 202500.0, 308750.0, 323395.8, 255519.0, 78000.0, 90063.0, 308750.0, 217877.77777777778, 278833.3333333333, 145833.33333333334, 181900.0, 202983.33333333334, 114193.55555555556, 181900.0, 315281.25, 127425.0, 110416.66666666667, 210900.0, 315281.25, 306125.0, 263316.0, 194015.0, 143700.0, 208167.125, 511120.3333333333, 114193.55555555556, 105825.0, 137190.0, 120525.0, 394396.6666666667, 163766.66666666666, 211883.33333333334, 132750.0, 146763.33333333334, 143700.0, 174552.77777777778, 172988.88888888888, 185005.2, 163766.66666666666, 132280.0, 171090.0, 132280.0, 229375.0, 112700.0, 232687.5, 164958.75, 127937.5, 255519.0, 226813.75, 308750.0, 172988.88888888888, 138750.0, 107358.28571428571, 461077.0, 185125.0, 232687.5, 102272.0, 196544.44444444444, 550385.0, 127833.33333333333, 226813.75, 135250.0, 185697.22222222222, 161218.75, 105340.0, 171090.0, 142362.5, 45652.0, 155450.0, 117333.33333333333, 230950.0, 120525.0, 233337.2, 232687.5, 215250.0, 187033.33333333334, 85157.0, 308750.0, 145204.85714285713, 235886.5, 394396.6666666667, 128011.11111111111, 202250.0, 135810.66666666666, 156050.0, 168100.0, 156050.0, 230950.0, 161218.75, 138590.0, 114193.55555555556, 156750.0, 95590.0, 148833.33333333334, 114937.5, 119994.44444444444, 147375.0, 161218.75, 138590.0, 164771.42857142858, 114193.55555555556, 202250.0, 142362.5, 232687.5, 195500.0, 142362.5, 190783.1, 141365.22222222222, 152800.0, 158583.33333333334, 114193.55555555556, 142362.5, 174552.77777777778, 157822.22222222222, 202500.0, 177316.66666666666, 131483.33333333334, 174225.0, 127833.33333333333, 235886.5, 132757.14285714287, 257546.16666666666, 132750.0, 308750.0, 229375.0, 107358.28571428571, 202983.33333333334, 119350.0, 138590.0, 90063.0, 311245.4, 125812.5, 342472.375, 158583.33333333334, 142362.5, 162666.66666666666, 182840.0, 308750.0, 145204.85714285713, 107358.28571428571, 338608.3333333333, 151700.0, 139500.0, 230333.33333333334, 136625.0, 127425.0, 155333.33333333334, 141875.0, 114193.55555555556, 114422.2, 156685.7142857143, 102272.0, 146763.33333333334, 550385.0, 131483.33333333334, 120525.0, 149916.66666666666, 179300.0, 308750.0, 114193.55555555556, 138000.0, 264739.1666666667, 315300.0, 127937.5, 173757.0, 156685.7142857143, 158557.5, 83750.0, 141365.22222222222, 167644.33333333334, 82250.0, 45652.0, 142740.0, 229375.0, 176280.0, 202250.0, 142740.0, 174552.77777777778, 172988.88888888888, 202500.0, 171090.0, 290531.75, 171090.0, 208167.125, 308750.0, 182840.0, 119350.0, 264739.1666666667, 211000.0, 230333.33333333334, 77475.0, 172988.88888888888, 251980.0, 259649.5, 232687.5, 163766.66666666666, 308750.0, 78000.0, 125812.5, 257546.16666666666, 105340.0, 145225.0, 279407.6, 208167.125, 202500.0, 124125.0, 114422.2, 131316.66666666666, 127937.5, 139500.0, 141365.22222222222, 137500.0, 141687.5, 196544.44444444444, 156050.0, 128011.11111111111, 202500.0, 142694.44444444444, 236115.0, 257546.16666666666, 179300.0, 184383.33333333334, 127833.33333333333, 90063.0, 138000.0, 120233.33333333333, 168562.5, 114422.2, 235886.5, 185697.22222222222, 156050.0, 128011.11111111111, 181900.0, 105825.0, 141687.5, 145833.33333333334, 347633.6, 164958.75, 281677.5714285714, 127937.5, 142740.0, 139222.22222222222, 394396.6666666667, 171090.0, 192272.22222222222, 315281.25, 164771.42857142858, 180500.0, 187033.33333333334, 386272.22222222225, 128011.11111111111, 132757.14285714287, 202500.0, 80133.33333333333, 196544.44444444444, 78000.0, 90063.0, 235886.5, 171090.0, 190783.1, 139200.0, 239833.33333333334, 82250.0, 233337.2, 119994.44444444444, 138750.0, 92633.33333333333, 177316.66666666666, 114780.0, 120233.33333333333, 218416.66666666666, 208167.125, 234125.0, 308750.0, 190783.1, 162666.66666666666, 196544.44444444444, 90063.0, 190783.1, 257546.16666666666, 111250.0, 168100.0, 257546.16666666666, 118713.88888888889, 119625.0, 119994.44444444444, 185125.0, 406000.0, 211883.33333333334, 105050.0, 78000.0, 279407.6, 281677.5714285714, 82250.0, 82250.0, 141687.5, 171090.0, 215250.0, 288130.0, 257000.0, 139500.0, 511120.3333333333, 142362.5, 125812.5, 92633.33333333333, 174552.77777777778, 185005.2, 195066.66666666666, 142740.0, 264650.0, 182460.0, 190275.0, 406000.0, 330490.5, 209166.66666666666, 234125.0, 80133.33333333333, 105340.0, 109875.0, 152800.0, 232687.5, 174552.77777777778, 168100.0, 135575.0, 135250.0, 132757.14285714287, 171090.0, 78000.0, 139500.0, 211883.33333333334, 184383.33333333334, 164771.42857142858, 151700.0, 142362.5, 131316.66666666666, 157822.22222222222, 132750.0, 185005.2, 156685.7142857143, 308750.0, 172988.88888888888, 88000.0, 251980.0, 127500.0, 181900.0, 119350.0, 156050.0, 119994.44444444444, 149916.66666666666, 132757.14285714287, 185005.2, 87680.0, 234125.0, 128011.11111111111, 157822.22222222222, 119994.44444444444, 120525.0, 138000.0, 151700.0, 95590.0, 347633.6, 174225.0, 266281.25, 308750.0, 278833.3333333333, 308750.0, 194015.0, 132757.14285714287, 145833.33333333334, 112700.0, 342472.375, 308750.0, 114193.55555555556, 138750.0, 120525.0, 87680.0, 211883.33333333334, 78000.0, 114937.5, 308750.0, 119350.0, 190783.1, 239105.0, 222500.0, 138645.83333333334, 145204.85714285713, 127937.5, 105340.0, 229375.0, 174552.77777777778, 110416.66666666667, 118713.88888888889, 114193.55555555556, 197150.0, 128011.11111111111, 132757.14285714287, 171090.0, 404420.0, 114193.55555555556, 92633.33333333333, 145057.14285714287, 114422.2, 184383.33333333334, 118450.0, 147375.0, 120525.0, 137190.0, 236600.0, 102272.0, 168100.0, 195500.0, 176280.0, 215250.0, 235886.5, 171090.0, 142694.44444444444, 209166.66666666666, 131483.33333333334, 114193.55555555556, 306125.0, 255867.5, 281677.5714285714, 173757.0, 227958.33333333334, 708333.3333333334, 163766.66666666666, 161000.0, 156050.0, 205750.0, 236600.0, 255519.0, 127937.5, 90063.0, 141365.22222222222, 114937.5, 182840.0, 315300.0, 708333.3333333334, 114780.0, 182840.0, 105825.0, 105340.0, 276400.0, 187033.33333333334, 190166.66666666666, 163766.66666666666, 181900.0, 139222.22222222222, 163766.66666666666, 158583.33333333334, 174552.77777777778, 239105.0, 132280.0, 185005.2, 141687.5, 120525.0, 202983.33333333334, 118666.66666666667, 208167.125, 171090.0, 288130.0, 114422.2, 208167.125, 138207.14285714287, 338608.3333333333, 202250.0, 163644.0, 114937.5, 114193.55555555556, 132757.14285714287, 141687.5, 141687.5, 235886.5, 77475.0, 95590.0, 120525.0, 114193.55555555556, 143333.33333333334, 115500.0, 185166.25, 145225.0, 264739.1666666667, 145833.33333333334, 342472.375, 127833.33333333333, 114193.55555555556, 127833.33333333333, 118713.88888888889, 152800.0, 119994.44444444444, 141365.22222222222, 168562.5, 202983.33333333334, 153625.0, 257546.16666666666, 231980.0, 235886.5, 182460.0, 386272.22222222225, 105050.0, 171090.0, 192272.22222222222, 127937.5, 132280.0, 120525.0, 230333.33333333334, 168562.5, 127937.5, 306125.0, 181950.0, 128011.11111111111, 315281.25, 114937.5, 187166.66666666666, 156966.66666666666, 308750.0, 119350.0, 135810.66666666666, 185697.22222222222, 151700.0, 181900.0, 132280.0, 374466.6666666667, 248000.0, 138590.0, 232687.5, 171090.0, 114193.55555555556, 137190.0, 141365.22222222222, 136625.0, 171090.0, 171090.0, 231083.33333333334, 80133.33333333333, 217877.77777777778, 182840.0, 148833.33333333334, 125812.5, 145204.85714285713, 145057.14285714287, 171090.0, 135810.66666666666, 234125.0, 278833.3333333333, 152800.0, 118750.0, 105340.0, 171090.0, 105825.0, 138000.0, 152800.0, 144333.33333333334, 227958.33333333334, 145225.0, 308750.0, 105050.0, 276400.0, 235886.5, 127500.0, 342472.375, 204833.0, 131316.66666666666, 138645.83333333334, 172988.88888888888, 315300.0, 196544.44444444444, 406000.0, 347633.6, 114937.5, 195066.66666666666, 281677.5714285714, 192272.22222222222, 281677.5714285714, 114937.5, 161000.0, 77475.0, 255519.0, 77475.0, 196000.0, 87680.0, 114937.5, 127937.5, 323395.8, 174552.77777777778, 235886.5, 142362.5, 105825.0, 142416.66666666666, 119625.0, 157822.22222222222, 108750.0, 90063.0, 195500.0, 131316.66666666666, 120525.0, 153625.0, 208167.125, 209166.66666666666, 164667.5, 111275.55555555556, 171090.0, 279407.6, 202250.0, 105340.0, 195066.66666666666, 168100.0, 132633.33333333334, 406000.0, 211883.33333333334, 194015.0, 107358.28571428571, 151700.0, 181900.0, 394396.6666666667, 185125.0, 367123.77777777775, 138207.14285714287, 163644.0, 145076.0, 181900.0, 202983.33333333334, 135575.0, 142362.5, 211000.0, 111275.55555555556, 161000.0, 264650.0, 406000.0, 251980.0, 279407.6, 119994.44444444444, 117333.33333333333, 95590.0, 182840.0, 78000.0, 151700.0, 147375.0, 114193.55555555556, 114937.5, 132450.0, 257000.0, 139222.22222222222, 308750.0, 132633.33333333334, 231980.0, 118713.88888888889, 124125.0, 152225.0, 248379.66666666666, 279407.6, 182840.0, 145057.14285714287, 138207.14285714287, 119994.44444444444, 118666.66666666667, 190166.66666666666, 185005.2, 285006.0, 111275.55555555556, 248000.0, 131316.66666666666, 127937.5, 111275.55555555556, 218416.66666666666, 231083.33333333334, 143100.0, 119350.0, 288130.0, 185697.22222222222, 190783.1, 105340.0, 406000.0, 127833.33333333333, 209166.66666666666, 182460.0, 142694.44444444444, 142362.5, 139500.0, 138207.14285714287, 143333.33333333334, 255519.0, 118713.88888888889, 114780.0, 171090.0, 187820.0, 142694.44444444444, 90063.0, 187166.66666666666, 163766.66666666666, 180500.0, 120525.0, 394396.6666666667, 138645.83333333334, 194015.0, 209166.66666666666, 142362.5, 311245.4, 118666.66666666667, 185005.2, 155333.33333333334, 163766.66666666666, 231980.0, 105825.0, 82250.0, 138207.14285714287, 285006.0, 144333.33333333334, 125812.5, 192272.22222222222, 174552.77777777778, 194015.0, 315300.0, 118713.88888888889, 142740.0]\n"
     ]
    }
   ],
   "source": [
    "#Predicting data\n",
    "predictions =[]\n",
    "for i in range(len(Y)):\n",
    "    predictions.append(predict(model,data.iloc[i,:]))\n",
    "print(predictions)"
   ]
  },
  {
   "cell_type": "code",
   "execution_count": 24,
   "metadata": {
    "scrolled": true
   },
   "outputs": [
    {
     "data": {
      "text/plain": [
       "0       208500\n",
       "1       181500\n",
       "2       223500\n",
       "3       140000\n",
       "4       250000\n",
       "5       143000\n",
       "6       307000\n",
       "7       200000\n",
       "8       129900\n",
       "9       118000\n",
       "10      129500\n",
       "11      345000\n",
       "12      144000\n",
       "13      279500\n",
       "14      157000\n",
       "15      132000\n",
       "16      149000\n",
       "17       90000\n",
       "18      159000\n",
       "19      139000\n",
       "20      325300\n",
       "21      139400\n",
       "22      230000\n",
       "23      129900\n",
       "24      154000\n",
       "25      256300\n",
       "26      134800\n",
       "27      306000\n",
       "28      207500\n",
       "29       68500\n",
       "         ...  \n",
       "1430    192140\n",
       "1431    143750\n",
       "1432     64500\n",
       "1433    186500\n",
       "1434    160000\n",
       "1435    174000\n",
       "1436    120500\n",
       "1437    394617\n",
       "1438    149700\n",
       "1439    197000\n",
       "1440    191000\n",
       "1441    149300\n",
       "1442    310000\n",
       "1443    121000\n",
       "1444    179600\n",
       "1445    129000\n",
       "1446    157900\n",
       "1447    240000\n",
       "1448    112000\n",
       "1449     92000\n",
       "1450    136000\n",
       "1451    287090\n",
       "1452    145000\n",
       "1453     84500\n",
       "1454    185000\n",
       "1455    175000\n",
       "1456    210000\n",
       "1457    266500\n",
       "1458    142125\n",
       "1459    147500\n",
       "Name: SalePrice, Length: 1460, dtype: int64"
      ]
     },
     "execution_count": 24,
     "metadata": {},
     "output_type": "execute_result"
    }
   ],
   "source": [
    "#Actual data\n",
    "Y"
   ]
  },
  {
   "cell_type": "code",
   "execution_count": 27,
   "metadata": {},
   "outputs": [
    {
     "data": {
      "text/plain": [
       "17893.14267829963"
      ]
     },
     "execution_count": 27,
     "metadata": {},
     "output_type": "execute_result"
    }
   ],
   "source": [
    "abs(Y - predictions ).mean()"
   ]
  },
  {
   "cell_type": "markdown",
   "metadata": {},
   "source": [
    "# Random Forest"
   ]
  },
  {
   "cell_type": "markdown",
   "metadata": {},
   "source": [
    "We will create a class for the random forest.\n",
    "It will have characteristics of:\n",
    "   * fraction of rows to use per tree(will not be used in this forest since it is not a binary search tree forest)\n",
    "   * fraction of features to use per tree\n",
    "   * number of trees\n",
    "   * tolerance for standard deviation(in percentage of the original standard deviation)\n",
    "   * trees\n",
    "    \n",
    "And two methods:\n",
    "   * fit  (will fit the data)\n",
    "   * predictor  (will predict for a given data)"
   ]
  },
  {
   "cell_type": "code",
   "execution_count": 45,
   "metadata": {},
   "outputs": [],
   "source": [
    "class RandomForest:\n",
    "    def __init__(self, frac_value_rows=0.6, frac_value_cols=0.6, n_trees=10,tol=5):  #Defining the hyperparameters\n",
    "        self.frac_value_rows = frac_value_rows  #the fraction of rows we want per tree\n",
    "        self.frac_value_cols = frac_value_cols  #the fraction of features we want per tree\n",
    "        self.n_trees = n_trees  #number of trees in the forest\n",
    "        self.tol = tol  #tolerance for the standard deviation (in percentage of actual deviation)\n",
    "        \n",
    "    #Module to fit the data\n",
    "    def fit(self,data,target):\n",
    "        self.trees=[]\n",
    "        for i in range(self.n_trees):\n",
    "            rand_data = data.sample(frac = self.frac_value_cols, axis=1) #Generate random data per tree\n",
    "            rand_Y = target[rand_data.index]  \n",
    "            (self.trees).append(build_tree(rand_data,rand_Y,self.tol)) #add trees to the list\n",
    "        return self.trees\n",
    "    \n",
    "    def predictor(self,X):\n",
    "        predictions=[]\n",
    "        for i in range(len(X)):  #For each data point in the dataset\n",
    "            point = X.iloc[i,:]  \n",
    "            value=0\n",
    "            \n",
    "            for j in self.trees: \n",
    "                value += predict(j,point)  #Predict the value per tree per datapoint\n",
    "            value = value/self.n_trees\n",
    "            predictions.append(value)\n",
    "        \n",
    "        return predictions\n",
    "                       "
   ]
  },
  {
   "cell_type": "code",
   "execution_count": 46,
   "metadata": {},
   "outputs": [],
   "source": [
    "rf = RandomForest()"
   ]
  },
  {
   "cell_type": "code",
   "execution_count": 47,
   "metadata": {},
   "outputs": [
    {
     "name": "stdout",
     "output_type": "stream",
     "text": [
      "['Neighborhood', 'KitchenQual', 'LotConfig', 'SaleCondition', 'LandContour', 'BsmtFinType1', 'Exterior2nd', 'BsmtExposure', 'BsmtQual', 'GarageFinish', 'HeatingQC', 'Condition1', 'LotShape', 'Alley', 'GarageType', 'FireplaceQu', 'Functional', 'ExterCond', 'BsmtCond', 'Electrical', 'BldgType', 'Exterior1st', 'RoofStyle', 'PavedDrive', 'ExterQual', 'HouseStyle', 'Fence', 'CentralAir', 'MSZoning', 'MasVnrType', 'BsmtFinType2', 'Foundation', 'GarageQual', 'SaleType', 'GarageCond', 'MiscFeature', 'LandSlope']\n",
      "['Neighborhood', 'KitchenQual', 'LotConfig', 'SaleCondition', 'LandContour', 'BsmtFinType1', 'Exterior2nd', 'BsmtExposure', 'BsmtQual', 'GarageFinish', 'HeatingQC', 'Condition1', 'LotShape', 'Alley', 'GarageType', 'FireplaceQu', 'Functional', 'ExterCond', 'BsmtCond', 'Electrical', 'BldgType', 'Exterior1st', 'RoofStyle', 'PavedDrive', 'ExterQual', 'HouseStyle', 'Fence', 'CentralAir', 'MSZoning', 'MasVnrType', 'BsmtFinType2', 'Foundation', 'GarageQual', 'SaleType', 'GarageCond', 'MiscFeature', 'LandSlope', 'Heating']\n"
     ]
    },
    {
     "data": {
      "text/plain": [
       "[<__main__.Node at 0x7fb8268e6cf8>,\n",
       " <__main__.Node at 0x7fb8266f2978>,\n",
       " <__main__.Node at 0x7fb8264d8898>,\n",
       " <__main__.Node at 0x7fb8267c32e8>,\n",
       " <__main__.Node at 0x7fb82689f320>,\n",
       " <__main__.Node at 0x7fb82663b588>,\n",
       " <__main__.Node at 0x7fb8265a5a58>,\n",
       " <__main__.Node at 0x7fb82658cb70>,\n",
       " <__main__.Node at 0x7fb826910588>,\n",
       " <__main__.Node at 0x7fb826638828>]"
      ]
     },
     "execution_count": 47,
     "metadata": {},
     "output_type": "execute_result"
    }
   ],
   "source": [
    "rf.fit(data,Y)"
   ]
  },
  {
   "cell_type": "code",
   "execution_count": 50,
   "metadata": {},
   "outputs": [
    {
     "name": "stdout",
     "output_type": "stream",
     "text": [
      "[209845.0, 177588.94047619047, 222697.5111111111, 136903.97317460316, 269693.3153571428, 148629.6738095238, 294702.0071428571, 191358.12380952382, 147717.02222222224, 119443.91666666666, 130090.99999999997, 339616.7616666666, 133300.57142857142, 261826.47190476194, 145640.71444444446, 141630.8486111111, 141215.6349206349, 94376.67694444445, 155493.9761904762, 142379.14880952382, 324779.86805555556, 133819.44444444444, 225069.69833333333, 133655.56746031746, 141229.5158730159, 260986.5732936508, 135745.82142857142, 308283.4841666667, 198183.43198412698, 67623.48888888888, 77727.63194444445, 142661.52777777778, 193276.5119047619, 172112.45238095237, 282146.70019841276, 300580.31888888887, 146421.64444444445, 154738.7033333333, 122217.44444444445, 102529.8321031746, 162150.93809523812, 169591.7619047619, 132597.70714285714, 131325.1408730159, 138984.10416666666, 308926.8821428571, 244123.59472222222, 239757.44222222222, 120578.90198412698, 127382.00198412698, 168731.76845238096, 112452.5, 114091.68095238096, 362122.06170634914, 131067.49999999997, 175806.40452380953, 172824.3888888889, 197762.53904761904, 417260.2182539682, 124960.66666666667, 159061.85714285713, 100709.1380952381, 196211.3386904762, 143003.01261904763, 215284.77976190476, 313140.0763888889, 210687.5666666667, 215414.0736507937, 84222.49666666667, 220140.5238095238, 253557.84777777776, 130837.92722222224, 188920.50317460316, 146237.83730158728, 122815.91857142858, 93853.35714285716, 122118.26626984128, 124260.66448412699, 138663.19166666665, 112476.8501984127, 185553.41269841272, 162025.38555555555, 244956.01682539686, 131383.23769841267, 162944.33095238096, 265199.7083333334, 175383.0007936508, 165151.32436507934, 105810.2375, 130334.35793650793, 105110.33968253969, 108695.3080952381, 153838.69047619047, 143536.55555555556, 206395.86309523808, 176394.435, 216173.09595238097, 109259.12738095238, 86067.46138888887, 124445.86365079365, 197233.826984127, 180819.0111111111, 119110.39027777777, 207662.51369047622, 162369.59404761906, 254104.98531746032, 91938.27261904762, 110481.75857142857, 127290.04166666667, 196194.20333333334, 137094.4776190476, 170932.50833333333, 362472.8333333334, 194353.61388888888, 244308.46142857143, 173872.01, 127420.98333333335, 151466.86666666664, 326378.676031746, 170342.59801587302, 149118.42603174603, 100659.74999999999, 139883.1130952381, 160168.91333333333, 179628.99166666667, 90788.7, 128613.20634920635, 97078.34444444445, 151878.4011111111, 150091.94444444444, 223495.16468253965, 211938.47761904766, 150742.30238095237, 220561.62261904762, 179539.82738095237, 170234.34126984127, 142465.05039682542, 201577.48253968253, 234292.5988095238, 219656.07071428574, 112893.61730158729, 274666.575, 145980.11523809523, 210883.25992063488, 134992.2136904762, 139265.67523809525, 108209.92777777775, 208555.04095238095, 143312.20984126983, 109939.55555555555, 128592.49404761902, 347128.6694444445, 165752.36055555556, 181377.02857142856, 119941.1142857143, 84010.9523809524, 110478.33968253969, 265546.1805555556, 247152.42023809525, 312255.9134523809, 154710.4880952381, 424212.3166666667, 223172.61952380952, 104031.90277777778, 145584.91369047618, 117277.67722222224, 198970.70833333334, 325523.49591269845, 189216.39246031747, 250756.45238095237, 132128.8888888889, 204936.61904761902, 221714.69444444444, 162989.9166666667, 191646.9238095238, 244537.06984126987, 217493.21904761903, 154723.9722222222, 461297.98325396824, 103314.36527777778, 167074.70222222223, 186848.98492063495, 119937.06944444445, 203108.98388888888, 125750.35158730156, 437519.0333333334, 178616.79543650793, 137504.886031746, 148376.36861111113, 273220.2281746032, 302531.39809523814, 168117.28841269843, 196663.0819047619, 136353.27, 125807.36507936509, 150280.11805555556, 302850.48055555555, 247623.30198412697, 124412.72619047618, 285876.13115079363, 147453.25416666665, 172655.1738095238, 113435.91269841269, 144869.0611111111, 114608.42341269841, 174770.1642857143, 141716.94047619047, 134236.1666666667, 246365.3583333333, 147225.8871031746, 104732.66, 186001.4988888889, 241901.24988095238, 149187.3333333333, 141318.71626984127, 134492.21269841268, 209223.7867063492, 104375.00972222222, 238108.61587301586, 171396.07222222222, 210847.95444444445, 201459.53333333333, 174816.18571428573, 107676.30222222224, 408918.0305952381, 110114.84380952381, 287481.81388888886, 102291.60714285713, 126412.32999999999, 193199.0718253968, 145755.15476190476, 361961.5805555556, 92078.39880952382, 126734.47222222222, 202707.55206349207, 88902.22154761905, 185400.11972222224, 194824.30833333332, 302012.3386111111, 112119.99444444446, 270396.65198412695, 106870.06944444445, 79157.93250000001, 122340.0, 211538.25, 240006.90130952382, 135842.34047619047, 133173.99999999997, 188429.44253968255, 231521.4861111111, 92889.8634920635, 247230.50043650795, 174689.19305555557, 164576.25833333336, 140174.90833333335, 223924.55476190476, 206982.05555555553, 225214.84055555557, 226562.9811904762, 98347.80444444445, 174391.8714285714, 302059.04416666675, 150100.50833333333, 127985.24305555555, 80692.3492063492, 172071.96642857144, 188198.49999999997, 185083.56547619047, 120154.3611111111, 142157.51726190475, 268047.54305555555, 230359.81968253967, 286383.44023809524, 150376.0, 126195.5, 189487.4396825397, 207163.98777777777, 129044.58333333334, 398016.2841666667, 191937.19444444444, 226073.59702380956, 188887.95666666667, 217949.82095238095, 249824.35603174605, 191426.86031746032, 164909.2976984127, 164468.15873015873, 101241.5661904762, 122127.97253968255, 146969.44424603175, 248650.73095238092, 136499.54873015874, 132407.95158730162, 217237.30253968254, 162870.53174603177, 141082.96825396823, 147234.15083333332, 236393.38095238098, 175218.8055555556, 152790.5992063492, 151505.3333333333, 266448.31710317463, 219721.7190476191, 143135.8452380952, 321522.3376984127, 322255.1746031746, 225887.52444444448, 116606.20793650793, 91616.90777777779, 360317.41714285716, 175261.07190476192, 128365.22202380953, 120419.01825396826, 306626.84444444446, 176633.80833333335, 187189.08333333334, 256105.85904761907, 263215.0698412698, 288210.85138888884, 194448.93333333335, 329591.84500000003, 341455.6925, 291659.8598809524, 125999.99404761905, 243355.6333333333, 86325.67023809525, 310329.4166666667, 145366.0888888889, 167786.21444444443, 86933.51190476191, 163071.08333333334, 137247.5416666667, 276288.52777777775, 204435.23234126985, 183210.50440476192, 204295.8531746032, 371394.00095238094, 222393.41642857142, 199921.67023809525, 152879.93253968254, 209378.48214285713, 87829.5026984127, 87647.45238095238, 276972.73214285716, 88075.715, 132353.17857142858, 131033.39285714287, 167786.3888888889, 167597.45396825398, 449139.3744444445, 319589.3559523809, 196055.60222222222, 93868.77976190476, 109018.00595238095, 136608.84087301587, 177438.31369047618, 168959.99126984127, 134764.5484126984, 129271.52154761906, 270021.33571428567, 137224.2388888889, 143733.29285714286, 199274.33333333334, 107813.83238095239, 160364.9061904762, 137817.34424603177, 163848.7688095238, 165036.66666666666, 138079.85714285713, 145024.04464285713, 170491.28857142857, 132634.38333333333, 122372.88888888888, 122489.02777777778, 214759.47083333335, 84245.6376984127, 147034.0, 318371.7571428572, 388728.70789682533, 183922.13333333333, 130403.15515873015, 188954.0566666667, 218038.93833333338, 78281.57464285716, 230904.3933333333, 188954.91873015877, 87194.75892857143, 130993.38492063494, 199341.81904761904, 414379.33194444445, 122510.0888888889, 222201.74761904762, 100503.44682539682, 101140.88555555555, 109979.23142857142, 133639.01488095237, 125295.66666666666, 167322.20555555556, 80575.31904761905, 230046.66166666668, 239493.73214285713, 173524.1122222222, 107244.11666666665, 259731.873015873, 172771.78857142857, 160535.49206349207, 119669.70833333334, 161218.87746031745, 276876.7916666666, 322991.7133333333, 100014.51607142857, 139333.2916666667, 245726.4347222222, 113811.09047619048, 235488.52988095238, 184350.93623015872, 154001.26726190475, 219197.90857142856, 122505.21825396825, 139850.7026984127, 206402.1511904762, 192480.8888888889, 117797.75, 323418.6085714285, 142921.66666666666, 138172.0638888889, 242889.35142857145, 111881.68547619048, 196680.0988888889, 175773.68809523812, 89252.52976190476, 99249.45456349207, 122743.61904761905, 178024.51805555559, 88910.27777777778, 211038.68253968254, 115456.07103174603, 113912.15857142858, 89384.24642857144, 117229.75793650793, 520923.09, 126930.86178571428, 159490.15476190476, 180721.60035714286, 215810.94583333336, 149689.44, 206472.675, 204443.48809523808, 124301.7611111111, 115776.91666666667, 115570.32333333333, 248016.37492063493, 198734.20142857142, 213094.22976190475, 166245.15, 166512.5088888889, 104518.59305555555, 204608.71293650795, 180674.0, 102401.15825396826, 251893.67698412697, 145559.31666666668, 88200.23119047619, 177261.47222222222, 130022.40555555555, 173216.75166666668, 168126.5, 149044.95619047616, 260631.46285714288, 189290.47619047618, 207366.0825, 189317.69444444444, 146828.2638888889, 405303.75678571424, 251758.68845238094, 134997.55555555553, 209240.23809523808, 388900.723452381, 308948.2658730159, 101588.58392857143, 326060.43, 358841.58392857143, 153726.32539682538, 164534.82305555555, 128263.88392857143, 144698.83730158728, 153512.05952380953, 175616.30952380953, 157595.30873015872, 91335.83333333334, 119689.06547619049, 134498.89285714287, 170513.62896825396, 154658.8793650794, 99108.66825396827, 81131.65396825397, 349530.19603174605, 177412.9749206349, 126962.31547619049, 122276.34047619048, 110010.94555555555, 224261.54170634924, 140451.50694444444, 292110.1547619048, 141773.41666666666, 134162.3753968254, 210733.23015873012, 201922.61388888888, 155942.96626984124, 127191.83333333333, 164345.06388888886, 202073.5996031746, 122142.47936507936, 135890.75793650793, 97294.28365079364, 405730.6825, 157636.84269841269, 278099.48749999993, 197873.89333333337, 219085.05388888888, 108919.79841269841, 153645.17857142855, 150894.38888888888, 252359.94666666663, 297563.49999999994, 181085.84444444446, 131768.75, 446447.2527777778, 86990.49206349209, 210077.4, 192302.62063492063, 123432.48015873015, 106795.88412698412, 47914.129166666666, 180107.2507936508, 116972.5111111111, 193335.48015873018, 119521.1261904762, 141081.02182539686, 256381.0679365079, 317847.68000000005, 250060.10523809525, 215497.90873015876, 135906.1388888889, 181243.5744047619, 235886.90376984124, 197583.8888888889, 126096.70634920635, 124556.74305555555, 253073.24, 136290.0396825397, 110534.21666666667, 268522.64638888894, 115206.29416666666, 282604.40555555554, 111065.65714285713, 142405.38730158733, 118914.51194444443, 175221.74166666667, 199162.94166666665, 156660.93000000002, 172646.0277777778, 119961.26984126982, 183346.125, 250689.82611111115, 131424.9898809524, 329859.9951984127, 208901.04523809525, 308702.7958333334, 140862.33158730157, 143362.35214285715, 116986.97761904763, 221384.28476190474, 172450.98849206348, 131952.15277777778, 123716.29285714286, 150275.36976190476, 160242.69047619047, 150799.32944444445, 134719.64714285714, 157772.83928571426, 302023.1670238095, 119746.26984126985, 344573.3363095238, 130240.37103174606, 368600.32186507934, 125111.07916666668, 139170.18333333332, 158222.5, 87537.59761904762, 188210.32083333336, 430464.2994444445, 134450.58809523808, 140957.6130952381, 113443.28547619047, 308607.9950396825, 117218.48285714285, 195084.5379761905, 193907.20888888888, 156701.84325396825, 251754.21126984124, 134596.59126984127, 217699.51765873018, 148745.3419047619, 222781.36507936506, 221695.64087301586, 151330.5, 195387.4583333333, 329116.5933333334, 126802.52444444445, 310200.61083333334, 139617.19047619047, 248339.38809523807, 133873.75095238094, 84360.61111111111, 137697.4603174603, 178328.86000000002, 106198.67365079366, 327846.1844444444, 319427.62690476194, 75161.5190873016, 252478.42857142858, 135188.43253968254, 173446.08222222223, 161742.6031746032, 154740.27777777778, 141548.97619047618, 153731.57539682538, 155509.67492063492, 163189.37, 126305.1288888889, 219805.37416666662, 143515.66365079366, 135745.30555555556, 145349.08444444442, 196675.5833333333, 80528.79742063492, 101286.79476190478, 100420.42222222222, 263315.370515873, 268087.1688888889, 221180.7130952381, 326505.9541269842, 151940.78535714286, 352251.3754761905, 136443.88888888888, 99231.37658730158, 151843.44444444444, 154328.1392857143, 81931.38888888889, 197105.5744047619, 121911.13476190476, 189349.6865079365, 134361.64396825395, 358319.368531746, 90761.91071428571, 140397.125, 148080.84023809523, 114473.15119047619, 165248.45238095237, 195390.46825396823, 399014.73333333334, 136933.61607142858, 139770.41269841272, 409250.88948412694, 252196.26527777774, 158678.88, 206084.31722222222, 164977.94190476192, 130103.31944444445, 174729.2777777778, 116076.06111111112, 147485.47619047618, 254655.4301587302, 144819.5, 146514.07638888888, 116622.65984126984, 110900.1719047619, 371380.09392857144, 127772.65277777778, 134002.43253968254, 152091.23976190476, 170342.13575396826, 289772.9019444444, 222076.44404761904, 194633.76349206347, 225143.39726190473, 151836.20301587303, 320399.47000000003, 196090.50527777776, 146917.7361111111, 705116.8444444445, 302640.9299206349, 107418.0375, 136442.59166666665, 172961.6222222222, 91345.02380952382, 125540.57638888888, 137624.1666666667, 195175.61357142858, 312988.07666666666, 150546.74345238096, 334622.0105555556, 141810.6631746032, 207982.8880952381, 77800.65333333332, 250104.2111111111, 235253.53928571427, 177422.53531746034, 112578.49285714286, 76812.58412698413, 100499.2242857143, 186729.9249206349, 129581.23015873018, 156479.36285714287, 162583.97023809524, 173448.8998015873, 158216.04365079364, 336780.5375, 131657.00595238098, 251118.78666666668, 143601.2361111111, 119826.85003968254, 133182.52242063492, 315341.905, 123543.72222222222, 196485.54285714286, 189246.1173015873, 144451.33492063492, 106119.22607142858, 253874.49805555557, 189254.1666666667, 229384.1428571428, 134925.10714285713, 118670.19166666668, 168827.1388888889, 92703.31222222223, 236603.83511904758, 163541.94722222222, 191947.4668253968, 137268.54682539683, 138422.84722222222, 197097.38083333336, 166802.5238095238, 181404.3388888889, 268787.95634920633, 236173.36071428572, 251556.11277777777, 269804.18666666665, 107735.91468253969, 93485.74285714286, 162806.37896825396, 215591.1428571428, 282493.0277777778, 153648.84714285712, 171355.86, 217405.39563492063, 148599.18055555556, 171219.09722222222, 286597.9822222222, 126897.16666666666, 112897.3375, 206057.3805555556, 328842.2, 250341.76345238095, 274004.7488095238, 192763.06111111114, 157699.68746031745, 222201.8696031746, 501850.8222222222, 130437.03690476189, 108055.80928571429, 132564.5208333333, 113443.10714285713, 390292.6196428572, 165066.48972222224, 223383.08317460315, 138047.0833333333, 160331.1138888889, 136161.23412698408, 173396.0026984127, 182311.83531746033, 187395.56571428574, 151368.57503968253, 131918.2888888889, 148414.34603174604, 134811.98761904758, 233589.24119047617, 109072.84166666665, 175399.48714285714, 162688.4233333333, 137418.4488095238, 257213.41666666666, 226106.90714285715, 185792.34285714285, 171225.6865079365, 144634.8788888889, 109802.7061904762, 533249.1166666667, 171563.96825396825, 210184.6, 109858.07777777777, 184016.6, 536630.1, 122811.55293650793, 222763.66507936508, 139524.31746031746, 206439.60317460314, 154234.6984126984, 106117.4, 178958.49206349207, 146917.7361111111, 72547.96583333334, 149033.43809523812, 116103.15714285716, 227790.06615079366, 127342.60317460317, 275069.07249999995, 152668.9347222222, 220081.0431746032, 187407.8115079365, 95385.81222222223, 196778.64444444445, 138803.69246031746, 231677.53650793651, 400474.64964285714, 109810.5680952381, 193773.97222222222, 165020.90238095235, 151022.5144047619, 157010.25888888887, 148745.3419047619, 228382.70761904764, 164379.15376984127, 139491.1666666667, 125345.96861111112, 164417.37499999997, 95824.53571428571, 139521.8388888889, 123848.2777777778, 129740.20571428572, 158534.6119047619, 162390.1291666667, 147432.69416666665, 147796.76428571425, 168503.9523809524, 211783.28222222225, 131752.65476190476, 234429.7947619048, 186444.04365079367, 137076.82976190478, 197973.13611111112, 166818.86428571428, 151778.4523809524, 173985.6666666667, 127812.17559523808, 138275.19444444444, 173353.5091269841, 156143.24841269842, 210415.50936507937, 170899.7273809524, 131374.59000000003, 150843.35436507937, 132278.44936507934, 224902.10666666663, 140916.77777777778, 255560.7092460318, 132775.2688095238, 168967.83492063492, 236447.09464285715, 108972.16198412699, 199834.53174603172, 111888.85853174604, 129679.41269841269, 73989.68253968253, 316417.64400793647, 133087.88555555555, 358677.4626984127, 148679.16666666666, 130159.51785714287, 158075.54666666666, 192052.31222222222, 184241.75916666668, 122025.24444444446, 113086.02841269842, 307329.3196428571, 171751.52714285714, 140603.4061111111, 269417.5388888889, 156022.38888888888, 121918.0763888889, 170965.03769841272, 151627.77777777778, 159987.02523809526, 119110.39027777777, 153107.17261904763, 105232.69908730159, 135677.2271825397, 538598.86, 133100.23015873015, 118110.14087301589, 151154.71904761906, 181849.48015873018, 238943.5392063492, 123084.88571428573, 127667.47222222222, 260584.36666666664, 231837.66499999998, 129185.85, 174518.52579365077, 162173.1327380952, 143020.11706349207, 96228.30515873016, 147676.79555555555, 167281.71603174604, 83750.55047619049, 48659.495833333334, 130387.19825396826, 238514.58444444445, 174901.1726190476, 195329.05555555556, 154338.29166666666, 172344.92222222223, 198655.91428571427, 204136.23214285713, 154945.253968254, 292196.7186111111, 183445.03055555554, 228468.66083333333, 222664.95238095237, 221293.50793650793, 117461.2776984127, 313931.2133333333, 202207.46507936507, 245344.99047619043, 82035.15873015873, 181991.6611111111, 244575.60773809525, 241146.64146825398, 226332.69190476192, 167760.59821428574, 205384.88333333333, 141700.41083333336, 142775.59452380953, 123727.95952380952, 125115.73333333335, 140353.18583333335, 272948.94416666665, 202449.62904761906, 185754.2753968254, 127559.49305555555, 118379.45833333333, 131578.72023809524, 164043.91611111112, 128274.51666666668, 144619.98253968253, 126140.88988095238, 131306.4890873016, 188514.7765079365, 158201.82976190475, 121347.0375, 232332.5, 154945.9365079365, 265470.7244047619, 216850.52861111108, 178627.79007936508, 145400.1857142857, 127294.37698412695, 71229.626984127, 137097.8888888889, 103677.52083333334, 166725.64285714287, 116421.37698412698, 211726.8350793651, 166650.30952380953, 165517.31952380954, 88781.78095238097, 200309.91777777777, 116095.66638888889, 137543.7916666667, 170253.94226190477, 332791.81472222216, 170123.58841269842, 240264.08869047617, 123709.25515873016, 125583.60650793652, 125347.93563492064, 385098.66503968247, 168997.1426984127, 190093.25595238098, 327373.5063492063, 173054.46428571432, 184628.97619047618, 175599.09523809524, 329048.2897222222, 119304.4404761905, 129773.71428571428, 177421.7678571429, 92598.1507936508, 199169.9438888889, 86907.70869047618, 84272.74920634921, 236672.7811111111, 164408.7860714286, 186948.32388888887, 149880.373015873, 170164.6666666667, 85522.39047619049, 230604.7422222222, 106925.0, 132199.58174603173, 116365.10734126982, 161761.8, 98939.7038888889, 120497.3619047619, 222006.05039682536, 209490.56865079366, 186667.68111111113, 160396.54761904763, 203261.13392857142, 161107.7688888889, 193419.5513888889, 96530.60384920635, 189193.82388888887, 269715.85555555555, 118052.98317460317, 163976.2033333333, 298900.9833730159, 114222.67301587299, 118422.37055555556, 135795.27968253967, 207204.64047619049, 328155.5180555555, 231608.74825396825, 116755.2365079365, 79955.8915873016, 302225.4641666666, 254230.41412698413, 103542.69841269842, 82485.0026984127, 171773.76984126982, 156474.80904761906, 195896.5484126984, 268255.6344444445, 282434.2874603175, 123951.72023809524, 504285.2083333334, 144445.7380952381, 131583.5111111111, 90341.26547619047, 179102.77666666667, 182418.95253968256, 167651.75555555557, 151728.0361111111, 257496.82976190472, 172261.73174603176, 201264.3251984127, 222994.20761904764, 338090.79083333333, 183928.871031746, 205886.4982142857, 94728.81845238095, 110382.2578968254, 117088.7875, 145422.52777777778, 302040.5646428572, 177077.29190476192, 161830.23642857143, 152850.78055555554, 131216.72619047618, 133507.53571428574, 154334.69388888887, 99230.19246031747, 155631.7628968254, 187618.85305555555, 209577.99603174606, 157426.86507936506, 129260.43253968256, 147568.95277777777, 131054.01587301586, 156260.38928571428, 130526.3888888889, 198835.54194444447, 157430.8611111111, 186324.2425, 145936.54365079367, 87711.88380952382, 256710.71428571426, 133070.93666666668, 205332.85666666666, 91298.45507936509, 161437.83988095238, 141605.02380952382, 148814.71904761906, 128236.68055555555, 182858.63333333333, 115763.26444444444, 182828.50000000003, 118557.31825396826, 168798.4507936508, 55922.56944444445, 119396.45333333332, 136621.5625, 153674.54365079367, 109149.21825396825, 321780.139484127, 178355.92063492065, 255881.8761904762, 181011.92503968257, 300014.0486111111, 184490.10523809525, 200609.74007936506, 126480.22222222222, 130225.02777777778, 117084.65476190476, 320697.68833333335, 192721.4837301587, 131233.75674603175, 139087.26404761904, 132716.71825396823, 115885.70158730159, 220375.61746031744, 89435.22650793652, 101369.12857142858, 162302.19761904763, 116569.09761904762, 180073.83527777778, 254886.51349206347, 213456.43095238096, 138676.81468253967, 143077.56444444446, 121757.38095238095, 124983.32809523807, 233354.4611111111, 177048.54111111112, 110199.16269841269, 117011.79761904765, 100834.25682539683, 183739.6626984127, 140355.8461904762, 135968.25, 174642.0950793651, 435793.8900793651, 94567.28047619048, 84135.33194444444, 149234.95873015872, 176580.8022222222, 174660.58333333334, 122082.44444444445, 144994.83035714287, 120379.68095238096, 154794.5886904762, 216507.79761904763, 113676.71765873015, 201591.6345238095, 191928.30555555556, 177005.3333333333, 220355.15428571432, 243036.6446031746, 192940.25793650796, 144964.7609126984, 185433.3515873016, 128259.9926984127, 119946.80107142858, 177799.94444444447, 239301.6595238095, 255294.55345238093, 175104.79190476192, 226997.3757142857, 569705.6666666666, 164169.37698412698, 161392.8333333333, 162449.26214285713, 200803.8888888889, 232038.77214285714, 272625.4225, 124493.71428571428, 111570.2066666667, 142361.31944444444, 102008.04174603175, 254959.95833333334, 345128.88825396827, 705116.8444444445, 122067.05476190479, 176404.74746031745, 105467.4725, 111694.80555555555, 265939.6333333333, 190937.41873015874, 191774.61666666667, 161905.41412698413, 175820.83333333334, 130869.1634126984, 166302.82305555555, 151470.4111111111, 174871.755, 224146.45238095237, 148846.82857142857, 176732.79285714286, 154028.48293650793, 118257.92333333331, 198820.4047619048, 128145.74793650795, 214148.475, 154207.55238095237, 300343.9158333334, 115195.53023809523, 206859.293015873, 141719.56944444444, 285081.48928571434, 194572.94142857142, 181029.54444444444, 96780.51587301587, 122941.34226190476, 130253.39484126985, 121044.97166666668, 121536.64027777777, 225968.54928571428, 87736.1984126984, 96835.13333333333, 116640.72325396826, 135704.8333333333, 146520.9419047619, 139597.14285714287, 184202.9702380952, 143386.5505952381, 218591.7285714286, 143708.51666666666, 358528.290595238, 133644.28511904762, 190954.84111111113, 134880.01686507935, 101331.52813492063, 137111.2831746032, 122282.5857142857, 140921.7948015873, 168968.00952380954, 205530.09761904762, 150217.48015873015, 248529.1972222222, 219060.1902777778, 239147.61206349204, 168724.79365079367, 402461.5863095238, 194280.60992063495, 188019.2603174603, 184041.44087301588, 149798.84166666665, 130009.36507936506, 122766.00595238098, 255062.6644444444, 180175.33083333337, 129693.55555555555, 239457.0380952381, 174905.00396825396, 128970.99603174604, 310511.61412698415, 103339.93634920634, 180562.67888888885, 155604.6130952381, 182583.54333333333, 130912.9246031746, 151263.52142857143, 182249.58333333334, 180697.2875, 178471.67222222223, 137271.24777777778, 408355.1667460317, 410096.25, 148711.25083333332, 214362.7777777778, 181942.87500000003, 129260.66666666667, 167334.24999999997, 133644.11904761905, 139153.57480158733, 145263.0248015873, 180949.875, 234717.85634920635, 75232.66527777778, 222726.67476190478, 183198.45666666667, 149633.3333333333, 134139.10337301588, 166565.8742063492, 130498.27777777778, 147443.0, 184590.2638888889, 272865.5958333333, 272336.68916666665, 151115.67404761905, 118453.60277777778, 122124.53246031745, 168497.58571428573, 118986.1119047619, 137703.7222222222, 157405.04107142857, 147265.35968253968, 191591.6666666667, 151498.2916666667, 217315.14404761902, 153286.90952380953, 288194.4238095238, 229828.19714285713, 133070.93666666668, 316169.6410714286, 202073.5996031746, 143545.7380952381, 148431.0515873016, 170551.09777777776, 303399.71031746035, 199928.66166666668, 283112.1158730159, 376822.48825396824, 119679.09523809524, 192684.05158730157, 284585.5341666666, 203594.25396825396, 263660.9475, 111057.48000000001, 149776.43591269842, 80396.7484126984, 199152.45476190475, 91958.61111111111, 215963.97817460317, 77723.7267063492, 100147.68111111112, 130160.42857142857, 226382.95, 179001.52777777778, 239398.17904761905, 134612.528968254, 109876.89428571428, 123378.42698412699, 125753.68253968253, 166928.53047619047, 135618.26011904763, 76827.05194444445, 205334.7916666667, 126234.3630952381, 119555.63055555557, 155111.55555555556, 251937.00317460316, 185310.49603174604, 170278.51706349207, 103409.33678571427, 232563.31428571427, 281962.7416666667, 225204.53095238097, 165585.43809523812, 190852.91333333333, 167237.26984126985, 130868.44305555554, 411635.59805555554, 232589.79404761904, 173385.89444444445, 116764.80626984127, 143246.08134920633, 170543.6155555556, 344581.7398809524, 186327.86666666664, 246245.92833333332, 110316.39523809524, 165261.14503968254, 147870.8619047619, 197753.5027777778, 201834.2380952381, 131222.0138888889, 140957.6130952381, 229599.4125, 105105.79, 167853.46428571426, 273743.3119047619, 450534.1996825397, 247438.9119047619, 247249.74682539684, 92910.99984126985, 130762.63761904761, 86740.48214285714, 160731.82599206347, 73104.85242063492, 203825.1426984127, 158792.8646825397, 128208.37083333332, 106829.46428571429, 122706.19047619049, 236641.8519047619, 151544.46785714285, 364345.8905952381, 129417.16666666666, 231484.74698412704, 123652.16936507937, 123112.01666666668, 160331.32555555555, 242582.43861111114, 300601.7354761905, 152623.69047619047, 134243.86388888888, 136950.6425, 139059.3869047619, 118698.79825396824, 188616.5952380952, 189959.9077777778, 288438.97976190475, 113953.11388888888, 273878.9156746032, 132821.69246031746, 125416.28174603175, 119805.16349206348, 215771.56428571432, 226997.28416666668, 142079.0257936508, 91329.96666666666, 268553.3458333333, 200705.71428571432, 182442.83527777778, 120538.95714285717, 320308.2722222222, 127868.6388888889, 198568.9111111111, 174148.2033333333, 128324.9494047619, 140457.07976190478, 196942.3265873016, 139326.76190476192, 140362.7857142857, 267494.70714285714, 139992.78373015873, 118475.85, 171777.58333333334, 189106.44666666668, 138533.47619047618, 80021.43571428573, 188389.11666666667, 159664.23174603176, 174903.9583333333, 125226.7380952381, 351422.20916666667, 148416.47222222222, 187678.04619047622, 189242.5486111111, 146917.7361111111, 324667.20277777774, 107721.80158730158, 190365.35841269844, 128031.26984126985, 141187.82539682538, 243537.1985714285, 113162.21285714286, 92840.02380952382, 130544.25984126984, 261168.97714285715, 147015.7638888889, 131335.76984126982, 184120.44714285713, 174722.7916666667, 207797.85555555555, 249496.555, 140618.85972222223, 151133.9583333333]\n"
     ]
    }
   ],
   "source": [
    "res = rf.predictor(data)\n",
    "print(res)"
   ]
  },
  {
   "cell_type": "code",
   "execution_count": 52,
   "metadata": {},
   "outputs": [
    {
     "data": {
      "text/plain": [
       "8250.98123486084"
      ]
     },
     "execution_count": 52,
     "metadata": {},
     "output_type": "execute_result"
    }
   ],
   "source": [
    "abs(Y - res).mean()"
   ]
  },
  {
   "cell_type": "markdown",
   "metadata": {},
   "source": [
    "As you see, by using random forests, we reduced the mean error substantially(from 18000 to 8000).\n",
    "This random forest contains only 10 trees. For more accuracy, we can increase the number of trees but at the cost of computation time. This tradeoff is crucial in deciding which model to use.\n",
    "\n",
    "Another method to improve accuracy is fine tuning the hyperparameters.\n",
    "\n",
    "Yet another method is to use binary search trees and simultaneously randomly selecting the datapoints per tree. But this is computationally more expensive. "
   ]
  }
 ],
 "metadata": {
  "kernelspec": {
   "display_name": "Python 3",
   "language": "python",
   "name": "python3"
  },
  "language_info": {
   "codemirror_mode": {
    "name": "ipython",
    "version": 3
   },
   "file_extension": ".py",
   "mimetype": "text/x-python",
   "name": "python",
   "nbconvert_exporter": "python",
   "pygments_lexer": "ipython3",
   "version": "3.5.2"
  }
 },
 "nbformat": 4,
 "nbformat_minor": 2
}
