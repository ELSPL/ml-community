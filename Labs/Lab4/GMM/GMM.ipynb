{
 "cells": [
  {
   "cell_type": "markdown",
   "metadata": {},
   "source": [
    "# Gaussian Mixture Models\n",
    "\n",
    "Gaussian Mixture Models(or GMMs) are a clustering algorithm similar to k-means. In fact, it is a generalization over k-means.\n",
    "### Working\n",
    "GMM assumes that the data is spread in a superposition of multiple gaussian distributions and attempts to recognize these gaussians. The number of gaussians is similar to the k in k-means algorithm.\n",
    "Just like k-means, this algorithm is also divided into 2 steps:\n",
    "\n",
    "- Random initializtions of means and variances(co-variance in case of more than 1 dimensions) and classifying points likewise\n",
    "\n",
    "- Re-assigning of the mean and covariances based on the labelled points\n",
    "and repeat\n",
    "\n",
    "This process is called Expectation Maximization(EM)\n",
    "\n",
    "A major difference here is that the classification of points is not hard. Thus, a point may belong to multiple classes with certain probabilities and we use them to reassign our mean and covariance\n",
    "\n",
    "<img src='https://i.ytimg.com/vi/iQoXFmbXRJA/hqdefault.jpg'>\n",
    "ref. Victor Lawrenko\n",
    "\n",
    "Victor Lawrenko has explained GMMs very well. Do have a look [here](https://www.youtube.com/watch?v=REypj2sy_5U)"
   ]
  },
  {
   "cell_type": "markdown",
   "metadata": {},
   "source": [
    "Here, we use Bayes rule to find the probability of belonging to class A given the datapoint and use it to calculate mean and covariance"
   ]
  },
  {
   "cell_type": "markdown",
   "metadata": {},
   "source": [
    "Lets try this out on toy data"
   ]
  },
  {
   "cell_type": "code",
   "execution_count": 1,
   "metadata": {},
   "outputs": [],
   "source": [
    "#Importing dependancies\n",
    "import numpy as np\n",
    "from matplotlib import pyplot as plt"
   ]
  },
  {
   "cell_type": "code",
   "execution_count": 2,
   "metadata": {
    "scrolled": true
   },
   "outputs": [
    {
     "name": "stdout",
     "output_type": "stream",
     "text": [
      "[[8.59960045 8.15785782]\n",
      " [4.71378849 6.92342725]\n",
      " [5.94267432 2.8765105 ]\n",
      " [7.72115843 2.1905888 ]\n",
      " [4.16659548 5.12252721]\n",
      " [8.25167305 9.29508504]\n",
      " [4.49029997 6.7493005 ]\n",
      " [8.88869667 1.01157645]\n",
      " [8.58206246 9.88654578]\n",
      " [3.03826807 1.54852799]\n",
      " [7.68730242 2.75979756]\n",
      " [5.43448468 1.22775951]\n",
      " [7.84574095 3.57831589]\n",
      " [2.73604316 8.36506067]\n",
      " [7.71337422 7.1015327 ]\n",
      " [7.65809525 0.33032718]\n",
      " [2.85856616 9.75921735]\n",
      " [1.65749365 9.3375478 ]\n",
      " [3.50811671 4.04321506]\n",
      " [3.22158286 8.52952268]\n",
      " [5.73411771 2.10336438]\n",
      " [8.36729582 0.86922364]\n",
      " [3.19860287 2.53124535]\n",
      " [8.92604154 6.22959266]\n",
      " [1.20959182 4.7090794 ]\n",
      " [6.76256346 9.00981969]\n",
      " [6.4940991  2.3169034 ]\n",
      " [7.34458964 6.26761274]\n",
      " [2.4648002  9.62544039]\n",
      " [8.2885877  5.92319155]\n",
      " [4.35167215 2.62574048]\n",
      " [3.65279431 4.04450423]\n",
      " [4.94830313 6.7309733 ]\n",
      " [2.86640214 8.04081272]\n",
      " [6.75395747 6.37702329]\n",
      " [6.30729236 5.5748128 ]\n",
      " [8.09750071 0.07147615]\n",
      " [2.30991375 8.89390507]\n",
      " [7.66576505 2.30816226]\n",
      " [0.30029396 4.04775048]\n",
      " [9.80102446 0.5901543 ]\n",
      " [6.81959366 0.72710393]\n",
      " [4.71770524 7.78369625]\n",
      " [0.2568857  0.49637726]\n",
      " [1.35518129 1.98967295]\n",
      " [5.12088478 3.59795044]\n",
      " [6.47942577 1.06781729]\n",
      " [9.27132469 8.03167944]\n",
      " [8.95601219 3.53632379]\n",
      " [0.61347644 9.19881834]]\n"
     ]
    }
   ],
   "source": [
    "# Generating toy data\n",
    "toy_data = np.random.rand(50,2)*10\n",
    "print(toy_data)"
   ]
  },
  {
   "cell_type": "code",
   "execution_count": 3,
   "metadata": {},
   "outputs": [
    {
     "data": {
      "text/plain": [
       "<matplotlib.collections.PathCollection at 0x7f4881fdbb70>"
      ]
     },
     "execution_count": 3,
     "metadata": {},
     "output_type": "execute_result"
    },
    {
     "data": {
      "image/png": "[encoded data removed]",
      "text/plain": [
       "<Figure size 432x288 with 1 Axes>"
      ]
     },
     "metadata": {},
     "output_type": "display_data"
    }
   ],
   "source": [
    "#Visulaizing toy data\n",
    "plt.scatter(toy_data[:,0],toy_data[:,1])"
   ]
  },
  {
   "cell_type": "markdown",
   "metadata": {},
   "source": [
    "# Main Program\n",
    "\n",
    "Likelihood is defined as follows. lhd returns the likelihood given the data,row,class,covariance matrix sigma and the means"
   ]
  },
  {
   "cell_type": "markdown",
   "metadata": {},
   "source": [
    "<img src='http://i.stack.imgur.com/EOyQI.png'>"
   ]
  },
  {
   "cell_type": "code",
   "execution_count": 4,
   "metadata": {},
   "outputs": [],
   "source": [
    "#Likelihood calculation\n",
    "def lhd(data,i,c,classcov,classmeans):\n",
    "    f1 = 1/(np.sqrt(2*np.pi*np.linalg.det(classcov)))  \n",
    "    f2 = data[i,:] - classmeans[c,:]\n",
    "    f3 = np.transpose(f2)\n",
    "    f4 = np.linalg.inv(classcov)\n",
    "    res = f1 * np.exp(-0.5*np.matmul(np.matmul(f2,f4),f3))\n",
    "    return res"
   ]
  },
  {
   "cell_type": "code",
   "execution_count": 112,
   "metadata": {},
   "outputs": [],
   "source": [
    "#GMM algorithm\n",
    "def GMM(data,k=2,priors = None):\n",
    "    \n",
    "    n=len(data[:,0]) #No. of datapoints\n",
    "    f=len(data[0,:]) #No. of features\n",
    "    \n",
    "    if priors == None:\n",
    "        priors = [1/k]*k  #Initializing priors if not specifically given\n",
    "    \n",
    "    classmeans = np.ones((k,f))  #initial assigned means of every feature for every class\n",
    "    \n",
    "    for dummy in range(k):\n",
    "        rint = np.random.randint(0,len(data))  #will randomly select a row from the data\n",
    "        classmeans[dummy,:] = data[rint,:]     #reassigns the means\n",
    "    #initialization of means complete by introducing randomization\n",
    "    \n",
    "    #initializing covariances\n",
    "    classcov = []\n",
    "    for c in range(k):\n",
    "        kcov = np.identity(f)\n",
    "        classcov.append(kcov)\n",
    "    #initializing covariances complete\n",
    "    \n",
    "    #Initialization Complete\n",
    "    \n",
    "    P = np.ones((n,k))  #P is a nXk matrix with P[n,k] representing the probability(class|datapoint )\n",
    "    \n",
    "    for ii in range(100):  #iterate 100 times\n",
    "        #Step 1 - Making a P(class|datapoint matrix)\n",
    "        \n",
    "        for i in range(n):\n",
    "            for c in range(k):\n",
    "                P[i,c] = priors[c] * lhd(data,i,c,classcov[c],classmeans) #calculating the numerator of posterior probability\n",
    "            P[i,:] = P[i,:] / sum(P[i,:]) #dividing numerator of posterior probability by its denominator\n",
    "        # P made\n",
    "    \n",
    "        #Step 2 - Updating\n",
    "    \n",
    "        #Updating priors\n",
    "        priors = [P[:,c].mean() for c in range(k) ]\n",
    "    \n",
    "        #Updating classmeans\n",
    "        for c in range(k):\n",
    "            classmeans[c,:] = (1/(n*priors[c])) * (np.matmul(np.transpose(P[:,c]),data))\n",
    "    \n",
    "        #Updating co-variances\n",
    "        for c in range(k):\n",
    "            for j in range(f):\n",
    "                for kk in range(f):\n",
    "                    f1 = (data[:,j]-classmeans[c,j]) * (data[:,kk]-classmeans[c,kk])\n",
    "                    classcov[c][j,kk] = (1/(n*priors[c])) * np.dot(P[:,c],f1)\n",
    "    \n",
    "    return P"
   ]
  },
  {
   "cell_type": "code",
   "execution_count": 113,
   "metadata": {},
   "outputs": [
    {
     "name": "stdout",
     "output_type": "stream",
     "text": [
      "[[7.77564903e-06 9.99992224e-01]\n",
      " [4.39625879e-03 9.95603741e-01]\n",
      " [9.99423546e-01 5.76453806e-04]\n",
      " [9.99828502e-01 1.71497560e-04]\n",
      " [7.20369268e-01 2.79630732e-01]\n",
      " [2.50466349e-07 9.99999750e-01]\n",
      " [8.95638725e-03 9.91043613e-01]\n",
      " [9.99993936e-01 6.06390571e-06]\n",
      " [3.21609997e-08 9.99999968e-01]\n",
      " [9.99999220e-01 7.80098386e-07]\n",
      " [9.98808344e-01 1.19165605e-03]\n",
      " [9.99998685e-01 1.31484757e-06]\n",
      " [9.78821922e-01 2.11780783e-02]\n",
      " [1.33267685e-04 9.99866732e-01]\n",
      " [3.97954224e-04 9.99602046e-01]\n",
      " [9.99999752e-01 2.47898983e-07]\n",
      " [1.34434820e-06 9.99998656e-01]\n",
      " [1.10637155e-05 9.99988936e-01]\n",
      " [9.93670617e-01 6.32938306e-03]\n",
      " [5.75008208e-05 9.99942499e-01]\n",
      " [9.99965524e-01 3.44758916e-05]\n",
      " [9.99997371e-01 2.62939916e-06]\n",
      " [9.99972470e-01 2.75301297e-05]\n",
      " [3.37918041e-03 9.96620820e-01]\n",
      " [9.86979129e-01 1.30208710e-02]\n",
      " [1.45267121e-06 9.99998547e-01]\n",
      " [9.99880393e-01 1.19607128e-04]\n",
      " [7.60948887e-03 9.92390511e-01]\n",
      " [2.63493604e-06 9.99997365e-01]\n",
      " [1.33910099e-02 9.86608990e-01]\n",
      " [9.99916022e-01 8.39777288e-05]\n",
      " [9.93002560e-01 6.99743950e-03]\n",
      " [7.15775905e-03 9.92842241e-01]\n",
      " [3.55034765e-04 9.99644965e-01]\n",
      " [7.58307850e-03 9.92416921e-01]\n",
      " [1.26241403e-01 8.73758597e-01]\n",
      " [9.99999867e-01 1.33031014e-07]\n",
      " [3.10301789e-05 9.99968970e-01]\n",
      " [9.99751613e-01 2.48387209e-04]\n",
      " [9.99282567e-01 7.17433295e-04]\n",
      " [9.99997500e-01 2.50008592e-06]\n",
      " [9.99999426e-01 5.73971448e-07]\n",
      " [2.60240977e-04 9.99739759e-01]\n",
      " [9.99999998e-01 2.45507384e-09]\n",
      " [9.99998872e-01 1.12759716e-06]\n",
      " [9.95991991e-01 4.00800888e-03]\n",
      " [9.99998484e-01 1.51571679e-06]\n",
      " [7.97178121e-06 9.99992028e-01]\n",
      " [9.63926020e-01 3.60739797e-02]\n",
      " [3.37501989e-05 9.99966250e-01]]\n"
     ]
    }
   ],
   "source": [
    "cmap =(GMM(toy_data))\n",
    "print(cmap)"
   ]
  },
  {
   "cell_type": "code",
   "execution_count": 114,
   "metadata": {},
   "outputs": [
    {
     "data": {
      "image/png": "[encoded data removed]",
      "text/plain": [
       "<Figure size 432x288 with 1 Axes>"
      ]
     },
     "metadata": {},
     "output_type": "display_data"
    }
   ],
   "source": [
    "for i in range(len(toy_data)):\n",
    "    plt.scatter(toy_data[i,0],toy_data[i,1],c=[cmap[i,0],cmap[i,1],0])"
   ]
  },
  {
   "cell_type": "markdown",
   "metadata": {},
   "source": [
    "As seen above, the upper points are bright green and the lower points are bright red, representing high probability of respective classes. Some points in the middle are coloured as a mixture of red and green, representing their participation in both classes. The division is based on the variable cmap whose columns give the amounts of red and green respectively.\n",
    "\n",
    "Since the initializations of means is random, we will see a different plot every time we run the program."
   ]
  }
 ],
 "metadata": {
  "kernelspec": {
   "display_name": "Python 3",
   "language": "python",
   "name": "python3"
  },
  "language_info": {
   "codemirror_mode": {
    "name": "ipython",
    "version": 3
   },
   "file_extension": ".py",
   "mimetype": "text/x-python",
   "name": "python",
   "nbconvert_exporter": "python",
   "pygments_lexer": "ipython3",
   "version": "3.5.2"
  }
 },
 "nbformat": 4,
 "nbformat_minor": 2
}
