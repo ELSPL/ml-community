{
 "cells": [
  {
   "cell_type": "code",
   "execution_count": 1,
   "metadata": {},
   "outputs": [],
   "source": [
    "import numpy as np\n",
    "import pandas as pd\n"
   ]
  },
  {
   "cell_type": "code",
   "execution_count": 243,
   "metadata": {},
   "outputs": [],
   "source": [
    "data=pd.read_csv('https://archive.ics.uci.edu/ml/machine-learning-databases/00267/data_banknote_authentication.txt', header=None)"
   ]
  },
  {
   "cell_type": "code",
   "execution_count": 244,
   "metadata": {},
   "outputs": [
    {
     "data": {
      "text/plain": [
       "(1372, 5)"
      ]
     },
     "execution_count": 244,
     "metadata": {},
     "output_type": "execute_result"
    }
   ],
   "source": [
    "data.head()"
   ]
  },
  {
   "cell_type": "code",
   "execution_count": 245,
   "metadata": {},
   "outputs": [],
   "source": [
    "finit=data.iloc[0,0:4]\n",
    "tinit=data.iloc[-2,0:4]"
   ]
  },
  {
   "cell_type": "code",
   "execution_count": 246,
   "metadata": {},
   "outputs": [
    {
     "data": {
      "text/plain": [
       "(0    3.62160\n",
       " 1    8.66610\n",
       " 2   -2.80730\n",
       " 3   -0.44699\n",
       " Name: 0, dtype: float64, 0    -3.5637\n",
       " 1    -8.3827\n",
       " 2    12.3930\n",
       " 3    -1.2823\n",
       " Name: 1370, dtype: float64)"
      ]
     },
     "execution_count": 246,
     "metadata": {},
     "output_type": "execute_result"
    }
   ],
   "source": [
    "finit,tinit"
   ]
  },
  {
   "cell_type": "code",
   "execution_count": 247,
   "metadata": {},
   "outputs": [],
   "source": [
    "finit=(np.array(finit))\n",
    "tinit=(np.array(tinit))"
   ]
  },
  {
   "cell_type": "code",
   "execution_count": 248,
   "metadata": {},
   "outputs": [],
   "source": [
    "finit=finit.reshape(1,4)\n",
    "tinit=tinit.reshape(1,4)"
   ]
  },
  {
   "cell_type": "code",
   "execution_count": 249,
   "metadata": {},
   "outputs": [],
   "source": [
    "data=data.sample(frac=1).reset_index(drop=True)"
   ]
  },
  {
   "cell_type": "code",
   "execution_count": 250,
   "metadata": {},
   "outputs": [],
   "source": [
    "Xtr=data.iloc[0:1172,[0,1,2,3]]\n",
    "Xcv=data.iloc[1172:1272,[0,1,2,3]]\n",
    "Xte=data.iloc[1272:1372,[0,1,2,3]]\n",
    "Ytr=data.iloc[0:1172,4]\n",
    "Ycv=data.iloc[1172:1272,4]\n",
    "Yte=data.iloc[1272:1372,4]"
   ]
  },
  {
   "cell_type": "code",
   "execution_count": 251,
   "metadata": {},
   "outputs": [
    {
     "data": {
      "text/html": [
       "<div>\n",
       "<style scoped>\n",
       "    .dataframe tbody tr th:only-of-type {\n",
       "        vertical-align: middle;\n",
       "    }\n",
       "\n",
       "    .dataframe tbody tr th {\n",
       "        vertical-align: top;\n",
       "    }\n",
       "\n",
       "    .dataframe thead th {\n",
       "        text-align: right;\n",
       "    }\n",
       "</style>\n",
       "<table border=\"1\" class=\"dataframe\">\n",
       "  <thead>\n",
       "    <tr style=\"text-align: right;\">\n",
       "      <th></th>\n",
       "      <th>0</th>\n",
       "      <th>1</th>\n",
       "      <th>2</th>\n",
       "      <th>3</th>\n",
       "      <th>4</th>\n",
       "    </tr>\n",
       "  </thead>\n",
       "  <tbody>\n",
       "    <tr>\n",
       "      <th>0</th>\n",
       "      <td>-0.38388</td>\n",
       "      <td>-1.04710</td>\n",
       "      <td>8.05140</td>\n",
       "      <td>0.49567</td>\n",
       "      <td>0</td>\n",
       "    </tr>\n",
       "    <tr>\n",
       "      <th>1</th>\n",
       "      <td>-0.17296</td>\n",
       "      <td>-1.18160</td>\n",
       "      <td>1.38180</td>\n",
       "      <td>0.73360</td>\n",
       "      <td>1</td>\n",
       "    </tr>\n",
       "    <tr>\n",
       "      <th>2</th>\n",
       "      <td>-1.38850</td>\n",
       "      <td>12.50260</td>\n",
       "      <td>0.69118</td>\n",
       "      <td>-7.54870</td>\n",
       "      <td>0</td>\n",
       "    </tr>\n",
       "    <tr>\n",
       "      <th>3</th>\n",
       "      <td>-2.31420</td>\n",
       "      <td>2.08380</td>\n",
       "      <td>-0.46813</td>\n",
       "      <td>-1.67670</td>\n",
       "      <td>1</td>\n",
       "    </tr>\n",
       "    <tr>\n",
       "      <th>4</th>\n",
       "      <td>5.27560</td>\n",
       "      <td>0.13863</td>\n",
       "      <td>0.12138</td>\n",
       "      <td>1.14350</td>\n",
       "      <td>0</td>\n",
       "    </tr>\n",
       "  </tbody>\n",
       "</table>\n",
       "</div>"
      ],
      "text/plain": [
       "         0         1        2        3  4\n",
       "0 -0.38388  -1.04710  8.05140  0.49567  0\n",
       "1 -0.17296  -1.18160  1.38180  0.73360  1\n",
       "2 -1.38850  12.50260  0.69118 -7.54870  0\n",
       "3 -2.31420   2.08380 -0.46813 -1.67670  1\n",
       "4  5.27560   0.13863  0.12138  1.14350  0"
      ]
     },
     "execution_count": 251,
     "metadata": {},
     "output_type": "execute_result"
    }
   ],
   "source": [
    "data.head()"
   ]
  },
  {
   "cell_type": "code",
   "execution_count": 252,
   "metadata": {},
   "outputs": [],
   "source": [
    "Xtr=np.array(Xtr)\n",
    "Ytr=np.array(Ytr)\n"
   ]
  },
  {
   "cell_type": "code",
   "execution_count": 253,
   "metadata": {},
   "outputs": [],
   "source": [
    "U=np.ones(Ytr.shape)"
   ]
  },
  {
   "cell_type": "code",
   "execution_count": 254,
   "metadata": {},
   "outputs": [],
   "source": [
    "cost0=((Xtr-finit)**2).sum(axis=1)\n",
    "cost1=((Xtr-tinit)**2).sum(axis=1)"
   ]
  },
  {
   "cell_type": "code",
   "execution_count": 255,
   "metadata": {},
   "outputs": [
    {
     "data": {
      "text/plain": [
       "(array([229.19009784, 130.31823244, 102.49348149, ...,  17.99852268,\n",
       "         17.62157369,   2.80229989]),\n",
       " array([ 85.93295047, 188.66333721, 617.1276114 , ..., 659.48737098,\n",
       "        671.22010986, 554.9192815 ]))"
      ]
     },
     "execution_count": 255,
     "metadata": {},
     "output_type": "execute_result"
    }
   ],
   "source": [
    "cost0, cost1"
   ]
  },
  {
   "cell_type": "code",
   "execution_count": 256,
   "metadata": {},
   "outputs": [],
   "source": [
    "U= cost0 > cost1\n",
    "U=U.reshape(1172,1)"
   ]
  },
  {
   "cell_type": "code",
   "execution_count": 257,
   "metadata": {},
   "outputs": [
    {
     "data": {
      "text/plain": [
       "array([[ True],\n",
       "       [False],\n",
       "       [False],\n",
       "       ...,\n",
       "       [False],\n",
       "       [False],\n",
       "       [False]])"
      ]
     },
     "execution_count": 257,
     "metadata": {},
     "output_type": "execute_result"
    }
   ],
   "source": [
    "U"
   ]
  },
  {
   "cell_type": "code",
   "execution_count": 258,
   "metadata": {},
   "outputs": [],
   "source": [
    "tinit=((Xtr*U).sum(axis=0))/(U.sum())\n",
    "finit=((Xtr*(np.invert(U))).sum(axis=0))/((np.invert(U)).sum())"
   ]
  },
  {
   "cell_type": "code",
   "execution_count": 259,
   "metadata": {},
   "outputs": [
    {
     "data": {
      "text/plain": [
       "(array([ 0.78008343,  4.6713848 , -0.64520102, -1.58467466]),\n",
       " array([-0.74219512, -5.67379491,  7.15028333, -0.19344168]))"
      ]
     },
     "execution_count": 259,
     "metadata": {},
     "output_type": "execute_result"
    }
   ],
   "source": [
    "finit, tinit"
   ]
  },
  {
   "cell_type": "code",
   "execution_count": 260,
   "metadata": {},
   "outputs": [],
   "source": [
    "for _ in range(150000):\n",
    "    cost0=((Xtr-finit)**2).sum(axis=1)\n",
    "    cost1=((Xtr-tinit)**2).sum(axis=1)\n",
    "    U= cost0 > cost1\n",
    "    U=U.reshape(1172,1)\n",
    "    tinit=((Xtr*U).sum(axis=0))/(U.sum())\n",
    "    finit=((Xtr*(np.invert(U))).sum(axis=0))/((np.invert(U)).sum())"
   ]
  },
  {
   "cell_type": "code",
   "execution_count": 261,
   "metadata": {},
   "outputs": [
    {
     "data": {
      "text/plain": [
       "array([-0.43527164, -4.78624829,  6.22217727, -0.04589726])"
      ]
     },
     "execution_count": 261,
     "metadata": {},
     "output_type": "execute_result"
    }
   ],
   "source": [
    "tinit"
   ]
  },
  {
   "cell_type": "code",
   "execution_count": 238,
   "metadata": {},
   "outputs": [
    {
     "data": {
      "text/plain": [
       "array([[-0.2951 ,  9.0489 , -0.52725, -2.0789 ],\n",
       "       [-1.4781 ,  0.14277, -1.1622 , -0.48579],\n",
       "       [-1.6641 , -1.3678 ,  1.997  ,  0.52283],\n",
       "       ...,\n",
       "       [ 0.29961,  7.1328 , -0.31475, -1.1828 ],\n",
       "       [ 4.2134 , -2.806  ,  2.0116 ,  0.67412],\n",
       "       [-1.8343 , -6.5907 ,  5.6429 ,  0.54998]])"
      ]
     },
     "execution_count": 238,
     "metadata": {},
     "output_type": "execute_result"
    }
   ],
   "source": [
    "Xtr"
   ]
  },
  {
   "cell_type": "code",
   "execution_count": 262,
   "metadata": {},
   "outputs": [
    {
     "data": {
      "text/plain": [
       "array([[ True],\n",
       "       [ True],\n",
       "       [False],\n",
       "       ...,\n",
       "       [False],\n",
       "       [False],\n",
       "       [False]])"
      ]
     },
     "execution_count": 262,
     "metadata": {},
     "output_type": "execute_result"
    }
   ],
   "source": [
    "U"
   ]
  },
  {
   "cell_type": "code",
   "execution_count": 263,
   "metadata": {},
   "outputs": [
    {
     "data": {
      "text/plain": [
       "0.6032423208191127"
      ]
     },
     "execution_count": 263,
     "metadata": {},
     "output_type": "execute_result"
    }
   ],
   "source": [
    "(Ytr.reshape(1172,1) ==U).mean()"
   ]
  },
  {
   "cell_type": "code",
   "execution_count": 264,
   "metadata": {},
   "outputs": [],
   "source": [
    "Xte=np.array(Xte)\n",
    "Yte=np.array(Yte)\n",
    "Xcv=np.array(Xcv)\n",
    "Ycv=np.array(Ycv)"
   ]
  },
  {
   "cell_type": "code",
   "execution_count": 266,
   "metadata": {},
   "outputs": [],
   "source": [
    "costCV0=((Xcv-finit)**2).sum(axis=1)\n",
    "costCV1=((Xcv-tinit)**2).sum(axis=1)\n",
    "costTE0=((Xte-finit)**2).sum(axis=1)\n",
    "costTE1=((Xte-tinit)**2).sum(axis=1)"
   ]
  },
  {
   "cell_type": "code",
   "execution_count": 267,
   "metadata": {},
   "outputs": [],
   "source": [
    "UCV= costCV0 > costCV1\n",
    "UTE= costTE0 > costTE1"
   ]
  },
  {
   "cell_type": "code",
   "execution_count": 269,
   "metadata": {},
   "outputs": [
    {
     "data": {
      "text/plain": [
       "0.64"
      ]
     },
     "execution_count": 269,
     "metadata": {},
     "output_type": "execute_result"
    }
   ],
   "source": [
    "(UCV == Ycv).mean()"
   ]
  },
  {
   "cell_type": "code",
   "execution_count": 270,
   "metadata": {},
   "outputs": [
    {
     "data": {
      "text/plain": [
       "0.63"
      ]
     },
     "execution_count": 270,
     "metadata": {},
     "output_type": "execute_result"
    }
   ],
   "source": [
    "(UTE == Yte).mean()"
   ]
  }
 ],
 "metadata": {
  "kernelspec": {
   "display_name": "Python 3",
   "language": "python",
   "name": "python3"
  },
  "language_info": {
   "codemirror_mode": {
    "name": "ipython",
    "version": 3
   },
   "file_extension": ".py",
   "mimetype": "text/x-python",
   "name": "python",
   "nbconvert_exporter": "python",
   "pygments_lexer": "ipython3",
   "version": "3.5.2"
  }
 },
 "nbformat": 4,
 "nbformat_minor": 2
}
