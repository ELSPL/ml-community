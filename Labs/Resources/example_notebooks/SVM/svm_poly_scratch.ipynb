{
 "cells": [
  {
   "cell_type": "code",
   "execution_count": 2,
   "metadata": {},
   "outputs": [],
   "source": [
    "import numpy as np\n",
    "from matplotlib import pyplot as plt\n",
    "import cvxopt\n",
    "import random\n",
    "%matplotlib inline"
   ]
  },
  {
   "cell_type": "code",
   "execution_count": 3,
   "metadata": {},
   "outputs": [],
   "source": [
    "#defining kernels\n",
    "def Linear_kernel(X,Y):\n",
    "    return np.dot(X,Y)"
   ]
  },
  {
   "cell_type": "code",
   "execution_count": 4,
   "metadata": {},
   "outputs": [],
   "source": [
    "def Poly_kernel(X,Y,c=1,p=2):\n",
    "    return (c + np.dot(X,Y))**p"
   ]
  },
  {
   "cell_type": "code",
   "execution_count": 5,
   "metadata": {},
   "outputs": [],
   "source": [
    "#making the SVM class\n",
    "class SVM(object):\n",
    "    #constructor\n",
    "    def __init__(self,kernel=Poly_kernel):\n",
    "        self.kernel = kernel\n",
    "    \n",
    "    #fitting method\n",
    "    def fit(self,X,Y):\n",
    "        #Now we use the cvxopt to solve the quadratic programming problem of SVM\n",
    "        #refer https://www.youtube.com/watch?v=_PwhiWxHK8o and https://courses.csail.mit.edu/6.867/wiki/images/a/a7/Qp-cvxopt.pdf\n",
    "        #for more information\n",
    "        \n",
    "        \n",
    "        n_samples, n_features = X.shape\n",
    "     \n",
    "        #making a kernel matrix\n",
    "        K=np.zeros((n_samples,n_samples))\n",
    "        for i in range(n_samples):\n",
    "            for j in range(n_samples):\n",
    "                K[i,j] = self.kernel(X[i],X[j])\n",
    "        \n",
    "        #defining the parameters for the cvxopt.solvers.qp\n",
    "        P=cvxopt.matrix(np.outer(Y,Y)*K)\n",
    "        q=cvxopt.matrix(np.ones(n_samples)*-1)\n",
    "        A=cvxopt.matrix(Y,(1,n_samples))\n",
    "        b=cvxopt.matrix(0.0)\n",
    "        G=cvxopt.matrix(np.diag(np.ones(n_samples)*-1))\n",
    "        h=cvxopt.matrix(np.zeros(n_samples))\n",
    "        \n",
    "        #optimal a values\n",
    "        solution=cvxopt.solvers.qp(P, q, G,h, A, b)\n",
    "        a=np.ravel(solution['x'])\n",
    "        \n",
    "        #Support vectors are required to calculate intercept term 'b'\n",
    "        #Support vectors have 'a' value != 0\n",
    "        sv= (a > 1e-5)\n",
    "        #Finding the support vectors of our model\n",
    "        self.a= a[sv]\n",
    "        self.Xsv= X[sv]\n",
    "        self.Ysv= Y[sv]\n",
    "        \n",
    "        #Finding intercept term 'b' from the equation  \n",
    "        \n",
    "        n=len(self.a)\n",
    "        ind=np.arange(len(a))[sv]\n",
    "        p1=self.Ysv.sum()\n",
    "        p2=0\n",
    "        for i in range(n):\n",
    "            p2=p2+ np.sum((self.a*self.Ysv*K[ind[i],sv]))\n",
    "        \n",
    "        self.b= (p1 - p2)/n\n",
    "        '''\n",
    "        self.b = 0\n",
    "        ind=np.arange(len(a))[sv]\n",
    "        for n in range(len(self.a)):\n",
    "            self.b += self.Ysv[n]\n",
    "            self.b -= np.sum(self.a * self.Ysv * K[ind[n],sv])\n",
    "        self.b /= len(self.a)\n",
    "'''\n",
    "    def predict(self,X):\n",
    "        #Returns the predicted value(1 or -1)  \n",
    "        Ypr= np.zeros(len(X))\n",
    "        for i in range(len(X)):\n",
    "            s=0\n",
    "            for a,ysv,xsv in zip(self.a,self.Ysv,self.Xsv):\n",
    "                s=s+ a*ysv*self.kernel(X[i],xsv)\n",
    "            Ypr[i] = s + self.b\n",
    "        return np.sign(Ypr)\n",
    "        \n",
    "        \n",
    "    \n"
   ]
  },
  {
   "cell_type": "code",
   "execution_count": 6,
   "metadata": {},
   "outputs": [],
   "source": [
    "#Generating data\n",
    "X=np.zeros((20,2))\n",
    "Y=np.ones((20,1))\n",
    "Y[0:10] = -1\n",
    "for i in range(10):\n",
    "    dummy=random.choice([-1,1]) #-ve class, x coordinate\n",
    "    X[i,0]=(random.random()) * dummy #Noise\n",
    "    dummy=random.choice([-1,1]) #-ve class, y coordinate\n",
    "    X[i,1]=(random.random()) * dummy#Noise\n",
    "    dummy=random.choice([-1,1]) #+ve class, x coordinate\n",
    "    X[i+10,0]=random.uniform(1.5,3.0) * dummy #Noise\n",
    "    dummy=random.choice([-1,1]) #+ve class, y coordinate\n",
    "    X[i+10,1]=random.uniform(1.5,3.0) * dummy #Noise"
   ]
  },
  {
   "cell_type": "code",
   "execution_count": 7,
   "metadata": {},
   "outputs": [],
   "source": [
    "clf=SVM(kernel=Poly_kernel)"
   ]
  },
  {
   "cell_type": "code",
   "execution_count": 8,
   "metadata": {},
   "outputs": [
    {
     "name": "stdout",
     "output_type": "stream",
     "text": [
      "     pcost       dcost       gap    pres   dres\n",
      " 0: -6.4407e-01 -1.0001e+00  4e+01  6e+00  1e+00\n",
      " 1: -1.1678e-01 -2.1656e-01  4e+00  5e-01  1e-01\n",
      " 2:  3.0257e-03 -1.7050e-01  2e-01  6e-03  1e-03\n",
      " 3: -4.0694e-02 -6.6538e-02  3e-02  4e-17  5e-16\n",
      " 4: -4.7699e-02 -5.3753e-02  6e-03  1e-17  3e-16\n",
      " 5: -5.1631e-02 -5.2994e-02  1e-03  1e-17  3e-16\n",
      " 6: -5.2369e-02 -5.2409e-02  4e-05  1e-17  4e-16\n",
      " 7: -5.2396e-02 -5.2397e-02  6e-07  2e-17  2e-16\n",
      " 8: -5.2397e-02 -5.2397e-02  6e-09  2e-17  4e-16\n",
      "Optimal solution found.\n"
     ]
    }
   ],
   "source": [
    "clf.fit(X,Y.ravel())"
   ]
  },
  {
   "cell_type": "code",
   "execution_count": 9,
   "metadata": {},
   "outputs": [],
   "source": [
    "Ypr=clf.predict(X)"
   ]
  },
  {
   "cell_type": "code",
   "execution_count": 10,
   "metadata": {},
   "outputs": [
    {
     "data": {
      "text/plain": [
       "array([-1., -1., -1., -1., -1., -1., -1., -1., -1., -1.,  1.,  1.,  1.,\n",
       "        1.,  1.,  1.,  1.,  1.,  1.,  1.])"
      ]
     },
     "execution_count": 10,
     "metadata": {},
     "output_type": "execute_result"
    }
   ],
   "source": [
    "Ypr"
   ]
  },
  {
   "cell_type": "code",
   "execution_count": 11,
   "metadata": {},
   "outputs": [
    {
     "data": {
      "text/plain": [
       "array([[-1.],\n",
       "       [-1.],\n",
       "       [-1.],\n",
       "       [-1.],\n",
       "       [-1.],\n",
       "       [-1.],\n",
       "       [-1.],\n",
       "       [-1.],\n",
       "       [-1.],\n",
       "       [-1.],\n",
       "       [ 1.],\n",
       "       [ 1.],\n",
       "       [ 1.],\n",
       "       [ 1.],\n",
       "       [ 1.],\n",
       "       [ 1.],\n",
       "       [ 1.],\n",
       "       [ 1.],\n",
       "       [ 1.],\n",
       "       [ 1.]])"
      ]
     },
     "execution_count": 11,
     "metadata": {},
     "output_type": "execute_result"
    }
   ],
   "source": [
    "Y"
   ]
  },
  {
   "cell_type": "code",
   "execution_count": 12,
   "metadata": {},
   "outputs": [],
   "source": [
    "#Making the gridlines\n",
    "xx, yy =np.meshgrid(np.arange(X[:,0].min() -1, X[:,0].max() +1, 0.2), np.arange(X[:,1].min()-1, X[:,1].max()+1, 0.2))"
   ]
  },
  {
   "cell_type": "code",
   "execution_count": 13,
   "metadata": {},
   "outputs": [],
   "source": [
    "#Contour, given the x and y coordinate \n",
    "Z=clf.predict(np.c_[xx.ravel(),yy.ravel()])"
   ]
  },
  {
   "cell_type": "code",
   "execution_count": 14,
   "metadata": {},
   "outputs": [],
   "source": [
    "Z=Z.reshape(xx.shape)"
   ]
  },
  {
   "cell_type": "code",
   "execution_count": 21,
   "metadata": {},
   "outputs": [
    {
     "data": {
      "text/plain": [
       "<matplotlib.collections.PathCollection at 0x7f558710ef98>"
      ]
     },
     "execution_count": 21,
     "metadata": {},
     "output_type": "execute_result"
    },
    {
     "data": {
      "image/png": "[encoded data removed]",
      "text/plain": [
       "<Figure size 432x288 with 1 Axes>"
      ]
     },
     "metadata": {},
     "output_type": "display_data"
    }
   ],
   "source": [
    "#Visualizing the decision boundary\n",
    "plt.contour(xx,yy,Z)\n",
    "plt.scatter(X[0:10,0],X[0:10,1],c='blue',marker='_')\n",
    "plt.scatter(X[10:,0],X[10:,1],c='red', marker='+')\n",
    "plt.scatter(clf.Xsv[:,0],clf.Xsv[:,1], c='green')  #The support vectors used to generate boundary"
   ]
  }
 ],
 "metadata": {
  "kernelspec": {
   "display_name": "Python 3",
   "language": "python",
   "name": "python3"
  },
  "language_info": {
   "codemirror_mode": {
    "name": "ipython",
    "version": 3
   },
   "file_extension": ".py",
   "mimetype": "text/x-python",
   "name": "python",
   "nbconvert_exporter": "python",
   "pygments_lexer": "ipython3",
   "version": "3.5.2"
  }
 },
 "nbformat": 4,
 "nbformat_minor": 2
}
