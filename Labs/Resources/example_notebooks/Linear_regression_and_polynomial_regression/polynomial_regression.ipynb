{
 "cells": [
  {
   "cell_type": "code",
   "execution_count": 2,
   "metadata": {},
   "outputs": [],
   "source": [
    "import numpy as np\n",
    "from matplotlib import pyplot as plt\n",
    "import random"
   ]
  },
  {
   "cell_type": "code",
   "execution_count": 3,
   "metadata": {},
   "outputs": [],
   "source": [
    "#Generate random noise in our data\n",
    "X=np.linspace(0,2,num=20)\n",
    "Y=np.sin(np.pi*X)\n",
    "for i in range(len(Y)):\n",
    "    dummy=random.choice([-1,1])\n",
    "    Y[i]=Y[i]+(dummy*random.random())/4\n",
    "    "
   ]
  },
  {
   "cell_type": "code",
   "execution_count": 4,
   "metadata": {},
   "outputs": [
    {
     "data": {
      "text/plain": [
       "<matplotlib.collections.PathCollection at 0x7f13606389e8>"
      ]
     },
     "execution_count": 4,
     "metadata": {},
     "output_type": "execute_result"
    },
    {
     "data": {
      "image/png": "[encoded data removed]",
      "text/plain": [
       "<Figure size 432x288 with 1 Axes>"
      ]
     },
     "metadata": {},
     "output_type": "display_data"
    }
   ],
   "source": [
    "#Visualizing the data\n",
    "#red points represent sin(pi*x) \n",
    "#blue points represent our data( after introducing noise )\n",
    "plt.scatter(X,Y,c='blue')\n",
    "plt.scatter(X,np.sin(np.pi*X),c='red')"
   ]
  },
  {
   "cell_type": "markdown",
   "metadata": {},
   "source": [
    "### When M=1, the program represents linear regression\n",
    "### When M>1, the program represents polynomial regression"
   ]
  },
  {
   "cell_type": "code",
   "execution_count": 5,
   "metadata": {},
   "outputs": [],
   "source": [
    "#features cosidering a cubic polynomial for fitting \n",
    "#Change M as per requirement\n",
    "f0= [1]*20\n",
    "M=3\n",
    "F=f0\n",
    "\n",
    "#f1= X\n",
    "#f2= X**2\n",
    "#f3= X**3\n",
    "#F=np.column_stack([f0,f1,f2,f3])\n",
    "#Generalizing for M degree\n",
    "for i in range(1,M+1):\n",
    "    F = np.column_stack([F, X**i])"
   ]
  },
  {
   "cell_type": "code",
   "execution_count": 6,
   "metadata": {},
   "outputs": [
    {
     "data": {
      "text/plain": [
       "array([[1.00000000e+00, 0.00000000e+00, 0.00000000e+00, 0.00000000e+00],\n",
       "       [1.00000000e+00, 1.05263158e-01, 1.10803324e-02, 1.16635078e-03],\n",
       "       [1.00000000e+00, 2.10526316e-01, 4.43213296e-02, 9.33080624e-03],\n",
       "       [1.00000000e+00, 3.15789474e-01, 9.97229917e-02, 3.14914711e-02],\n",
       "       [1.00000000e+00, 4.21052632e-01, 1.77285319e-01, 7.46464499e-02],\n",
       "       [1.00000000e+00, 5.26315789e-01, 2.77008310e-01, 1.45793847e-01],\n",
       "       [1.00000000e+00, 6.31578947e-01, 3.98891967e-01, 2.51931768e-01],\n",
       "       [1.00000000e+00, 7.36842105e-01, 5.42936288e-01, 4.00058318e-01],\n",
       "       [1.00000000e+00, 8.42105263e-01, 7.09141274e-01, 5.97171599e-01],\n",
       "       [1.00000000e+00, 9.47368421e-01, 8.97506925e-01, 8.50269719e-01],\n",
       "       [1.00000000e+00, 1.05263158e+00, 1.10803324e+00, 1.16635078e+00],\n",
       "       [1.00000000e+00, 1.15789474e+00, 1.34072022e+00, 1.55241289e+00],\n",
       "       [1.00000000e+00, 1.26315789e+00, 1.59556787e+00, 2.01545415e+00],\n",
       "       [1.00000000e+00, 1.36842105e+00, 1.87257618e+00, 2.56247266e+00],\n",
       "       [1.00000000e+00, 1.47368421e+00, 2.17174515e+00, 3.20046654e+00],\n",
       "       [1.00000000e+00, 1.57894737e+00, 2.49307479e+00, 3.93643388e+00],\n",
       "       [1.00000000e+00, 1.68421053e+00, 2.83656510e+00, 4.77737279e+00],\n",
       "       [1.00000000e+00, 1.78947368e+00, 3.20221607e+00, 5.73028138e+00],\n",
       "       [1.00000000e+00, 1.89473684e+00, 3.59002770e+00, 6.80215775e+00],\n",
       "       [1.00000000e+00, 2.00000000e+00, 4.00000000e+00, 8.00000000e+00]])"
      ]
     },
     "execution_count": 6,
     "metadata": {},
     "output_type": "execute_result"
    }
   ],
   "source": [
    "F"
   ]
  },
  {
   "cell_type": "markdown",
   "metadata": {},
   "source": [
    "## Using Normal Equation"
   ]
  },
  {
   "cell_type": "code",
   "execution_count": 7,
   "metadata": {},
   "outputs": [],
   "source": [
    "#Given data we have, w0f0+w1f1+w2f2+w3f3=y\n",
    "#Using normal equation, we find W=[w0,w1,w2,w3] \n",
    "#Normal eqn: (transpose(F)*F)*W = transpose(F)*(Y(column))\n",
    "tff=np.matmul(np.transpose(F),F)\n",
    "tff_inv=np.linalg.inv(tff)\n",
    "W= np.matmul(np.matmul(tff_inv,np.transpose(F)), Y.reshape(20,1))"
   ]
  },
  {
   "cell_type": "code",
   "execution_count": 8,
   "metadata": {},
   "outputs": [
    {
     "data": {
      "text/plain": [
       "array([[-0.13925628],\n",
       "       [ 5.93784759],\n",
       "       [-8.75538489],\n",
       "       [ 2.93865934]])"
      ]
     },
     "execution_count": 8,
     "metadata": {},
     "output_type": "execute_result"
    }
   ],
   "source": [
    "W"
   ]
  },
  {
   "cell_type": "code",
   "execution_count": 9,
   "metadata": {},
   "outputs": [],
   "source": [
    "#Making gridlines for visualizing our results\n",
    "xx=np.linspace(0,2,50)\n",
    "yy=W[0]\n",
    "#yy=W[0]*1 + W[1]*xx + W[2]*(xx ** 2) + W[3]*(xx**3)\n",
    "#Generalizing\n",
    "for i in range(1,len(W)):\n",
    "    yy=yy+ W[i]*(xx**i)"
   ]
  },
  {
   "cell_type": "code",
   "execution_count": 10,
   "metadata": {},
   "outputs": [
    {
     "data": {
      "text/plain": [
       "<matplotlib.collections.PathCollection at 0x7f13605b2828>"
      ]
     },
     "execution_count": 10,
     "metadata": {},
     "output_type": "execute_result"
    },
    {
     "data": {
      "image/png": "[encoded data removed]",
      "text/plain": [
       "<Figure size 432x288 with 1 Axes>"
      ]
     },
     "metadata": {},
     "output_type": "display_data"
    }
   ],
   "source": [
    "plt.plot(xx,yy)\n",
    "plt.scatter(X,Y,c='red')"
   ]
  },
  {
   "cell_type": "markdown",
   "metadata": {},
   "source": [
    "# Using Gradient Descent"
   ]
  },
  {
   "cell_type": "code",
   "execution_count": 11,
   "metadata": {},
   "outputs": [],
   "source": [
    "#initialize W2\n",
    "W2=np.ones((M+1,1))"
   ]
  },
  {
   "cell_type": "code",
   "execution_count": 12,
   "metadata": {},
   "outputs": [],
   "source": [
    "#Calculating Ypredicted\n",
    "Ypr= np.matmul(F,W2)"
   ]
  },
  {
   "cell_type": "code",
   "execution_count": 13,
   "metadata": {},
   "outputs": [],
   "source": [
    "#define cost function/ optimization function\n",
    "costfxn=np.sqrt(((Ypr-Y.reshape(Ypr.shape))**2).sum())"
   ]
  },
  {
   "cell_type": "code",
   "execution_count": 14,
   "metadata": {},
   "outputs": [],
   "source": [
    "#Gradient Descent step\n",
    "cost=[costfxn]\n",
    "for epoch in range(10000):\n",
    "    Ypr=np.matmul(F,W2)\n",
    "    W2=W2 - 0.005*np.matmul(np.transpose(F), Ypr-Y.reshape(Ypr.shape))\n",
    "    cost.append(np.sqrt(((Ypr-Y.reshape(Ypr.shape))**2).sum()))"
   ]
  },
  {
   "cell_type": "markdown",
   "metadata": {},
   "source": [
    "### Warning\n",
    "The learning rate 0.005 and the no. of epochs have to e manually selected by trial and error. \n",
    "Learning rate must be small enough so that cost doesn't overshoot the minima but big enough for less error within 10000 steps "
   ]
  },
  {
   "cell_type": "code",
   "execution_count": 15,
   "metadata": {},
   "outputs": [
    {
     "data": {
      "text/plain": [
       "[<matplotlib.lines.Line2D at 0x7f13604ece48>]"
      ]
     },
     "execution_count": 15,
     "metadata": {},
     "output_type": "execute_result"
    },
    {
     "data": {
      "image/png": "[encoded data removed]",
      "text/plain": [
       "<Figure size 432x288 with 1 Axes>"
      ]
     },
     "metadata": {},
     "output_type": "display_data"
    }
   ],
   "source": [
    "#plotting cost over iteration\n",
    "plt.plot(np.linspace(1,10001,10001).tolist(),cost)"
   ]
  },
  {
   "cell_type": "code",
   "execution_count": 16,
   "metadata": {},
   "outputs": [],
   "source": [
    "yy2=0\n",
    "for i in range(1,len(W2)):\n",
    "    yy2=yy2+ W2[i]*(xx**i)"
   ]
  },
  {
   "cell_type": "code",
   "execution_count": 17,
   "metadata": {},
   "outputs": [
    {
     "data": {
      "text/plain": [
       "<matplotlib.collections.PathCollection at 0x7f1360525e48>"
      ]
     },
     "execution_count": 17,
     "metadata": {},
     "output_type": "execute_result"
    },
    {
     "data": {
      "image/png": "[encoded data removed]",
      "text/plain": [
       "<Figure size 432x288 with 1 Axes>"
      ]
     },
     "metadata": {},
     "output_type": "display_data"
    }
   ],
   "source": [
    "#plotting prediction\n",
    "plt.plot(xx,yy2)\n",
    "plt.scatter(X,Y,c='red')"
   ]
  },
  {
   "cell_type": "code",
   "execution_count": null,
   "metadata": {},
   "outputs": [],
   "source": []
  },
  {
   "cell_type": "code",
   "execution_count": null,
   "metadata": {},
   "outputs": [],
   "source": []
  },
  {
   "cell_type": "markdown",
   "metadata": {},
   "source": [
    "## Lets try on some real data now"
   ]
  },
  {
   "cell_type": "code",
   "execution_count": 18,
   "metadata": {},
   "outputs": [],
   "source": [
    "import pandas as pd"
   ]
  },
  {
   "cell_type": "code",
   "execution_count": 295,
   "metadata": {},
   "outputs": [],
   "source": [
    "#Reading the data\n",
    "fn=['mpg','cylinders','displacement','horsepower','weight','acc','model_year0','origin','carname']\n",
    "data=pd.read_table('asa',sep=';',header=None ,names=fn)"
   ]
  },
  {
   "cell_type": "markdown",
   "metadata": {},
   "source": [
    "Here, we have a real dataset in which we shall predict the efficiency of a car engine(in miles per gallon) based on parameters such as\n",
    "* The number of cylinders\n",
    "* Displacement\n",
    "* Horsepower \n",
    "* Weight\n",
    "* Acceleration\n",
    "and their combinations\n",
    "\n",
    "Note: This data is taken from the UCI repository's Auto-mpg Dataset. The data has been modified and converted into a txt file with ';' as the delimiter. \n",
    "The real data can be found at \n",
    "(https://archive.ics.uci.edu/ml/machine-learning-databases/auto-mpg/auto-mpg.data)"
   ]
  },
  {
   "cell_type": "code",
   "execution_count": 296,
   "metadata": {},
   "outputs": [
    {
     "data": {
      "text/html": [
       "<div>\n",
       "<style scoped>\n",
       "    .dataframe tbody tr th:only-of-type {\n",
       "        vertical-align: middle;\n",
       "    }\n",
       "\n",
       "    .dataframe tbody tr th {\n",
       "        vertical-align: top;\n",
       "    }\n",
       "\n",
       "    .dataframe thead th {\n",
       "        text-align: right;\n",
       "    }\n",
       "</style>\n",
       "<table border=\"1\" class=\"dataframe\">\n",
       "  <thead>\n",
       "    <tr style=\"text-align: right;\">\n",
       "      <th></th>\n",
       "      <th>mpg</th>\n",
       "      <th>cylinders</th>\n",
       "      <th>displacement</th>\n",
       "      <th>horsepower</th>\n",
       "      <th>weight</th>\n",
       "      <th>acc</th>\n",
       "      <th>model_year0</th>\n",
       "      <th>origin</th>\n",
       "      <th>carname</th>\n",
       "    </tr>\n",
       "  </thead>\n",
       "  <tbody>\n",
       "    <tr>\n",
       "      <th>0</th>\n",
       "      <td>18.0</td>\n",
       "      <td>8</td>\n",
       "      <td>307.0</td>\n",
       "      <td>130.0</td>\n",
       "      <td>3504.0</td>\n",
       "      <td>12.0</td>\n",
       "      <td>70</td>\n",
       "      <td>1</td>\n",
       "      <td>chevrolet chevelle malibu</td>\n",
       "    </tr>\n",
       "    <tr>\n",
       "      <th>1</th>\n",
       "      <td>15.0</td>\n",
       "      <td>8</td>\n",
       "      <td>350.0</td>\n",
       "      <td>165.0</td>\n",
       "      <td>3693.0</td>\n",
       "      <td>11.5</td>\n",
       "      <td>70</td>\n",
       "      <td>1</td>\n",
       "      <td>buick skylark 320</td>\n",
       "    </tr>\n",
       "    <tr>\n",
       "      <th>2</th>\n",
       "      <td>18.0</td>\n",
       "      <td>8</td>\n",
       "      <td>318.0</td>\n",
       "      <td>150.0</td>\n",
       "      <td>3436.0</td>\n",
       "      <td>11.0</td>\n",
       "      <td>70</td>\n",
       "      <td>1</td>\n",
       "      <td>plymouth satellite</td>\n",
       "    </tr>\n",
       "    <tr>\n",
       "      <th>3</th>\n",
       "      <td>16.0</td>\n",
       "      <td>8</td>\n",
       "      <td>304.0</td>\n",
       "      <td>150.0</td>\n",
       "      <td>3433.0</td>\n",
       "      <td>12.0</td>\n",
       "      <td>70</td>\n",
       "      <td>1</td>\n",
       "      <td>amc rebel sst</td>\n",
       "    </tr>\n",
       "    <tr>\n",
       "      <th>4</th>\n",
       "      <td>17.0</td>\n",
       "      <td>8</td>\n",
       "      <td>302.0</td>\n",
       "      <td>140.0</td>\n",
       "      <td>3449.0</td>\n",
       "      <td>10.5</td>\n",
       "      <td>70</td>\n",
       "      <td>1</td>\n",
       "      <td>ford torino</td>\n",
       "    </tr>\n",
       "  </tbody>\n",
       "</table>\n",
       "</div>"
      ],
      "text/plain": [
       "    mpg  cylinders  displacement horsepower  weight   acc  model_year0  \\\n",
       "0  18.0          8         307.0      130.0  3504.0  12.0           70   \n",
       "1  15.0          8         350.0      165.0  3693.0  11.5           70   \n",
       "2  18.0          8         318.0      150.0  3436.0  11.0           70   \n",
       "3  16.0          8         304.0      150.0  3433.0  12.0           70   \n",
       "4  17.0          8         302.0      140.0  3449.0  10.5           70   \n",
       "\n",
       "   origin                    carname  \n",
       "0       1  chevrolet chevelle malibu  \n",
       "1       1          buick skylark 320  \n",
       "2       1         plymouth satellite  \n",
       "3       1              amc rebel sst  \n",
       "4       1                ford torino  "
      ]
     },
     "execution_count": 296,
     "metadata": {},
     "output_type": "execute_result"
    }
   ],
   "source": [
    "data.head()"
   ]
  },
  {
   "cell_type": "markdown",
   "metadata": {},
   "source": [
    "We now drop the useless data first ( the model_year, origin, and the name)"
   ]
  },
  {
   "cell_type": "code",
   "execution_count": 297,
   "metadata": {},
   "outputs": [],
   "source": [
    "#Removing useless columns\n",
    "data.drop(labels=['model_year0','origin','carname'],axis=1,inplace=True)"
   ]
  },
  {
   "cell_type": "code",
   "execution_count": 298,
   "metadata": {},
   "outputs": [
    {
     "data": {
      "text/html": [
       "<div>\n",
       "<style scoped>\n",
       "    .dataframe tbody tr th:only-of-type {\n",
       "        vertical-align: middle;\n",
       "    }\n",
       "\n",
       "    .dataframe tbody tr th {\n",
       "        vertical-align: top;\n",
       "    }\n",
       "\n",
       "    .dataframe thead th {\n",
       "        text-align: right;\n",
       "    }\n",
       "</style>\n",
       "<table border=\"1\" class=\"dataframe\">\n",
       "  <thead>\n",
       "    <tr style=\"text-align: right;\">\n",
       "      <th></th>\n",
       "      <th>mpg</th>\n",
       "      <th>cylinders</th>\n",
       "      <th>displacement</th>\n",
       "      <th>horsepower</th>\n",
       "      <th>weight</th>\n",
       "      <th>acc</th>\n",
       "    </tr>\n",
       "  </thead>\n",
       "  <tbody>\n",
       "    <tr>\n",
       "      <th>0</th>\n",
       "      <td>18.0</td>\n",
       "      <td>8</td>\n",
       "      <td>307.0</td>\n",
       "      <td>130.0</td>\n",
       "      <td>3504.0</td>\n",
       "      <td>12.0</td>\n",
       "    </tr>\n",
       "    <tr>\n",
       "      <th>1</th>\n",
       "      <td>15.0</td>\n",
       "      <td>8</td>\n",
       "      <td>350.0</td>\n",
       "      <td>165.0</td>\n",
       "      <td>3693.0</td>\n",
       "      <td>11.5</td>\n",
       "    </tr>\n",
       "    <tr>\n",
       "      <th>2</th>\n",
       "      <td>18.0</td>\n",
       "      <td>8</td>\n",
       "      <td>318.0</td>\n",
       "      <td>150.0</td>\n",
       "      <td>3436.0</td>\n",
       "      <td>11.0</td>\n",
       "    </tr>\n",
       "    <tr>\n",
       "      <th>3</th>\n",
       "      <td>16.0</td>\n",
       "      <td>8</td>\n",
       "      <td>304.0</td>\n",
       "      <td>150.0</td>\n",
       "      <td>3433.0</td>\n",
       "      <td>12.0</td>\n",
       "    </tr>\n",
       "    <tr>\n",
       "      <th>4</th>\n",
       "      <td>17.0</td>\n",
       "      <td>8</td>\n",
       "      <td>302.0</td>\n",
       "      <td>140.0</td>\n",
       "      <td>3449.0</td>\n",
       "      <td>10.5</td>\n",
       "    </tr>\n",
       "  </tbody>\n",
       "</table>\n",
       "</div>"
      ],
      "text/plain": [
       "    mpg  cylinders  displacement horsepower  weight   acc\n",
       "0  18.0          8         307.0      130.0  3504.0  12.0\n",
       "1  15.0          8         350.0      165.0  3693.0  11.5\n",
       "2  18.0          8         318.0      150.0  3436.0  11.0\n",
       "3  16.0          8         304.0      150.0  3433.0  12.0\n",
       "4  17.0          8         302.0      140.0  3449.0  10.5"
      ]
     },
     "execution_count": 298,
     "metadata": {},
     "output_type": "execute_result"
    }
   ],
   "source": [
    "data.head()"
   ]
  },
  {
   "cell_type": "code",
   "execution_count": 299,
   "metadata": {},
   "outputs": [
    {
     "data": {
      "text/plain": [
       "mpg             float64\n",
       "cylinders         int64\n",
       "displacement    float64\n",
       "horsepower       object\n",
       "weight          float64\n",
       "acc             float64\n",
       "dtype: object"
      ]
     },
     "execution_count": 299,
     "metadata": {},
     "output_type": "execute_result"
    }
   ],
   "source": [
    "#Finding the data types\n",
    "data.dtypes"
   ]
  },
  {
   "cell_type": "markdown",
   "metadata": {},
   "source": [
    "#### We see that horsepower which should be a float is actually an object. That means it has some missing values. Lets find out and replace those with outliers"
   ]
  },
  {
   "cell_type": "code",
   "execution_count": 300,
   "metadata": {},
   "outputs": [],
   "source": [
    "#Finding the outliers\n",
    "bad_labels = list(data[data.horsepower == '?'].index)"
   ]
  },
  {
   "cell_type": "code",
   "execution_count": 301,
   "metadata": {},
   "outputs": [],
   "source": [
    "#Dropping the missing values since they are not many. In case of more missing values,\n",
    "#extrapolate the data or fill them with outliers\n",
    "data.drop(labels=bad_labels,axis=0,inplace=True)"
   ]
  },
  {
   "cell_type": "code",
   "execution_count": 302,
   "metadata": {},
   "outputs": [
    {
     "data": {
      "text/html": [
       "<div>\n",
       "<style scoped>\n",
       "    .dataframe tbody tr th:only-of-type {\n",
       "        vertical-align: middle;\n",
       "    }\n",
       "\n",
       "    .dataframe tbody tr th {\n",
       "        vertical-align: top;\n",
       "    }\n",
       "\n",
       "    .dataframe thead th {\n",
       "        text-align: right;\n",
       "    }\n",
       "</style>\n",
       "<table border=\"1\" class=\"dataframe\">\n",
       "  <thead>\n",
       "    <tr style=\"text-align: right;\">\n",
       "      <th></th>\n",
       "      <th>mpg</th>\n",
       "      <th>cylinders</th>\n",
       "      <th>displacement</th>\n",
       "      <th>horsepower</th>\n",
       "      <th>weight</th>\n",
       "      <th>acc</th>\n",
       "    </tr>\n",
       "  </thead>\n",
       "  <tbody>\n",
       "  </tbody>\n",
       "</table>\n",
       "</div>"
      ],
      "text/plain": [
       "Empty DataFrame\n",
       "Columns: [mpg, cylinders, displacement, horsepower, weight, acc]\n",
       "Index: []"
      ]
     },
     "execution_count": 302,
     "metadata": {},
     "output_type": "execute_result"
    }
   ],
   "source": [
    "#Verifying that we have successfully dropped all missing values\n",
    "data[data.horsepower == '?']"
   ]
  },
  {
   "cell_type": "markdown",
   "metadata": {},
   "source": [
    "### Now that we have all numeric values, lets convert the horsepower column to numeric"
   ]
  },
  {
   "cell_type": "code",
   "execution_count": 303,
   "metadata": {},
   "outputs": [],
   "source": [
    "#Converting object type to float64 type\n",
    "data['horsepower']=data['horsepower'].apply(pd.to_numeric)"
   ]
  },
  {
   "cell_type": "code",
   "execution_count": 304,
   "metadata": {},
   "outputs": [
    {
     "data": {
      "text/plain": [
       "mpg             float64\n",
       "cylinders         int64\n",
       "displacement    float64\n",
       "horsepower      float64\n",
       "weight          float64\n",
       "acc             float64\n",
       "dtype: object"
      ]
     },
     "execution_count": 304,
     "metadata": {},
     "output_type": "execute_result"
    }
   ],
   "source": [
    "data.dtypes"
   ]
  },
  {
   "cell_type": "markdown",
   "metadata": {},
   "source": [
    "**NOTE** :  Usually, for real world problems, a lot of brainstorming is required for finding what combination of the parameters given will help the model fit most accurately. A combination of these parameters will definitely make the model better and can be added.\n",
    "\n",
    "Here, we add only a bias column, consisting of all ones. This will ensure that the intercept of the line may be non zero.\n"
   ]
  },
  {
   "cell_type": "code",
   "execution_count": 305,
   "metadata": {},
   "outputs": [],
   "source": [
    "\n",
    "#Adding bias column\n",
    "data['bias'] = [1]*len(data)"
   ]
  },
  {
   "cell_type": "code",
   "execution_count": 360,
   "metadata": {},
   "outputs": [
    {
     "data": {
      "text/html": [
       "<div>\n",
       "<style scoped>\n",
       "    .dataframe tbody tr th:only-of-type {\n",
       "        vertical-align: middle;\n",
       "    }\n",
       "\n",
       "    .dataframe tbody tr th {\n",
       "        vertical-align: top;\n",
       "    }\n",
       "\n",
       "    .dataframe thead th {\n",
       "        text-align: right;\n",
       "    }\n",
       "</style>\n",
       "<table border=\"1\" class=\"dataframe\">\n",
       "  <thead>\n",
       "    <tr style=\"text-align: right;\">\n",
       "      <th></th>\n",
       "      <th>mpg</th>\n",
       "      <th>cylinders</th>\n",
       "      <th>displacement</th>\n",
       "      <th>horsepower</th>\n",
       "      <th>weight</th>\n",
       "      <th>acc</th>\n",
       "      <th>bias</th>\n",
       "    </tr>\n",
       "  </thead>\n",
       "  <tbody>\n",
       "    <tr>\n",
       "      <th>0</th>\n",
       "      <td>22.0</td>\n",
       "      <td>4</td>\n",
       "      <td>140.0</td>\n",
       "      <td>72.0</td>\n",
       "      <td>2408.0</td>\n",
       "      <td>19.0</td>\n",
       "      <td>1</td>\n",
       "    </tr>\n",
       "    <tr>\n",
       "      <th>1</th>\n",
       "      <td>37.0</td>\n",
       "      <td>4</td>\n",
       "      <td>91.0</td>\n",
       "      <td>68.0</td>\n",
       "      <td>2025.0</td>\n",
       "      <td>18.2</td>\n",
       "      <td>1</td>\n",
       "    </tr>\n",
       "    <tr>\n",
       "      <th>2</th>\n",
       "      <td>33.0</td>\n",
       "      <td>4</td>\n",
       "      <td>91.0</td>\n",
       "      <td>53.0</td>\n",
       "      <td>1795.0</td>\n",
       "      <td>17.4</td>\n",
       "      <td>1</td>\n",
       "    </tr>\n",
       "    <tr>\n",
       "      <th>3</th>\n",
       "      <td>28.0</td>\n",
       "      <td>4</td>\n",
       "      <td>151.0</td>\n",
       "      <td>90.0</td>\n",
       "      <td>2678.0</td>\n",
       "      <td>16.5</td>\n",
       "      <td>1</td>\n",
       "    </tr>\n",
       "    <tr>\n",
       "      <th>4</th>\n",
       "      <td>10.0</td>\n",
       "      <td>8</td>\n",
       "      <td>307.0</td>\n",
       "      <td>200.0</td>\n",
       "      <td>4376.0</td>\n",
       "      <td>15.0</td>\n",
       "      <td>1</td>\n",
       "    </tr>\n",
       "  </tbody>\n",
       "</table>\n",
       "</div>"
      ],
      "text/plain": [
       "    mpg  cylinders  displacement  horsepower  weight   acc  bias\n",
       "0  22.0          4         140.0        72.0  2408.0  19.0     1\n",
       "1  37.0          4          91.0        68.0  2025.0  18.2     1\n",
       "2  33.0          4          91.0        53.0  1795.0  17.4     1\n",
       "3  28.0          4         151.0        90.0  2678.0  16.5     1\n",
       "4  10.0          8         307.0       200.0  4376.0  15.0     1"
      ]
     },
     "execution_count": 360,
     "metadata": {},
     "output_type": "execute_result"
    }
   ],
   "source": [
    "data.head()"
   ]
  },
  {
   "cell_type": "markdown",
   "metadata": {},
   "source": [
    "## Shuffling and splitting the data "
   ]
  },
  {
   "cell_type": "code",
   "execution_count": 307,
   "metadata": {},
   "outputs": [],
   "source": [
    "#Shuffling the data\n",
    "#sample returns 'frac' fraction of the data randomly. Keeping frac=1 means returning the whole data shuffled\n",
    "#reset_index option resets the indices of the rows so that the first row is still denoted by 0.\n",
    "data=data.sample(frac=1).reset_index(drop=True)"
   ]
  },
  {
   "cell_type": "code",
   "execution_count": 308,
   "metadata": {},
   "outputs": [
    {
     "data": {
      "text/html": [
       "<div>\n",
       "<style scoped>\n",
       "    .dataframe tbody tr th:only-of-type {\n",
       "        vertical-align: middle;\n",
       "    }\n",
       "\n",
       "    .dataframe tbody tr th {\n",
       "        vertical-align: top;\n",
       "    }\n",
       "\n",
       "    .dataframe thead th {\n",
       "        text-align: right;\n",
       "    }\n",
       "</style>\n",
       "<table border=\"1\" class=\"dataframe\">\n",
       "  <thead>\n",
       "    <tr style=\"text-align: right;\">\n",
       "      <th></th>\n",
       "      <th>mpg</th>\n",
       "      <th>cylinders</th>\n",
       "      <th>displacement</th>\n",
       "      <th>horsepower</th>\n",
       "      <th>weight</th>\n",
       "      <th>acc</th>\n",
       "      <th>bias</th>\n",
       "    </tr>\n",
       "  </thead>\n",
       "  <tbody>\n",
       "    <tr>\n",
       "      <th>0</th>\n",
       "      <td>22.0</td>\n",
       "      <td>4</td>\n",
       "      <td>140.0</td>\n",
       "      <td>72.0</td>\n",
       "      <td>2408.0</td>\n",
       "      <td>19.0</td>\n",
       "      <td>1</td>\n",
       "    </tr>\n",
       "    <tr>\n",
       "      <th>1</th>\n",
       "      <td>37.0</td>\n",
       "      <td>4</td>\n",
       "      <td>91.0</td>\n",
       "      <td>68.0</td>\n",
       "      <td>2025.0</td>\n",
       "      <td>18.2</td>\n",
       "      <td>1</td>\n",
       "    </tr>\n",
       "    <tr>\n",
       "      <th>2</th>\n",
       "      <td>33.0</td>\n",
       "      <td>4</td>\n",
       "      <td>91.0</td>\n",
       "      <td>53.0</td>\n",
       "      <td>1795.0</td>\n",
       "      <td>17.4</td>\n",
       "      <td>1</td>\n",
       "    </tr>\n",
       "    <tr>\n",
       "      <th>3</th>\n",
       "      <td>28.0</td>\n",
       "      <td>4</td>\n",
       "      <td>151.0</td>\n",
       "      <td>90.0</td>\n",
       "      <td>2678.0</td>\n",
       "      <td>16.5</td>\n",
       "      <td>1</td>\n",
       "    </tr>\n",
       "    <tr>\n",
       "      <th>4</th>\n",
       "      <td>10.0</td>\n",
       "      <td>8</td>\n",
       "      <td>307.0</td>\n",
       "      <td>200.0</td>\n",
       "      <td>4376.0</td>\n",
       "      <td>15.0</td>\n",
       "      <td>1</td>\n",
       "    </tr>\n",
       "  </tbody>\n",
       "</table>\n",
       "</div>"
      ],
      "text/plain": [
       "    mpg  cylinders  displacement  horsepower  weight   acc  bias\n",
       "0  22.0          4         140.0        72.0  2408.0  19.0     1\n",
       "1  37.0          4          91.0        68.0  2025.0  18.2     1\n",
       "2  33.0          4          91.0        53.0  1795.0  17.4     1\n",
       "3  28.0          4         151.0        90.0  2678.0  16.5     1\n",
       "4  10.0          8         307.0       200.0  4376.0  15.0     1"
      ]
     },
     "execution_count": 308,
     "metadata": {},
     "output_type": "execute_result"
    }
   ],
   "source": [
    "data.head()"
   ]
  },
  {
   "cell_type": "code",
   "execution_count": 361,
   "metadata": {},
   "outputs": [],
   "source": [
    "Xtr = data.loc[0:278,'cylinders':'bias']  #Training X values\n",
    "Xte = data.loc[278:,'cylinders':'bias']   #Testing X values\n",
    "Ytr = data.loc[0:278,'mpg']             #Training Y values\n",
    "Yte = data.loc[278:,'mpg']              #Testing Y values\n"
   ]
  },
  {
   "cell_type": "code",
   "execution_count": null,
   "metadata": {},
   "outputs": [],
   "source": []
  },
  {
   "cell_type": "code",
   "execution_count": null,
   "metadata": {},
   "outputs": [],
   "source": []
  },
  {
   "cell_type": "markdown",
   "metadata": {},
   "source": [
    "## The refining of the data is finally done\n",
    "\n",
    "## Training The Model"
   ]
  },
  {
   "cell_type": "markdown",
   "metadata": {},
   "source": [
    "### Regularization\n",
    "\n",
    "- Regularization is used to fine tune the data so that it does not under-fit or over-fit the data. It          includes adding penalty to the cost function which depends only on the weights.\n",
    "- L Regularization is given by :\n",
    "<img src=\"https://i2.wp.com/laid.delanover.com/wp-content/uploads/2018/01/reg_formulas.png\">\n",
    "\n",
    "A better explanation is given at (https://www.youtube.com/watch?v=sO4ZirJh9ds)\n"
   ]
  },
  {
   "cell_type": "code",
   "execution_count": null,
   "metadata": {},
   "outputs": [],
   "source": []
  },
  {
   "cell_type": "markdown",
   "metadata": {},
   "source": [
    "### we shall use the normal equation and modify it to include lambda in it, to use L-2 regularization\n",
    "### this equation is derived by taking the first derivative of the new cost function and equating it to 0"
   ]
  },
  {
   "cell_type": "code",
   "execution_count": 362,
   "metadata": {},
   "outputs": [],
   "source": [
    " #Normal eqn: (transpose(F)*F + lambda*I)*W = transpose(F)*(Y(column))\n",
    "lambda1 = 1\n",
    "lambda2 = 1000\n",
    "lambda3 = 0\n",
    "#For lambda = 1\n",
    "tff1=np.matmul(np.transpose(Xtr),Xtr) + lambda1*np.identity(Xtr.shape[1])\n",
    "tff1_inv=np.linalg.inv(tff1)\n",
    "W1= np.matmul(np.matmul(tff1_inv,np.transpose(Xtr)), Ytr)\n",
    "\n",
    "#For lambda = 1000 \n",
    "tff2=np.matmul(np.transpose(Xtr),Xtr) + lambda2*np.identity(Xtr.shape[1])\n",
    "tff2_inv=np.linalg.inv(tff2)\n",
    "W2= np.matmul(np.matmul(tff2_inv,np.transpose(Xtr)), Ytr)\n",
    "\n",
    "#For lambda = 0 (No regularization)\n",
    "tff3=np.matmul(np.transpose(Xtr),Xtr) + lambda3*np.identity(Xtr.shape[1])\n",
    "tff3_inv=np.linalg.inv(tff3)\n",
    "W3= np.matmul(np.matmul(tff3_inv,np.transpose(Xtr)), Ytr)"
   ]
  },
  {
   "cell_type": "code",
   "execution_count": 363,
   "metadata": {},
   "outputs": [
    {
     "data": {
      "text/plain": [
       "array([ 6.74065062e-01, -1.90216457e-02,  6.83703662e-03, -5.73142140e-03,\n",
       "        6.01934047e-01,  3.04889046e+01])"
      ]
     },
     "execution_count": 363,
     "metadata": {},
     "output_type": "execute_result"
    }
   ],
   "source": [
    "W1"
   ]
  },
  {
   "cell_type": "code",
   "execution_count": 364,
   "metadata": {},
   "outputs": [
    {
     "data": {
      "text/plain": [
       "array([ 3.38469358e-01, -6.67034293e-02,  1.15759161e-01, -7.26004953e-04,\n",
       "        1.54637680e+00,  1.67509226e-01])"
      ]
     },
     "execution_count": 364,
     "metadata": {},
     "output_type": "execute_result"
    }
   ],
   "source": [
    "W2"
   ]
  },
  {
   "cell_type": "code",
   "execution_count": 365,
   "metadata": {},
   "outputs": [
    {
     "data": {
      "text/plain": [
       "array([-3.39920623e-01,  3.34908469e-03, -5.47292908e-02, -5.35709206e-03,\n",
       "       -3.31998434e-02,  4.69611643e+01])"
      ]
     },
     "execution_count": 365,
     "metadata": {},
     "output_type": "execute_result"
    }
   ],
   "source": [
    "W3"
   ]
  },
  {
   "cell_type": "markdown",
   "metadata": {},
   "source": [
    "### We can see that as lambda increases, weights get lower in magnitude as the penalty keeps on increasing."
   ]
  },
  {
   "cell_type": "code",
   "execution_count": null,
   "metadata": {},
   "outputs": [],
   "source": []
  },
  {
   "cell_type": "markdown",
   "metadata": {},
   "source": [
    "## Testing"
   ]
  },
  {
   "cell_type": "code",
   "execution_count": 404,
   "metadata": {},
   "outputs": [],
   "source": [
    "#Testing on training data\n",
    "Ypr1 = np.matmul(Xtr,W1)\n",
    "Ypr2 = np.matmul(Xtr,W2)\n",
    "Ypr3 = np.matmul(Xtr,W3)"
   ]
  },
  {
   "cell_type": "code",
   "execution_count": 406,
   "metadata": {},
   "outputs": [],
   "source": [
    "#Average loss on training data\n",
    "loss1 = np.sqrt(np.mean(((Ypr1 - Ytr)**2)))\n",
    "loss2 = np.sqrt(np.mean(((Ypr2 - Ytr)**2)))\n",
    "loss3 = np.sqrt(np.mean(((Ypr3 - Ytr)**2)))\n"
   ]
  },
  {
   "cell_type": "code",
   "execution_count": 407,
   "metadata": {},
   "outputs": [
    {
     "data": {
      "text/plain": [
       "4.466543342061013"
      ]
     },
     "execution_count": 407,
     "metadata": {},
     "output_type": "execute_result"
    }
   ],
   "source": [
    "loss1"
   ]
  },
  {
   "cell_type": "code",
   "execution_count": 408,
   "metadata": {},
   "outputs": [
    {
     "data": {
      "text/plain": [
       "20.104963739422566"
      ]
     },
     "execution_count": 408,
     "metadata": {},
     "output_type": "execute_result"
    }
   ],
   "source": [
    "loss2"
   ]
  },
  {
   "cell_type": "code",
   "execution_count": 409,
   "metadata": {},
   "outputs": [
    {
     "data": {
      "text/plain": [
       "4.438968213129565"
      ]
     },
     "execution_count": 409,
     "metadata": {},
     "output_type": "execute_result"
    }
   ],
   "source": [
    "loss3"
   ]
  },
  {
   "cell_type": "code",
   "execution_count": 410,
   "metadata": {},
   "outputs": [],
   "source": [
    "#Testing on testing data\n",
    "Ypr1 = np.matmul(Xte,W1)\n",
    "Ypr2 = np.matmul(Xte,W2)\n",
    "Ypr3 = np.matmul(Xte,W3)"
   ]
  },
  {
   "cell_type": "code",
   "execution_count": 411,
   "metadata": {},
   "outputs": [],
   "source": [
    "#Average loss on testing data\n",
    "loss1 = np.sqrt(np.mean(((Ypr1 - Yte)**2)))\n",
    "loss2 = np.sqrt(np.mean(((Ypr2 - Yte)**2)))\n",
    "loss3 = np.sqrt(np.mean(((Ypr3 - Yte)**2)))"
   ]
  },
  {
   "cell_type": "code",
   "execution_count": 412,
   "metadata": {},
   "outputs": [
    {
     "data": {
      "text/plain": [
       "44369.81511249779"
      ]
     },
     "execution_count": 412,
     "metadata": {},
     "output_type": "execute_result"
    }
   ],
   "source": [
    "loss1"
   ]
  },
  {
   "cell_type": "code",
   "execution_count": 413,
   "metadata": {},
   "outputs": [
    {
     "data": {
      "text/plain": [
       "1500.1371509667053"
      ]
     },
     "execution_count": 413,
     "metadata": {},
     "output_type": "execute_result"
    }
   ],
   "source": [
    "loss2"
   ]
  },
  {
   "cell_type": "code",
   "execution_count": 414,
   "metadata": {},
   "outputs": [
    {
     "data": {
      "text/plain": [
       "59708.79579796411"
      ]
     },
     "execution_count": 414,
     "metadata": {},
     "output_type": "execute_result"
    }
   ],
   "source": [
    "loss3"
   ]
  },
  {
   "cell_type": "markdown",
   "metadata": {},
   "source": [
    "### Whoa! Now thats pretty huge!\n",
    "### But observe that the case when lambda=1000 gives a lesser testing loss than others but a greater training loss\n",
    "### Thus, we can conclude that:\n",
    "- ### For higher lambda our model generalizes more but fits less i.e. it tends to **underfit** our data\n",
    "- ### For lower lambda our model fits well but generalizes less i.e. it tends to **overfit** the data\n",
    "- ### Its the trade-off between the two that must be decided by the user to suit his/her needs"
   ]
  },
  {
   "cell_type": "markdown",
   "metadata": {},
   "source": [
    "### The losses are actually the average values of the euclidean distance of the actual point from the predicted point.\n",
    "\n",
    "### Lets benchmark our model using sklearn"
   ]
  },
  {
   "cell_type": "code",
   "execution_count": 382,
   "metadata": {},
   "outputs": [],
   "source": [
    "#Invoking the standard library\n",
    "from sklearn import linear_model "
   ]
  },
  {
   "cell_type": "code",
   "execution_count": 419,
   "metadata": {},
   "outputs": [],
   "source": [
    "reg1 = linear_model.Ridge(alpha=0,fit_intercept=False)\n",
    "reg2 = linear_model.Ridge(alpha=1,fit_intercept=False)\n",
    "reg3 = linear_model.Ridge(alpha=1000, fit_intercept=False)"
   ]
  },
  {
   "cell_type": "code",
   "execution_count": 420,
   "metadata": {},
   "outputs": [
    {
     "data": {
      "text/plain": [
       "Ridge(alpha=1000, copy_X=True, fit_intercept=False, max_iter=None,\n",
       "   normalize=False, random_state=None, solver='auto', tol=0.001)"
      ]
     },
     "execution_count": 420,
     "metadata": {},
     "output_type": "execute_result"
    }
   ],
   "source": [
    "reg1.fit(Xtr,Ytr)\n",
    "reg2.fit(Xtr,Ytr)\n",
    "reg3.fit(Xtr,Ytr)"
   ]
  },
  {
   "cell_type": "code",
   "execution_count": 421,
   "metadata": {},
   "outputs": [
    {
     "name": "stdout",
     "output_type": "stream",
     "text": [
      "[ -1.69960312   1.29609577  -9.79654306 -18.7016084   -0.55775737\n",
      "  23.76810036]\n",
      "[ -2.47459851  -2.98385782  -8.41569854 -13.57930685  -0.53075765\n",
      "  23.68321429]\n",
      "[-0.5454808  -0.45106307 -0.35886134 -0.42702673  0.14884175  5.18475371]\n"
     ]
    }
   ],
   "source": [
    "print(reg1.coef_)\n",
    "print(reg2.coef_)\n",
    "print(reg3.coef_)"
   ]
  },
  {
   "cell_type": "code",
   "execution_count": 422,
   "metadata": {},
   "outputs": [
    {
     "name": "stdout",
     "output_type": "stream",
     "text": [
      "59708.795797964005\n",
      "44369.81511249766\n",
      "1500.1371509667056\n"
     ]
    }
   ],
   "source": [
    "print(np.sqrt(np.mean((reg1.predict(Xte) - Yte)**2)))\n",
    "print(np.sqrt(np.mean((reg2.predict(Xte) - Yte)**2)))\n",
    "print(np.sqrt(np.mean((reg3.predict(Xte) - Yte)**2)))"
   ]
  },
  {
   "cell_type": "markdown",
   "metadata": {},
   "source": [
    "### So thats our average loss from a library as well. That indicates our method is correct"
   ]
  }
 ],
 "metadata": {
  "kernelspec": {
   "display_name": "Python 3",
   "language": "python",
   "name": "python3"
  },
  "language_info": {
   "codemirror_mode": {
    "name": "ipython",
    "version": 3
   },
   "file_extension": ".py",
   "mimetype": "text/x-python",
   "name": "python",
   "nbconvert_exporter": "python",
   "pygments_lexer": "ipython3",
   "version": "3.5.2"
  }
 },
 "nbformat": 4,
 "nbformat_minor": 2
}
