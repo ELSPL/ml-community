{
 "cells": [
  {
   "cell_type": "code",
   "execution_count": 189,
   "metadata": {},
   "outputs": [],
   "source": [
    "import numpy as np\n",
    "from matplotlib import pyplot as plt\n",
    "import random"
   ]
  },
  {
   "cell_type": "code",
   "execution_count": 190,
   "metadata": {},
   "outputs": [],
   "source": [
    "#Generate random noise in our data\n",
    "X=np.linspace(0,2,num=200)\n",
    "Y=np.sin(np.pi*X)\n",
    "for i in range(len(Y)):\n",
    "    dummy=random.choice([-1,1])\n",
    "    Y[i]=Y[i]+(dummy*random.random())/4\n",
    "    "
   ]
  },
  {
   "cell_type": "code",
   "execution_count": 191,
   "metadata": {},
   "outputs": [
    {
     "data": {
      "text/plain": [
       "<matplotlib.collections.PathCollection at 0x7ff90e4affd0>"
      ]
     },
     "execution_count": 191,
     "metadata": {},
     "output_type": "execute_result"
    },
    {
     "data": {
      "image/png": "[encoded data removed]",
      "text/plain": [
       "<Figure size 432x288 with 1 Axes>"
      ]
     },
     "metadata": {},
     "output_type": "display_data"
    }
   ],
   "source": [
    "#Visualizing the data\n",
    "#red points represent sin(pi*x) \n",
    "#blue points represent our data( after introducing noise )\n",
    "plt.scatter(X,Y,c='blue')\n",
    "plt.scatter(X,np.sin(np.pi*X),c='red')"
   ]
  },
  {
   "cell_type": "markdown",
   "metadata": {},
   "source": [
    "### When M=1, the program represents linear regression\n",
    "### When M>1, the program represents polynomial regression"
   ]
  },
  {
   "cell_type": "code",
   "execution_count": 192,
   "metadata": {},
   "outputs": [],
   "source": [
    "#features cosidering a cubic polynomial for fitting \n",
    "#Change M as per requirement\n",
    "f0= [1]*len(X)\n",
    "M=4\n",
    "F=f0\n",
    "#f1= X\n",
    "#f2= X**2\n",
    "#f3= X**3\n",
    "#F=np.column_stack([f0,f1,f2,f3])\n",
    "#Generalizing for M degree\n",
    "for i in range(1,M+1):\n",
    "    F = np.column_stack([F, X**i])"
   ]
  },
  {
   "cell_type": "code",
   "execution_count": 193,
   "metadata": {},
   "outputs": [
    {
     "data": {
      "text/plain": [
       "array([[1.00000000e+00, 0.00000000e+00, 0.00000000e+00, 0.00000000e+00,\n",
       "        0.00000000e+00],\n",
       "       [1.00000000e+00, 1.00502513e-02, 1.01007550e-04, 1.01515126e-06,\n",
       "        1.02025252e-08],\n",
       "       [1.00000000e+00, 2.01005025e-02, 4.04030201e-04, 8.12121008e-06,\n",
       "        1.63240404e-07],\n",
       "       [1.00000000e+00, 3.01507538e-02, 9.09067953e-04, 2.74090840e-05,\n",
       "        8.26404543e-07],\n",
       "       [1.00000000e+00, 4.02010050e-02, 1.61612081e-03, 6.49696806e-05,\n",
       "        2.61184646e-06],\n",
       "       [1.00000000e+00, 5.02512563e-02, 2.52518876e-03, 1.26893907e-04,\n",
       "        6.37657826e-06],\n",
       "       [1.00000000e+00, 6.03015075e-02, 3.63627181e-03, 2.19272672e-04,\n",
       "        1.32224727e-05],\n",
       "       [1.00000000e+00, 7.03517588e-02, 4.94936997e-03, 3.48196882e-04,\n",
       "        2.44962631e-05],\n",
       "       [1.00000000e+00, 8.04020101e-02, 6.46448322e-03, 5.19757445e-04,\n",
       "        4.17895433e-05],\n",
       "       [1.00000000e+00, 9.04522613e-02, 8.18161158e-03, 7.40045268e-04,\n",
       "        6.69387680e-05],\n",
       "       [1.00000000e+00, 1.00502513e-01, 1.01007550e-02, 1.01515126e-03,\n",
       "        1.02025252e-04],\n",
       "       [1.00000000e+00, 1.10552764e-01, 1.22219136e-02, 1.35116633e-03,\n",
       "        1.49375172e-04],\n",
       "       [1.00000000e+00, 1.20603015e-01, 1.45450872e-02, 1.75418138e-03,\n",
       "        2.11559563e-04],\n",
       "       [1.00000000e+00, 1.30653266e-01, 1.70702760e-02, 2.23028732e-03,\n",
       "        2.91394323e-04],\n",
       "       [1.00000000e+00, 1.40703518e-01, 1.97974799e-02, 2.78557506e-03,\n",
       "        3.91940209e-04],\n",
       "       [1.00000000e+00, 1.50753769e-01, 2.27266988e-02, 3.42613550e-03,\n",
       "        5.16502839e-04],\n",
       "       [1.00000000e+00, 1.60804020e-01, 2.58579329e-02, 4.15805956e-03,\n",
       "        6.68632693e-04],\n",
       "       [1.00000000e+00, 1.70854271e-01, 2.91911820e-02, 4.98743814e-03,\n",
       "        8.52125109e-04],\n",
       "       [1.00000000e+00, 1.80904523e-01, 3.27264463e-02, 5.92036215e-03,\n",
       "        1.07102029e-03],\n",
       "       [1.00000000e+00, 1.90954774e-01, 3.64637257e-02, 6.96292249e-03,\n",
       "        1.32960329e-03],\n",
       "       [1.00000000e+00, 2.01005025e-01, 4.04030201e-02, 8.12121008e-03,\n",
       "        1.63240404e-03],\n",
       "       [1.00000000e+00, 2.11055276e-01, 4.45443297e-02, 9.40131581e-03,\n",
       "        1.98419731e-03],\n",
       "       [1.00000000e+00, 2.21105528e-01, 4.88876544e-02, 1.08093306e-02,\n",
       "        2.39000275e-03],\n",
       "       [1.00000000e+00, 2.31155779e-01, 5.34329941e-02, 1.23513454e-02,\n",
       "        2.85508486e-03],\n",
       "       [1.00000000e+00, 2.41206030e-01, 5.81803490e-02, 1.40334510e-02,\n",
       "        3.38495301e-03],\n",
       "       [1.00000000e+00, 2.51256281e-01, 6.31297189e-02, 1.58617384e-02,\n",
       "        3.98536141e-03],\n",
       "       [1.00000000e+00, 2.61306533e-01, 6.82811040e-02, 1.78422985e-02,\n",
       "        4.66230917e-03],\n",
       "       [1.00000000e+00, 2.71356784e-01, 7.36345042e-02, 1.99812222e-02,\n",
       "        5.42204021e-03],\n",
       "       [1.00000000e+00, 2.81407035e-01, 7.91899194e-02, 2.22846004e-02,\n",
       "        6.27104334e-03],\n",
       "       [1.00000000e+00, 2.91457286e-01, 8.49473498e-02, 2.47585241e-02,\n",
       "        7.21605224e-03],\n",
       "       [1.00000000e+00, 3.01507538e-01, 9.09067953e-02, 2.74090840e-02,\n",
       "        8.26404543e-03],\n",
       "       [1.00000000e+00, 3.11557789e-01, 9.70682559e-02, 3.02423712e-02,\n",
       "        9.42224629e-03],\n",
       "       [1.00000000e+00, 3.21608040e-01, 1.03431732e-01, 3.32644765e-02,\n",
       "        1.06981231e-02],\n",
       "       [1.00000000e+00, 3.31658291e-01, 1.09997222e-01, 3.64814908e-02,\n",
       "        1.20993889e-02],\n",
       "       [1.00000000e+00, 3.41708543e-01, 1.16764728e-01, 3.98995051e-02,\n",
       "        1.36340017e-02],\n",
       "       [1.00000000e+00, 3.51758794e-01, 1.23734249e-01, 4.35246102e-02,\n",
       "        1.53101644e-02],\n",
       "       [1.00000000e+00, 3.61809045e-01, 1.30905785e-01, 4.73628972e-02,\n",
       "        1.71363246e-02],\n",
       "       [1.00000000e+00, 3.71859296e-01, 1.38279336e-01, 5.14204567e-02,\n",
       "        1.91211749e-02],\n",
       "       [1.00000000e+00, 3.81909548e-01, 1.45854903e-01, 5.57033799e-02,\n",
       "        2.12736526e-02],\n",
       "       [1.00000000e+00, 3.91959799e-01, 1.53632484e-01, 6.02177576e-02,\n",
       "        2.36029401e-02],\n",
       "       [1.00000000e+00, 4.02010050e-01, 1.61612081e-01, 6.49696806e-02,\n",
       "        2.61184646e-02],\n",
       "       [1.00000000e+00, 4.12060302e-01, 1.69793692e-01, 6.99652400e-02,\n",
       "        2.88298979e-02],\n",
       "       [1.00000000e+00, 4.22110553e-01, 1.78177319e-01, 7.52105265e-02,\n",
       "        3.17471569e-02],\n",
       "       [1.00000000e+00, 4.32160804e-01, 1.86762961e-01, 8.07116312e-02,\n",
       "        3.48804034e-02],\n",
       "       [1.00000000e+00, 4.42211055e-01, 1.95550617e-01, 8.64746449e-02,\n",
       "        3.82400440e-02],\n",
       "       [1.00000000e+00, 4.52261307e-01, 2.04540289e-01, 9.25056585e-02,\n",
       "        4.18367300e-02],\n",
       "       [1.00000000e+00, 4.62311558e-01, 2.13731976e-01, 9.88107630e-02,\n",
       "        4.56813578e-02],\n",
       "       [1.00000000e+00, 4.72361809e-01, 2.23125679e-01, 1.05396049e-01,\n",
       "        4.97850685e-02],\n",
       "       [1.00000000e+00, 4.82412060e-01, 2.32721396e-01, 1.12267608e-01,\n",
       "        5.41592481e-02],\n",
       "       [1.00000000e+00, 4.92462312e-01, 2.42519128e-01, 1.19431531e-01,\n",
       "        5.88155276e-02],\n",
       "       [1.00000000e+00, 5.02512563e-01, 2.52518876e-01, 1.26893907e-01,\n",
       "        6.37657826e-02],\n",
       "       [1.00000000e+00, 5.12562814e-01, 2.62720638e-01, 1.34660830e-01,\n",
       "        6.90221338e-02],\n",
       "       [1.00000000e+00, 5.22613065e-01, 2.73124416e-01, 1.42738388e-01,\n",
       "        7.45969466e-02],\n",
       "       [1.00000000e+00, 5.32663317e-01, 2.83730209e-01, 1.51132674e-01,\n",
       "        8.05028314e-02],\n",
       "       [1.00000000e+00, 5.42713568e-01, 2.94538017e-01, 1.59849778e-01,\n",
       "        8.67526433e-02],\n",
       "       [1.00000000e+00, 5.52763819e-01, 3.05547840e-01, 1.68895791e-01,\n",
       "        9.33594823e-02],\n",
       "       [1.00000000e+00, 5.62814070e-01, 3.16759678e-01, 1.78276804e-01,\n",
       "        1.00336693e-01],\n",
       "       [1.00000000e+00, 5.72864322e-01, 3.28173531e-01, 1.87998907e-01,\n",
       "        1.07697866e-01],\n",
       "       [1.00000000e+00, 5.82914573e-01, 3.39789399e-01, 1.98068193e-01,\n",
       "        1.15456836e-01],\n",
       "       [1.00000000e+00, 5.92964824e-01, 3.51607283e-01, 2.08490751e-01,\n",
       "        1.23627681e-01],\n",
       "       [1.00000000e+00, 6.03015075e-01, 3.63627181e-01, 2.19272672e-01,\n",
       "        1.32224727e-01],\n",
       "       [1.00000000e+00, 6.13065327e-01, 3.75849095e-01, 2.30420048e-01,\n",
       "        1.41262542e-01],\n",
       "       [1.00000000e+00, 6.23115578e-01, 3.88273023e-01, 2.41938969e-01,\n",
       "        1.50755941e-01],\n",
       "       [1.00000000e+00, 6.33165829e-01, 4.00898967e-01, 2.53835527e-01,\n",
       "        1.60719982e-01],\n",
       "       [1.00000000e+00, 6.43216080e-01, 4.13726926e-01, 2.66115812e-01,\n",
       "        1.71169969e-01],\n",
       "       [1.00000000e+00, 6.53266332e-01, 4.26756900e-01, 2.78785915e-01,\n",
       "        1.82121452e-01],\n",
       "       [1.00000000e+00, 6.63316583e-01, 4.39988889e-01, 2.91851926e-01,\n",
       "        1.93590223e-01],\n",
       "       [1.00000000e+00, 6.73366834e-01, 4.53422893e-01, 3.05319938e-01,\n",
       "        2.05592320e-01],\n",
       "       [1.00000000e+00, 6.83417085e-01, 4.67058913e-01, 3.19196041e-01,\n",
       "        2.18144028e-01],\n",
       "       [1.00000000e+00, 6.93467337e-01, 4.80896947e-01, 3.33486325e-01,\n",
       "        2.31261874e-01],\n",
       "       [1.00000000e+00, 7.03517588e-01, 4.94936997e-01, 3.48196882e-01,\n",
       "        2.44962631e-01],\n",
       "       [1.00000000e+00, 7.13567839e-01, 5.09179061e-01, 3.63333802e-01,\n",
       "        2.59263316e-01],\n",
       "       [1.00000000e+00, 7.23618090e-01, 5.23623141e-01, 3.78903177e-01,\n",
       "        2.74181194e-01],\n",
       "       [1.00000000e+00, 7.33668342e-01, 5.38269236e-01, 3.94911097e-01,\n",
       "        2.89733770e-01],\n",
       "       [1.00000000e+00, 7.43718593e-01, 5.53117346e-01, 4.11363654e-01,\n",
       "        3.05938798e-01],\n",
       "       [1.00000000e+00, 7.53768844e-01, 5.68167471e-01, 4.28266938e-01,\n",
       "        3.22814275e-01],\n",
       "       [1.00000000e+00, 7.63819095e-01, 5.83419611e-01, 4.45627039e-01,\n",
       "        3.40378442e-01],\n",
       "       [1.00000000e+00, 7.73869347e-01, 5.98873766e-01, 4.63450050e-01,\n",
       "        3.58649787e-01],\n",
       "       [1.00000000e+00, 7.83919598e-01, 6.14529936e-01, 4.81742060e-01,\n",
       "        3.77647042e-01],\n",
       "       [1.00000000e+00, 7.93969849e-01, 6.30388122e-01, 5.00509162e-01,\n",
       "        3.97389184e-01],\n",
       "       [1.00000000e+00, 8.04020101e-01, 6.46448322e-01, 5.19757445e-01,\n",
       "        4.17895433e-01],\n",
       "       [1.00000000e+00, 8.14070352e-01, 6.62710538e-01, 5.39493000e-01,\n",
       "        4.39185257e-01],\n",
       "       [1.00000000e+00, 8.24120603e-01, 6.79174768e-01, 5.59721920e-01,\n",
       "        4.61278366e-01],\n",
       "       [1.00000000e+00, 8.34170854e-01, 6.95841014e-01, 5.80450293e-01,\n",
       "        4.84194717e-01],\n",
       "       [1.00000000e+00, 8.44221106e-01, 7.12709275e-01, 6.01684212e-01,\n",
       "        5.07954511e-01],\n",
       "       [1.00000000e+00, 8.54271357e-01, 7.29779551e-01, 6.23429767e-01,\n",
       "        5.32578193e-01],\n",
       "       [1.00000000e+00, 8.64321608e-01, 7.47051842e-01, 6.45693049e-01,\n",
       "        5.58086455e-01],\n",
       "       [1.00000000e+00, 8.74371859e-01, 7.64526148e-01, 6.68480150e-01,\n",
       "        5.84500231e-01],\n",
       "       [1.00000000e+00, 8.84422111e-01, 7.82202470e-01, 6.91797159e-01,\n",
       "        6.11840704e-01],\n",
       "       [1.00000000e+00, 8.94472362e-01, 8.00080806e-01, 7.15650168e-01,\n",
       "        6.40129296e-01],\n",
       "       [1.00000000e+00, 9.04522613e-01, 8.18161158e-01, 7.40045268e-01,\n",
       "        6.69387680e-01],\n",
       "       [1.00000000e+00, 9.14572864e-01, 8.36443524e-01, 7.64988550e-01,\n",
       "        6.99637769e-01],\n",
       "       [1.00000000e+00, 9.24623116e-01, 8.54927906e-01, 7.90486104e-01,\n",
       "        7.30901724e-01],\n",
       "       [1.00000000e+00, 9.34673367e-01, 8.73614303e-01, 8.16544022e-01,\n",
       "        7.63201950e-01],\n",
       "       [1.00000000e+00, 9.44723618e-01, 8.92502715e-01, 8.43168394e-01,\n",
       "        7.96561096e-01],\n",
       "       [1.00000000e+00, 9.54773869e-01, 9.11593142e-01, 8.70365311e-01,\n",
       "        8.31002056e-01],\n",
       "       [1.00000000e+00, 9.64824121e-01, 9.30885584e-01, 8.98140865e-01,\n",
       "        8.66547970e-01],\n",
       "       [1.00000000e+00, 9.74874372e-01, 9.50380041e-01, 9.26501145e-01,\n",
       "        9.03222222e-01],\n",
       "       [1.00000000e+00, 9.84924623e-01, 9.70076513e-01, 9.55452244e-01,\n",
       "        9.41048441e-01],\n",
       "       [1.00000000e+00, 9.94974874e-01, 9.89975001e-01, 9.85000252e-01,\n",
       "        9.80050502e-01],\n",
       "       [1.00000000e+00, 1.00502513e+00, 1.01007550e+00, 1.01515126e+00,\n",
       "        1.02025252e+00],\n",
       "       [1.00000000e+00, 1.01507538e+00, 1.03037802e+00, 1.04591136e+00,\n",
       "        1.06167887e+00],\n",
       "       [1.00000000e+00, 1.02512563e+00, 1.05088255e+00, 1.07728664e+00,\n",
       "        1.10435414e+00],\n",
       "       [1.00000000e+00, 1.03517588e+00, 1.07158910e+00, 1.10928319e+00,\n",
       "        1.14830320e+00],\n",
       "       [1.00000000e+00, 1.04522613e+00, 1.09249766e+00, 1.14190711e+00,\n",
       "        1.19355115e+00],\n",
       "       [1.00000000e+00, 1.05527638e+00, 1.11360824e+00, 1.17516448e+00,\n",
       "        1.24012332e+00],\n",
       "       [1.00000000e+00, 1.06532663e+00, 1.13492084e+00, 1.20906139e+00,\n",
       "        1.28804530e+00],\n",
       "       [1.00000000e+00, 1.07537688e+00, 1.15643544e+00, 1.24360394e+00,\n",
       "        1.33734294e+00],\n",
       "       [1.00000000e+00, 1.08542714e+00, 1.17815207e+00, 1.27879822e+00,\n",
       "        1.38804229e+00],\n",
       "       [1.00000000e+00, 1.09547739e+00, 1.20007071e+00, 1.31465032e+00,\n",
       "        1.44016970e+00],\n",
       "       [1.00000000e+00, 1.10552764e+00, 1.22219136e+00, 1.35116633e+00,\n",
       "        1.49375172e+00],\n",
       "       [1.00000000e+00, 1.11557789e+00, 1.24451403e+00, 1.38835233e+00,\n",
       "        1.54881516e+00],\n",
       "       [1.00000000e+00, 1.12562814e+00, 1.26703871e+00, 1.42621443e+00,\n",
       "        1.60538710e+00],\n",
       "       [1.00000000e+00, 1.13567839e+00, 1.28976541e+00, 1.46475871e+00,\n",
       "        1.66349481e+00],\n",
       "       [1.00000000e+00, 1.14572864e+00, 1.31269412e+00, 1.50399126e+00,\n",
       "        1.72316586e+00],\n",
       "       [1.00000000e+00, 1.15577889e+00, 1.33582485e+00, 1.54391817e+00,\n",
       "        1.78442804e+00],\n",
       "       [1.00000000e+00, 1.16582915e+00, 1.35915760e+00, 1.58454554e+00,\n",
       "        1.84730937e+00],\n",
       "       [1.00000000e+00, 1.17587940e+00, 1.38269236e+00, 1.62587945e+00,\n",
       "        1.91183815e+00],\n",
       "       [1.00000000e+00, 1.18592965e+00, 1.40642913e+00, 1.66792600e+00,\n",
       "        1.97804290e+00],\n",
       "       [1.00000000e+00, 1.19597990e+00, 1.43036792e+00, 1.71069128e+00,\n",
       "        2.04595239e+00],\n",
       "       [1.00000000e+00, 1.20603015e+00, 1.45450872e+00, 1.75418138e+00,\n",
       "        2.11559563e+00],\n",
       "       [1.00000000e+00, 1.21608040e+00, 1.47885154e+00, 1.79840238e+00,\n",
       "        2.18700189e+00],\n",
       "       [1.00000000e+00, 1.22613065e+00, 1.50339638e+00, 1.84336038e+00,\n",
       "        2.26020067e+00],\n",
       "       [1.00000000e+00, 1.23618090e+00, 1.52814323e+00, 1.88906148e+00,\n",
       "        2.33522173e+00],\n",
       "       [1.00000000e+00, 1.24623116e+00, 1.55309209e+00, 1.93551175e+00,\n",
       "        2.41209505e+00],\n",
       "       [1.00000000e+00, 1.25628141e+00, 1.57824297e+00, 1.98271730e+00,\n",
       "        2.49085088e+00],\n",
       "       [1.00000000e+00, 1.26633166e+00, 1.60359587e+00, 2.03068422e+00,\n",
       "        2.57151971e+00],\n",
       "       [1.00000000e+00, 1.27638191e+00, 1.62915078e+00, 2.07941858e+00,\n",
       "        2.65413226e+00],\n",
       "       [1.00000000e+00, 1.28643216e+00, 1.65490770e+00, 2.12892649e+00,\n",
       "        2.73871951e+00],\n",
       "       [1.00000000e+00, 1.29648241e+00, 1.68086664e+00, 2.17921404e+00,\n",
       "        2.82531268e+00],\n",
       "       [1.00000000e+00, 1.30653266e+00, 1.70702760e+00, 2.23028732e+00,\n",
       "        2.91394323e+00],\n",
       "       [1.00000000e+00, 1.31658291e+00, 1.73339057e+00, 2.28215241e+00,\n",
       "        3.00464287e+00],\n",
       "       [1.00000000e+00, 1.32663317e+00, 1.75995556e+00, 2.33481541e+00,\n",
       "        3.09744356e+00],\n",
       "       [1.00000000e+00, 1.33668342e+00, 1.78672256e+00, 2.38828241e+00,\n",
       "        3.19237750e+00],\n",
       "       [1.00000000e+00, 1.34673367e+00, 1.81369157e+00, 2.44255951e+00,\n",
       "        3.28947712e+00],\n",
       "       [1.00000000e+00, 1.35678392e+00, 1.84086260e+00, 2.49765278e+00,\n",
       "        3.38877513e+00],\n",
       "       [1.00000000e+00, 1.36683417e+00, 1.86823565e+00, 2.55356833e+00,\n",
       "        3.49030445e+00],\n",
       "       [1.00000000e+00, 1.37688442e+00, 1.89581071e+00, 2.61031224e+00,\n",
       "        3.59409826e+00],\n",
       "       [1.00000000e+00, 1.38693467e+00, 1.92358779e+00, 2.66789060e+00,\n",
       "        3.70018998e+00],\n",
       "       [1.00000000e+00, 1.39698492e+00, 1.95156688e+00, 2.72630951e+00,\n",
       "        3.80861329e+00],\n",
       "       [1.00000000e+00, 1.40703518e+00, 1.97974799e+00, 2.78557506e+00,\n",
       "        3.91940209e+00],\n",
       "       [1.00000000e+00, 1.41708543e+00, 2.00813111e+00, 2.84569333e+00,\n",
       "        4.03259055e+00],\n",
       "       [1.00000000e+00, 1.42713568e+00, 2.03671624e+00, 2.90667042e+00,\n",
       "        4.14821306e+00],\n",
       "       [1.00000000e+00, 1.43718593e+00, 2.06550340e+00, 2.96851242e+00,\n",
       "        4.26630428e+00],\n",
       "       [1.00000000e+00, 1.44723618e+00, 2.09449256e+00, 3.03122542e+00,\n",
       "        4.38689910e+00],\n",
       "       [1.00000000e+00, 1.45728643e+00, 2.12368375e+00, 3.09481551e+00,\n",
       "        4.51003265e+00],\n",
       "       [1.00000000e+00, 1.46733668e+00, 2.15307694e+00, 3.15928878e+00,\n",
       "        4.63574032e+00],\n",
       "       [1.00000000e+00, 1.47738693e+00, 2.18267215e+00, 3.22465132e+00,\n",
       "        4.76405774e+00],\n",
       "       [1.00000000e+00, 1.48743719e+00, 2.21246938e+00, 3.29090923e+00,\n",
       "        4.89502077e+00],\n",
       "       [1.00000000e+00, 1.49748744e+00, 2.24246862e+00, 3.35806859e+00,\n",
       "        5.02866553e+00],\n",
       "       [1.00000000e+00, 1.50753769e+00, 2.27266988e+00, 3.42613550e+00,\n",
       "        5.16502839e+00],\n",
       "       [1.00000000e+00, 1.51758794e+00, 2.30307315e+00, 3.49511604e+00,\n",
       "        5.30414596e+00],\n",
       "       [1.00000000e+00, 1.52763819e+00, 2.33367844e+00, 3.56501631e+00,\n",
       "        5.44605507e+00],\n",
       "       [1.00000000e+00, 1.53768844e+00, 2.36448575e+00, 3.63584240e+00,\n",
       "        5.59079284e+00],\n",
       "       [1.00000000e+00, 1.54773869e+00, 2.39549506e+00, 3.70760040e+00,\n",
       "        5.73839660e+00],\n",
       "       [1.00000000e+00, 1.55778894e+00, 2.42670640e+00, 3.78029640e+00,\n",
       "        5.88890393e+00],\n",
       "       [1.00000000e+00, 1.56783920e+00, 2.45811974e+00, 3.85393648e+00,\n",
       "        6.04235268e+00],\n",
       "       [1.00000000e+00, 1.57788945e+00, 2.48973511e+00, 3.92852675e+00,\n",
       "        6.19878091e+00],\n",
       "       [1.00000000e+00, 1.58793970e+00, 2.52155249e+00, 4.00407329e+00,\n",
       "        6.35822694e+00],\n",
       "       [1.00000000e+00, 1.59798995e+00, 2.55357188e+00, 4.08058220e+00,\n",
       "        6.52072934e+00],\n",
       "       [1.00000000e+00, 1.60804020e+00, 2.58579329e+00, 4.15805956e+00,\n",
       "        6.68632693e+00],\n",
       "       [1.00000000e+00, 1.61809045e+00, 2.61821671e+00, 4.23651146e+00,\n",
       "        6.85505875e+00],\n",
       "       [1.00000000e+00, 1.62814070e+00, 2.65084215e+00, 4.31594400e+00,\n",
       "        7.02696411e+00],\n",
       "       [1.00000000e+00, 1.63819095e+00, 2.68366960e+00, 4.39636327e+00,\n",
       "        7.20208255e+00],\n",
       "       [1.00000000e+00, 1.64824121e+00, 2.71669907e+00, 4.47777536e+00,\n",
       "        7.38045385e+00],\n",
       "       [1.00000000e+00, 1.65829146e+00, 2.74993056e+00, 4.56018635e+00,\n",
       "        7.56211807e+00],\n",
       "       [1.00000000e+00, 1.66834171e+00, 2.78336406e+00, 4.64360235e+00,\n",
       "        7.74711547e+00],\n",
       "       [1.00000000e+00, 1.67839196e+00, 2.81699957e+00, 4.72802943e+00,\n",
       "        7.93548658e+00],\n",
       "       [1.00000000e+00, 1.68844221e+00, 2.85083710e+00, 4.81347370e+00,\n",
       "        8.12727217e+00],\n",
       "       [1.00000000e+00, 1.69849246e+00, 2.88487664e+00, 4.89994124e+00,\n",
       "        8.32251325e+00],\n",
       "       [1.00000000e+00, 1.70854271e+00, 2.91911820e+00, 4.98743814e+00,\n",
       "        8.52125109e+00],\n",
       "       [1.00000000e+00, 1.71859296e+00, 2.95356178e+00, 5.07597049e+00,\n",
       "        8.72352718e+00],\n",
       "       [1.00000000e+00, 1.72864322e+00, 2.98820737e+00, 5.16554440e+00,\n",
       "        8.92938328e+00],\n",
       "       [1.00000000e+00, 1.73869347e+00, 3.02305497e+00, 5.25616593e+00,\n",
       "        9.13886137e+00],\n",
       "       [1.00000000e+00, 1.74874372e+00, 3.05810459e+00, 5.34784120e+00,\n",
       "        9.35200370e+00],\n",
       "       [1.00000000e+00, 1.75879397e+00, 3.09335623e+00, 5.44057628e+00,\n",
       "        9.56885276e+00],\n",
       "       [1.00000000e+00, 1.76884422e+00, 3.12880988e+00, 5.53437727e+00,\n",
       "        9.78945126e+00],\n",
       "       [1.00000000e+00, 1.77889447e+00, 3.16446554e+00, 5.62925026e+00,\n",
       "        1.00138422e+01],\n",
       "       [1.00000000e+00, 1.78894472e+00, 3.20032322e+00, 5.72520135e+00,\n",
       "        1.02420687e+01],\n",
       "       [1.00000000e+00, 1.79899497e+00, 3.23638292e+00, 5.82223661e+00,\n",
       "        1.04741744e+01],\n",
       "       [1.00000000e+00, 1.80904523e+00, 3.27264463e+00, 5.92036215e+00,\n",
       "        1.07102029e+01],\n",
       "       [1.00000000e+00, 1.81909548e+00, 3.30910836e+00, 6.01958404e+00,\n",
       "        1.09501981e+01],\n",
       "       [1.00000000e+00, 1.82914573e+00, 3.34577410e+00, 6.11990840e+00,\n",
       "        1.11942043e+01],\n",
       "       [1.00000000e+00, 1.83919598e+00, 3.38264185e+00, 6.22134130e+00,\n",
       "        1.14422659e+01],\n",
       "       [1.00000000e+00, 1.84924623e+00, 3.41971162e+00, 6.32388883e+00,\n",
       "        1.16944276e+01],\n",
       "       [1.00000000e+00, 1.85929648e+00, 3.45698341e+00, 6.42755709e+00,\n",
       "        1.19507343e+01],\n",
       "       [1.00000000e+00, 1.86934673e+00, 3.49445721e+00, 6.53235217e+00,\n",
       "        1.22112312e+01],\n",
       "       [1.00000000e+00, 1.87939698e+00, 3.53213303e+00, 6.63828016e+00,\n",
       "        1.24759637e+01],\n",
       "       [1.00000000e+00, 1.88944724e+00, 3.57001086e+00, 6.74534715e+00,\n",
       "        1.27449775e+01],\n",
       "       [1.00000000e+00, 1.89949749e+00, 3.60809070e+00, 6.85355923e+00,\n",
       "        1.30183185e+01],\n",
       "       [1.00000000e+00, 1.90954774e+00, 3.64637257e+00, 6.96292249e+00,\n",
       "        1.32960329e+01],\n",
       "       [1.00000000e+00, 1.91959799e+00, 3.68485644e+00, 7.07344302e+00,\n",
       "        1.35781670e+01],\n",
       "       [1.00000000e+00, 1.92964824e+00, 3.72354233e+00, 7.18512692e+00,\n",
       "        1.38647675e+01],\n",
       "       [1.00000000e+00, 1.93969849e+00, 3.76243024e+00, 7.29798027e+00,\n",
       "        1.41558813e+01],\n",
       "       [1.00000000e+00, 1.94974874e+00, 3.80152016e+00, 7.41200916e+00,\n",
       "        1.44515556e+01],\n",
       "       [1.00000000e+00, 1.95979899e+00, 3.84081210e+00, 7.52721969e+00,\n",
       "        1.47518376e+01],\n",
       "       [1.00000000e+00, 1.96984925e+00, 3.88030605e+00, 7.64361795e+00,\n",
       "        1.50567751e+01],\n",
       "       [1.00000000e+00, 1.97989950e+00, 3.92000202e+00, 7.76121003e+00,\n",
       "        1.53664158e+01],\n",
       "       [1.00000000e+00, 1.98994975e+00, 3.95990000e+00, 7.88000202e+00,\n",
       "        1.56808080e+01],\n",
       "       [1.00000000e+00, 2.00000000e+00, 4.00000000e+00, 8.00000000e+00,\n",
       "        1.60000000e+01]])"
      ]
     },
     "execution_count": 193,
     "metadata": {},
     "output_type": "execute_result"
    }
   ],
   "source": [
    "F"
   ]
  },
  {
   "cell_type": "markdown",
   "metadata": {},
   "source": [
    "## Using Normal Equation"
   ]
  },
  {
   "cell_type": "code",
   "execution_count": 194,
   "metadata": {},
   "outputs": [],
   "source": [
    "#Given data we have, w0f0+w1f1+w2f2+w3f3=y\n",
    "#Using normal equation, we find W=[w0,w1,w2,w3] \n",
    "#Normal eqn: (transpose(F)*F)*W = transpose(F)*(Y(column))\n",
    "tff=np.matmul(np.transpose(F),F)\n",
    "tff_inv=np.linalg.inv(tff)\n",
    "W= np.matmul(np.matmul(tff_inv,np.transpose(F)), Y.reshape(len(X),1))"
   ]
  },
  {
   "cell_type": "code",
   "execution_count": 195,
   "metadata": {},
   "outputs": [
    {
     "data": {
      "text/plain": [
       "array([[-1.82149537e-01],\n",
       "       [ 5.81933862e+00],\n",
       "       [-8.44331693e+00],\n",
       "       [ 2.79879829e+00],\n",
       "       [ 6.50171199e-03]])"
      ]
     },
     "execution_count": 195,
     "metadata": {},
     "output_type": "execute_result"
    }
   ],
   "source": [
    "W"
   ]
  },
  {
   "cell_type": "code",
   "execution_count": 196,
   "metadata": {},
   "outputs": [],
   "source": [
    "#Making gridlines for visualizing our results\n",
    "xx=np.linspace(0,2,50)\n",
    "yy=W[0]\n",
    "#yy=W[0]*1 + W[1]*xx + W[2]*(xx ** 2) + W[3]*(xx**3)\n",
    "#Generalizing\n",
    "for i in range(1,len(W)):\n",
    "    yy=yy+ W[i]*(xx**i)"
   ]
  },
  {
   "cell_type": "code",
   "execution_count": 197,
   "metadata": {},
   "outputs": [
    {
     "data": {
      "text/plain": [
       "<matplotlib.collections.PathCollection at 0x7ff90e472240>"
      ]
     },
     "execution_count": 197,
     "metadata": {},
     "output_type": "execute_result"
    },
    {
     "data": {
      "image/png": "[encoded data removed]",
      "text/plain": [
       "<Figure size 432x288 with 1 Axes>"
      ]
     },
     "metadata": {},
     "output_type": "display_data"
    }
   ],
   "source": [
    "plt.plot(xx,yy)\n",
    "plt.scatter(X,Y,c='red')"
   ]
  },
  {
   "cell_type": "markdown",
   "metadata": {},
   "source": [
    "# Using Gradient Descent"
   ]
  },
  {
   "cell_type": "code",
   "execution_count": 230,
   "metadata": {},
   "outputs": [],
   "source": [
    "#initialize W2\n",
    "W2=np.ones((M+1,1))"
   ]
  },
  {
   "cell_type": "code",
   "execution_count": 231,
   "metadata": {},
   "outputs": [],
   "source": [
    "#Calculating Ypredicted\n",
    "Ypr= np.matmul(F,W2)"
   ]
  },
  {
   "cell_type": "code",
   "execution_count": 232,
   "metadata": {},
   "outputs": [],
   "source": [
    "#define cost function/ optimization function\n",
    "costfxn=np.sqrt(((Ypr-Y.reshape(Ypr.shape))**2).sum())"
   ]
  },
  {
   "cell_type": "code",
   "execution_count": 233,
   "metadata": {},
   "outputs": [],
   "source": [
    "#Gradient Descent step\n",
    "cost=[costfxn]\n",
    "for epoch in range(1000000):\n",
    "    Ypr=np.matmul(F,W2)\n",
    "    W2=W2 - 0.00005*np.matmul(np.transpose(F), Ypr-Y.reshape(Ypr.shape))\n",
    "    cost.append(np.sqrt(((Ypr-Y.reshape(Ypr.shape))**2).sum()))"
   ]
  },
  {
   "cell_type": "markdown",
   "metadata": {},
   "source": [
    "### Warning\n",
    "The learning rate(0.00005) and the no. of epochs have to be manually selected by trial and error. \n",
    "Learning rate must be small enough so that cost doesn't overshoot the minima but big enough for less error within no. of steps "
   ]
  },
  {
   "cell_type": "code",
   "execution_count": 235,
   "metadata": {},
   "outputs": [
    {
     "data": {
      "text/plain": [
       "[<matplotlib.lines.Line2D at 0x7ff9092f2128>]"
      ]
     },
     "execution_count": 235,
     "metadata": {},
     "output_type": "execute_result"
    },
    {
     "data": {
      "image/png": "[encoded data removed]",
      "text/plain": [
       "<Figure size 432x288 with 1 Axes>"
      ]
     },
     "metadata": {},
     "output_type": "display_data"
    }
   ],
   "source": [
    "#plotting cost over iteration\n",
    "plt.plot(np.linspace(1,1000001,1000001).tolist(),cost)"
   ]
  },
  {
   "cell_type": "code",
   "execution_count": 236,
   "metadata": {},
   "outputs": [],
   "source": [
    "yy2=0\n",
    "for i in range(1,len(W2)):\n",
    "    yy2=yy2+ W2[i]*(xx**i)"
   ]
  },
  {
   "cell_type": "code",
   "execution_count": 237,
   "metadata": {},
   "outputs": [
    {
     "data": {
      "text/plain": [
       "<matplotlib.collections.PathCollection at 0x7ff90ca25588>"
      ]
     },
     "execution_count": 237,
     "metadata": {},
     "output_type": "execute_result"
    },
    {
     "data": {
      "image/png": "[encoded data removed]",
      "text/plain": [
       "<Figure size 432x288 with 1 Axes>"
      ]
     },
     "metadata": {},
     "output_type": "display_data"
    }
   ],
   "source": [
    "#plotting prediction\n",
    "plt.plot(xx,yy2)\n",
    "plt.scatter(X,Y,c='red')"
   ]
  },
  {
   "cell_type": "markdown",
   "metadata": {},
   "source": [
    "## Analysing our model"
   ]
  },
  {
   "cell_type": "code",
   "execution_count": 205,
   "metadata": {},
   "outputs": [],
   "source": [
    "ypr1=W[0]\n",
    "for i in range(1,len(W)):\n",
    "    ypr1=ypr1+ W[i]*(X**i)"
   ]
  },
  {
   "cell_type": "code",
   "execution_count": 206,
   "metadata": {},
   "outputs": [
    {
     "data": {
      "text/plain": [
       "array([-0.18214954, -0.12451372, -0.06856653, -0.01429092,  0.03833016,\n",
       "        0.08931376,  0.13867695,  0.18643676,  0.23261027,  0.27721453,\n",
       "        0.32026661,  0.36178355,  0.40178244,  0.44028033,  0.47729429,\n",
       "        0.51284139,  0.5469387 ,  0.5796033 ,  0.61085224,  0.64070262,\n",
       "        0.66917151,  0.69627598,  0.72203311,  0.74646   ,  0.76957371,\n",
       "        0.79139134,  0.81192997,  0.83120668,  0.84923858,  0.86604274,\n",
       "        0.88163627,  0.89603625,  0.90925978,  0.92132396,  0.93224589,\n",
       "        0.94204266,  0.95073139,  0.95832917,  0.96485311,  0.97032032,\n",
       "        0.9747479 ,  0.97815297,  0.98055264,  0.98196401,  0.98240421,\n",
       "        0.98189035,  0.98043955,  0.97806893,  0.97479561,  0.97063672,\n",
       "        0.96560937,  0.95973069,  0.95301782,  0.94548787,  0.93715799,\n",
       "        0.9280453 ,  0.91816694,  0.90754004,  0.89618175,  0.88410919,\n",
       "        0.87133951,  0.85788986,  0.84377736,  0.82901918,  0.81363246,\n",
       "        0.79763434,  0.78104198,  0.76387252,  0.74614312,  0.72787094,\n",
       "        0.70907313,  0.68976684,  0.66996925,  0.6496975 ,  0.62896876,\n",
       "        0.6078002 ,  0.58620899,  0.56421228,  0.54182725,  0.51907107,\n",
       "        0.49596091,  0.47251394,  0.44874735,  0.4246783 ,  0.40032398,\n",
       "        0.37570156,  0.35082823,  0.32572117,  0.30039757,  0.27487461,\n",
       "        0.24916948,  0.22329937,  0.19728148,  0.17113298,  0.14487109,\n",
       "        0.11851299,  0.09207588,  0.06557697,  0.03903345,  0.01246252,\n",
       "       -0.01411861, -0.04069273, -0.06724264, -0.09375113, -0.12020099,\n",
       "       -0.146575  , -0.17285596, -0.19902665, -0.22506985, -0.25096834,\n",
       "       -0.2767049 , -0.30226231, -0.32762336, -0.3527708 , -0.37768743,\n",
       "       -0.402356  , -0.42675929, -0.45088007, -0.47470111, -0.49820517,\n",
       "       -0.52137501, -0.5441934 , -0.56664311, -0.58870688, -0.61036747,\n",
       "       -0.63160765, -0.65241017, -0.67275777, -0.69263322, -0.71201926,\n",
       "       -0.73089864, -0.7492541 , -0.7670684 , -0.78432427, -0.80100445,\n",
       "       -0.8170917 , -0.83256874, -0.84741831, -0.86162314, -0.87516598,\n",
       "       -0.88802956, -0.9001966 , -0.91164983, -0.92237198, -0.93234578,\n",
       "       -0.94155396, -0.94997922, -0.9576043 , -0.96441192, -0.97038479,\n",
       "       -0.97550563, -0.97975715, -0.98312207, -0.9855831 , -0.98712295,\n",
       "       -0.98772432, -0.98736993, -0.98604248, -0.98372467, -0.9803992 ,\n",
       "       -0.97604878, -0.97065611, -0.96420387, -0.95667478, -0.94805151,\n",
       "       -0.93831677, -0.92745324, -0.91544362, -0.90227059, -0.88791683,\n",
       "       -0.87236504, -0.85559789, -0.83759807, -0.81834826, -0.79783113,\n",
       "       -0.77602936, -0.75292562, -0.7285026 , -0.70274296, -0.67562937,\n",
       "       -0.64714449, -0.61727101, -0.58599158, -0.55328886, -0.51914552,\n",
       "       -0.48354422, -0.44646762, -0.40789838, -0.36781914, -0.32621257,\n",
       "       -0.28306132, -0.23834804, -0.19205538, -0.14416599, -0.0946625 ,\n",
       "       -0.04352758,  0.00925614,  0.06370602,  0.11983942,  0.1776737 ])"
      ]
     },
     "execution_count": 206,
     "metadata": {},
     "output_type": "execute_result"
    }
   ],
   "source": [
    "#The predicted values using normal equation\n",
    "ypr1"
   ]
  },
  {
   "cell_type": "code",
   "execution_count": 238,
   "metadata": {},
   "outputs": [],
   "source": [
    "ypr2=W2[0]\n",
    "for i in range(1,len(W2)):\n",
    "    ypr2=ypr2+ W[i]*(X**i)"
   ]
  },
  {
   "cell_type": "code",
   "execution_count": 239,
   "metadata": {},
   "outputs": [
    {
     "data": {
      "text/plain": [
       "array([-0.06416754, -0.00653173,  0.04941546,  0.10369107,  0.15631215,\n",
       "        0.20729576,  0.25665894,  0.30441876,  0.35059227,  0.39519653,\n",
       "        0.4382486 ,  0.47976555,  0.51976443,  0.55826232,  0.59527628,\n",
       "        0.63082338,  0.6649207 ,  0.69758529,  0.72883424,  0.75868461,\n",
       "        0.7871535 ,  0.81425797,  0.84001511,  0.86444199,  0.8875557 ,\n",
       "        0.90937333,  0.92991196,  0.94918868,  0.96722057,  0.98402473,\n",
       "        0.99961826,  1.01401824,  1.02724177,  1.03930595,  1.05022788,\n",
       "        1.06002466,  1.06871338,  1.07631117,  1.08283511,  1.08830231,\n",
       "        1.0927299 ,  1.09613496,  1.09853463,  1.099946  ,  1.1003862 ,\n",
       "        1.09987234,  1.09842154,  1.09605092,  1.0927776 ,  1.08861871,\n",
       "        1.08359136,  1.07771268,  1.07099981,  1.06346987,  1.05513998,\n",
       "        1.0460273 ,  1.03614893,  1.02552204,  1.01416374,  1.00209118,\n",
       "        0.9893215 ,  0.97587185,  0.96175936,  0.94700118,  0.93161445,\n",
       "        0.91561633,  0.89902397,  0.88185451,  0.86412511,  0.84585293,\n",
       "        0.82705512,  0.80774883,  0.78795124,  0.76767949,  0.74695076,\n",
       "        0.7257822 ,  0.70419098,  0.68219427,  0.65980924,  0.63705306,\n",
       "        0.6139429 ,  0.59049593,  0.56672934,  0.54266029,  0.51830597,\n",
       "        0.49368355,  0.46881022,  0.44370317,  0.41837956,  0.3928566 ,\n",
       "        0.36715148,  0.34128137,  0.31526347,  0.28911498,  0.26285308,\n",
       "        0.23649498,  0.21005788,  0.18355896,  0.15701544,  0.13044451,\n",
       "        0.10386338,  0.07728926,  0.05073935,  0.02423086, -0.002219  ,\n",
       "       -0.02859301, -0.05487397, -0.08104466, -0.10708785, -0.13298634,\n",
       "       -0.15872291, -0.18428032, -0.20964136, -0.23478881, -0.25970543,\n",
       "       -0.28437401, -0.3087773 , -0.33289808, -0.35671912, -0.38022317,\n",
       "       -0.40339302, -0.42621141, -0.44866111, -0.47072488, -0.49238548,\n",
       "       -0.51362566, -0.53442817, -0.55477578, -0.57465123, -0.59403727,\n",
       "       -0.61291665, -0.63127211, -0.64908641, -0.66634228, -0.68302246,\n",
       "       -0.69910971, -0.71458674, -0.72943631, -0.74364115, -0.75718399,\n",
       "       -0.77004757, -0.7822146 , -0.79366784, -0.80438999, -0.81436379,\n",
       "       -0.82357196, -0.83199723, -0.83962231, -0.84642993, -0.8524028 ,\n",
       "       -0.85752364, -0.86177516, -0.86514008, -0.86760111, -0.86914095,\n",
       "       -0.86974233, -0.86938794, -0.86806048, -0.86574267, -0.86241721,\n",
       "       -0.85806679, -0.85267411, -0.84622188, -0.83869278, -0.83006952,\n",
       "       -0.82033478, -0.80947125, -0.79746163, -0.78428859, -0.76993484,\n",
       "       -0.75438305, -0.7376159 , -0.71961608, -0.70036626, -0.67984913,\n",
       "       -0.65804737, -0.63494363, -0.61052061, -0.58476097, -0.55764737,\n",
       "       -0.5291625 , -0.49928902, -0.46800958, -0.43530687, -0.40116353,\n",
       "       -0.36556223, -0.32848563, -0.28991638, -0.24983715, -0.20823058,\n",
       "       -0.16507933, -0.12036605, -0.07407339, -0.02618399,  0.02331949,\n",
       "        0.07445441,  0.12723813,  0.18168802,  0.23782141,  0.29565569])"
      ]
     },
     "execution_count": 239,
     "metadata": {},
     "output_type": "execute_result"
    }
   ],
   "source": [
    "#The predicted values using gradient descent \n",
    "ypr2"
   ]
  },
  {
   "cell_type": "code",
   "execution_count": 240,
   "metadata": {},
   "outputs": [],
   "source": [
    "residue1=(Y-ypr1)\n",
    "residue2=Y-ypr2"
   ]
  },
  {
   "cell_type": "code",
   "execution_count": 241,
   "metadata": {},
   "outputs": [
    {
     "data": {
      "text/plain": [
       "<matplotlib.collections.PathCollection at 0x7ff90c9811d0>"
      ]
     },
     "execution_count": 241,
     "metadata": {},
     "output_type": "execute_result"
    },
    {
     "data": {
      "image/png": "[encoded data removed]",
      "text/plain": [
       "<Figure size 432x288 with 1 Axes>"
      ]
     },
     "metadata": {},
     "output_type": "display_data"
    }
   ],
   "source": [
    "#The more random this graph is, the better our training model is. If this plot shows some pattern then we \n",
    "#must change our function. If there are some distant points, then we have neglected the outliers\n",
    "plt.scatter(residue1,Y)"
   ]
  },
  {
   "cell_type": "code",
   "execution_count": 242,
   "metadata": {},
   "outputs": [
    {
     "data": {
      "text/plain": [
       "(array([14., 17., 19., 30., 30., 37., 19., 16., 12.,  6.]),\n",
       " array([-0.32395539, -0.25418436, -0.18441332, -0.11464229, -0.04487125,\n",
       "         0.02489978,  0.09467082,  0.16444185,  0.23421289,  0.30398392,\n",
       "         0.37375496]),\n",
       " <a list of 10 Patch objects>)"
      ]
     },
     "execution_count": 242,
     "metadata": {},
     "output_type": "execute_result"
    },
    {
     "data": {
      "image/png": "[encoded data removed]",
      "text/plain": [
       "<Figure size 432x288 with 1 Axes>"
      ]
     },
     "metadata": {},
     "output_type": "display_data"
    }
   ],
   "source": [
    "#The histogram of residues should show that the residuesvare spread normally with the mean being 0. \n",
    "plt.hist(residue1)"
   ]
  },
  {
   "cell_type": "code",
   "execution_count": 245,
   "metadata": {},
   "outputs": [
    {
     "data": {
      "text/plain": [
       "<matplotlib.collections.PathCollection at 0x7ff90c903400>"
      ]
     },
     "execution_count": 245,
     "metadata": {},
     "output_type": "execute_result"
    },
    {
     "data": {
      "image/png": "[encoded data removed]",
      "text/plain": [
       "<Figure size 432x288 with 1 Axes>"
      ]
     },
     "metadata": {},
     "output_type": "display_data"
    }
   ],
   "source": [
    "plt.scatter(residue2,Y)"
   ]
  },
  {
   "cell_type": "code",
   "execution_count": 246,
   "metadata": {},
   "outputs": [
    {
     "data": {
      "text/plain": [
       "(array([14., 17., 19., 30., 30., 37., 19., 16., 12.,  6.]),\n",
       " array([-0.44193739, -0.37216635, -0.30239532, -0.23262428, -0.16285325,\n",
       "        -0.09308221, -0.02331118,  0.04645986,  0.11623089,  0.18600193,\n",
       "         0.25577296]),\n",
       " <a list of 10 Patch objects>)"
      ]
     },
     "execution_count": 246,
     "metadata": {},
     "output_type": "execute_result"
    },
    {
     "data": {
      "image/png": "[encoded data removed]",
      "text/plain": [
       "<Figure size 432x288 with 1 Axes>"
      ]
     },
     "metadata": {},
     "output_type": "display_data"
    }
   ],
   "source": [
    "plt.hist(residue2)"
   ]
  },
  {
   "cell_type": "markdown",
   "metadata": {},
   "source": [
    "### We see similar plots for both our methods. Our model has been trained successfully\n"
   ]
  },
  {
   "cell_type": "code",
   "execution_count": 243,
   "metadata": {},
   "outputs": [
    {
     "data": {
      "text/plain": [
       "2.315232838799149"
      ]
     },
     "execution_count": 243,
     "metadata": {},
     "output_type": "execute_result"
    }
   ],
   "source": [
    "#The RMS error of our normal model\n",
    "np.sqrt((residue1**2).sum())"
   ]
  },
  {
   "cell_type": "code",
   "execution_count": 244,
   "metadata": {},
   "outputs": [
    {
     "data": {
      "text/plain": [
       "2.853813801136495"
      ]
     },
     "execution_count": 244,
     "metadata": {},
     "output_type": "execute_result"
    }
   ],
   "source": [
    "#The RMS error of our gradient descent model.\n",
    "np.sqrt((residue2**2).sum())"
   ]
  }
 ],
 "metadata": {
  "kernelspec": {
   "display_name": "Python 3",
   "language": "python",
   "name": "python3"
  },
  "language_info": {
   "codemirror_mode": {
    "name": "ipython",
    "version": 3
   },
   "file_extension": ".py",
   "mimetype": "text/x-python",
   "name": "python",
   "nbconvert_exporter": "python",
   "pygments_lexer": "ipython3",
   "version": "3.5.2"
  }
 },
 "nbformat": 4,
 "nbformat_minor": 2
}
