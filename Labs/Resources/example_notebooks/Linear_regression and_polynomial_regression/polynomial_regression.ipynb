{
 "cells": [
  {
   "cell_type": "code",
   "execution_count": 2,
   "metadata": {},
   "outputs": [],
   "source": [
    "import numpy as np\n",
    "from matplotlib import pyplot as plt\n",
    "import random"
   ]
  },
  {
   "cell_type": "code",
   "execution_count": 3,
   "metadata": {},
   "outputs": [],
   "source": [
    "#Generate random noise in our data\n",
    "X=np.linspace(0,2,num=20)\n",
    "Y=np.sin(np.pi*X)\n",
    "for i in range(len(Y)):\n",
    "    dummy=random.choice([-1,1])\n",
    "    Y[i]=Y[i]+(dummy*random.random())/4\n",
    "    "
   ]
  },
  {
   "cell_type": "code",
   "execution_count": 18,
   "metadata": {},
   "outputs": [
    {
     "data": {
      "text/plain": [
       "<matplotlib.collections.PathCollection at 0x7f8f5a95ea90>"
      ]
     },
     "execution_count": 18,
     "metadata": {},
     "output_type": "execute_result"
    },
    {
     "data": {
      "image/png": "[encoded data removed]",
      "text/plain": [
       "<Figure size 432x288 with 1 Axes>"
      ]
     },
     "metadata": {},
     "output_type": "display_data"
    }
   ],
   "source": [
    "#Visualizing the data\n",
    "#red points represent sin(pi*x) \n",
    "#blue points represent our data( after introducing noise )\n",
    "plt.scatter(X,Y,c='blue')\n",
    "plt.scatter(X,np.sin(np.pi*X),c='red')"
   ]
  },
  {
   "cell_type": "markdown",
   "metadata": {},
   "source": [
    "### When M=1, the program represents linear regression\n",
    "### When M>1, the program represents polynomial regression"
   ]
  },
  {
   "cell_type": "code",
   "execution_count": 5,
   "metadata": {},
   "outputs": [],
   "source": [
    "#features cosidering a cubic polynomial for fitting \n",
    "#Change M as per requirement\n",
    "f0= [1]*20\n",
    "M=3\n",
    "F=f0\n",
    "#f1= X\n",
    "#f2= X**2\n",
    "#f3= X**3\n",
    "#F=np.column_stack([f0,f1,f2,f3])\n",
    "#Generalizing for M degree\n",
    "for i in range(1,M+1):\n",
    "    F = np.column_stack([F, X**i])"
   ]
  },
  {
   "cell_type": "code",
   "execution_count": 6,
   "metadata": {},
   "outputs": [
    {
     "data": {
      "text/plain": [
       "array([[1.00000000e+00, 0.00000000e+00, 0.00000000e+00, 0.00000000e+00],\n",
       "       [1.00000000e+00, 1.05263158e-01, 1.10803324e-02, 1.16635078e-03],\n",
       "       [1.00000000e+00, 2.10526316e-01, 4.43213296e-02, 9.33080624e-03],\n",
       "       [1.00000000e+00, 3.15789474e-01, 9.97229917e-02, 3.14914711e-02],\n",
       "       [1.00000000e+00, 4.21052632e-01, 1.77285319e-01, 7.46464499e-02],\n",
       "       [1.00000000e+00, 5.26315789e-01, 2.77008310e-01, 1.45793847e-01],\n",
       "       [1.00000000e+00, 6.31578947e-01, 3.98891967e-01, 2.51931768e-01],\n",
       "       [1.00000000e+00, 7.36842105e-01, 5.42936288e-01, 4.00058318e-01],\n",
       "       [1.00000000e+00, 8.42105263e-01, 7.09141274e-01, 5.97171599e-01],\n",
       "       [1.00000000e+00, 9.47368421e-01, 8.97506925e-01, 8.50269719e-01],\n",
       "       [1.00000000e+00, 1.05263158e+00, 1.10803324e+00, 1.16635078e+00],\n",
       "       [1.00000000e+00, 1.15789474e+00, 1.34072022e+00, 1.55241289e+00],\n",
       "       [1.00000000e+00, 1.26315789e+00, 1.59556787e+00, 2.01545415e+00],\n",
       "       [1.00000000e+00, 1.36842105e+00, 1.87257618e+00, 2.56247266e+00],\n",
       "       [1.00000000e+00, 1.47368421e+00, 2.17174515e+00, 3.20046654e+00],\n",
       "       [1.00000000e+00, 1.57894737e+00, 2.49307479e+00, 3.93643388e+00],\n",
       "       [1.00000000e+00, 1.68421053e+00, 2.83656510e+00, 4.77737279e+00],\n",
       "       [1.00000000e+00, 1.78947368e+00, 3.20221607e+00, 5.73028138e+00],\n",
       "       [1.00000000e+00, 1.89473684e+00, 3.59002770e+00, 6.80215775e+00],\n",
       "       [1.00000000e+00, 2.00000000e+00, 4.00000000e+00, 8.00000000e+00]])"
      ]
     },
     "execution_count": 6,
     "metadata": {},
     "output_type": "execute_result"
    }
   ],
   "source": [
    "F"
   ]
  },
  {
   "cell_type": "markdown",
   "metadata": {},
   "source": [
    "## Using Normal Equation"
   ]
  },
  {
   "cell_type": "code",
   "execution_count": 7,
   "metadata": {},
   "outputs": [],
   "source": [
    "#Given data we have, w0f0+w1f1+w2f2+w3f3=y\n",
    "#Using normal equation, we find W=[w0,w1,w2,w3] \n",
    "#Normal eqn: (transpose(F)*F)*W = transpose(F)*(Y(column))\n",
    "tff=np.matmul(np.transpose(F),F)\n",
    "tff_inv=np.linalg.inv(tff)\n",
    "W= np.matmul(np.matmul(tff_inv,np.transpose(F)), Y.reshape(20,1))"
   ]
  },
  {
   "cell_type": "code",
   "execution_count": 8,
   "metadata": {},
   "outputs": [
    {
     "data": {
      "text/plain": [
       "array([[-0.06413729],\n",
       "       [ 5.72325963],\n",
       "       [-8.60661124],\n",
       "       [ 2.91436454]])"
      ]
     },
     "execution_count": 8,
     "metadata": {},
     "output_type": "execute_result"
    }
   ],
   "source": [
    "W"
   ]
  },
  {
   "cell_type": "code",
   "execution_count": 9,
   "metadata": {},
   "outputs": [],
   "source": [
    "#Making gridlines for visualizing our results\n",
    "xx=np.linspace(0,2,50)\n",
    "yy=W[0]\n",
    "#yy=W[0]*1 + W[1]*xx + W[2]*(xx ** 2) + W[3]*(xx**3)\n",
    "#Generalizing\n",
    "for i in range(1,len(W)):\n",
    "    yy=yy+ W[i]*(xx**i)"
   ]
  },
  {
   "cell_type": "code",
   "execution_count": 10,
   "metadata": {},
   "outputs": [
    {
     "data": {
      "text/plain": [
       "<matplotlib.collections.PathCollection at 0x7f8f5aa6c780>"
      ]
     },
     "execution_count": 10,
     "metadata": {},
     "output_type": "execute_result"
    },
    {
     "data": {
      "image/png": "[encoded data removed]",
      "text/plain": [
       "<Figure size 432x288 with 1 Axes>"
      ]
     },
     "metadata": {},
     "output_type": "display_data"
    }
   ],
   "source": [
    "plt.plot(xx,yy)\n",
    "plt.scatter(X,Y,c='red')"
   ]
  },
  {
   "cell_type": "markdown",
   "metadata": {},
   "source": [
    "# Using Gradient Descent"
   ]
  },
  {
   "cell_type": "code",
   "execution_count": 11,
   "metadata": {},
   "outputs": [],
   "source": [
    "#initialize W2\n",
    "W2=np.ones((M+1,1))"
   ]
  },
  {
   "cell_type": "code",
   "execution_count": 12,
   "metadata": {},
   "outputs": [],
   "source": [
    "#Calculating Ypredicted\n",
    "Ypr= np.matmul(F,W2)"
   ]
  },
  {
   "cell_type": "code",
   "execution_count": 13,
   "metadata": {},
   "outputs": [],
   "source": [
    "#define cost function/ optimization function\n",
    "costfxn=np.sqrt(((Ypr-Y.reshape(Ypr.shape))**2).sum())"
   ]
  },
  {
   "cell_type": "code",
   "execution_count": 14,
   "metadata": {},
   "outputs": [],
   "source": [
    "#Gradient Descent step\n",
    "cost=[costfxn]\n",
    "for epoch in range(10000):\n",
    "    Ypr=np.matmul(F,W2)\n",
    "    W2=W2 - 0.005*np.matmul(np.transpose(F), Ypr-Y.reshape(Ypr.shape))\n",
    "    cost.append(np.sqrt(((Ypr-Y.reshape(Ypr.shape))**2).sum()))"
   ]
  },
  {
   "cell_type": "markdown",
   "metadata": {},
   "source": [
    "### Warning\n",
    "The learning rate 0.005 and the no. of epochs have to e manually selected by trial and error. \n",
    "Learning rate must be small enough so that cost doesn't overshoot the minima but big enough for less error within 10000 steps "
   ]
  },
  {
   "cell_type": "code",
   "execution_count": 15,
   "metadata": {},
   "outputs": [
    {
     "data": {
      "text/plain": [
       "[<matplotlib.lines.Line2D at 0x7f8f5a9a2d68>]"
      ]
     },
     "execution_count": 15,
     "metadata": {},
     "output_type": "execute_result"
    },
    {
     "data": {
      "image/png": "[encoded data removed]",
      "text/plain": [
       "<Figure size 432x288 with 1 Axes>"
      ]
     },
     "metadata": {},
     "output_type": "display_data"
    }
   ],
   "source": [
    "#plotting cost over iteration\n",
    "plt.plot(np.linspace(1,10001,10001).tolist(),cost)"
   ]
  },
  {
   "cell_type": "code",
   "execution_count": 16,
   "metadata": {},
   "outputs": [],
   "source": [
    "yy2=0\n",
    "for i in range(1,len(W2)):\n",
    "    yy2=yy2+ W2[i]*(xx**i)"
   ]
  },
  {
   "cell_type": "code",
   "execution_count": 17,
   "metadata": {},
   "outputs": [
    {
     "data": {
      "text/plain": [
       "<matplotlib.collections.PathCollection at 0x7f8f5a9e4da0>"
      ]
     },
     "execution_count": 17,
     "metadata": {},
     "output_type": "execute_result"
    },
    {
     "data": {
      "image/png": "[encoded data removed]",
      "text/plain": [
       "<Figure size 432x288 with 1 Axes>"
      ]
     },
     "metadata": {},
     "output_type": "display_data"
    }
   ],
   "source": [
    "#plotting prediction\n",
    "plt.plot(xx,yy2)\n",
    "plt.scatter(X,Y,c='red')"
   ]
  },
  {
   "cell_type": "code",
   "execution_count": null,
   "metadata": {},
   "outputs": [],
   "source": []
  }
 ],
 "metadata": {
  "kernelspec": {
   "display_name": "Python 3",
   "language": "python",
   "name": "python3"
  },
  "language_info": {
   "codemirror_mode": {
    "name": "ipython",
    "version": 3
   },
   "file_extension": ".py",
   "mimetype": "text/x-python",
   "name": "python",
   "nbconvert_exporter": "python",
   "pygments_lexer": "ipython3",
   "version": "3.5.2"
  }
 },
 "nbformat": 4,
 "nbformat_minor": 2
}
