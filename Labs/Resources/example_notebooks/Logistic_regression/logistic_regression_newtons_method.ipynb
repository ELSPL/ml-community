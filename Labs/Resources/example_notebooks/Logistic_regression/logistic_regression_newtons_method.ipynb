{
 "cells": [
  {
   "cell_type": "code",
   "execution_count": 152,
   "metadata": {},
   "outputs": [],
   "source": [
    "#Importing libraries\n",
    "import numpy as np                    #for matrix math\n",
    "from matplotlib import pyplot as plt  #for plotting our results\n",
    "import random                         #for generating random data"
   ]
  },
  {
   "cell_type": "code",
   "execution_count": 38,
   "metadata": {},
   "outputs": [],
   "source": [
    "def play_data():\n",
    "    np.random.seed(0)   #generates the same play data every time this cell runs, making it easier for debugging\n",
    "    \n",
    "    trialx1=np.random.normal(6,1,100)  #positive samples x coordinate\n",
    "    trialx2=np.random.normal(0,1,100)  #negative samples x coordinate\n",
    "    trialy1=np.random.normal(6,1,100)  #positive samples y coordinate\n",
    "    trialy2=np.random.normal(0,1,100)  #negative samples y coordinate\n",
    "    \n",
    "    trialx=np.concatenate((trialx1,trialx2),axis=0)\n",
    "    trialy=np.concatenate((trialy1,trialy2),axis=0)\n",
    "    \n",
    "    X=np.stack((np.ones(trialx.shape),trialx,trialy),axis=1)  #the final input data\n",
    "    Y=np.ones((X.shape[0],1))\n",
    "    Y[100:]=0\n",
    "    return X,Y"
   ]
  },
  {
   "cell_type": "code",
   "execution_count": 158,
   "metadata": {},
   "outputs": [],
   "source": [
    "def csplay_data():\n",
    "    #Circular data\n",
    "    np.random.seed(0)   #generates the same play data every time this cell runs, making it easier for debugging\n",
    "    \n",
    "    X=np.zeros((100,2))\n",
    "    Y=np.ones((100,1))\n",
    "    Y[0:50] = 0\n",
    "    \n",
    "    for i in range(50):\n",
    "        dummy=random.choice([-1,1]) #-ve class, x coordinate\n",
    "        X[i,0]=(random.random()) * dummy #Noise\n",
    "        \n",
    "        dummy=random.choice([-1,1]) #-ve class, y coordinate\n",
    "        X[i,1]=(random.random()) * dummy#Noise\n",
    "        \n",
    "        dummy=random.choice([-1,1]) #+ve class, x coordinate\n",
    "        X[i+50,0]=random.uniform(1.5,3.0) * dummy #Noise\n",
    "        \n",
    "        dummy=random.choice([-1,1]) #+ve class, y coordinate\n",
    "        X[i+50,1]=random.uniform(1.5,3.0) * dummy #Noise\n",
    "        \n",
    "    X=np.concatenate((np.ones(Y.shape),X),axis=1)\n",
    "    return X,Y"
   ]
  },
  {
   "cell_type": "code",
   "execution_count": 204,
   "metadata": {},
   "outputs": [],
   "source": [
    "def sampler(X,Y):\n",
    "    dummy = np.concatenate((X,Y),axis=1)\n",
    "    np.random.shuffle(dummy)\n",
    "    X_new = dummy[:,:-1] \n",
    "    Y_new = dummy[:,-1]\n",
    "    return X_new,Y_new"
   ]
  },
  {
   "cell_type": "code",
   "execution_count": 12,
   "metadata": {},
   "outputs": [],
   "source": [
    "#returns the sigmoid of a value\n",
    "def sigmoid(z):\n",
    "    return 1/(1+np.exp(z))"
   ]
  },
  {
   "cell_type": "code",
   "execution_count": 17,
   "metadata": {},
   "outputs": [],
   "source": [
    "#returns the probability matrix p where each row is the probability of a datapoint being positive \n",
    "def p(X,beta):\n",
    "    #X is the data matrix which contains x, y coordinates and intercept term\n",
    "    #beta is the matrix of parameters/weights\n",
    "    return sigmoid(np.matmul(X,beta))"
   ]
  },
  {
   "cell_type": "code",
   "execution_count": 118,
   "metadata": {},
   "outputs": [],
   "source": [
    "def hessian(X,beta,m=1):\n",
    "    # m is the total number of times the trials are conducted for a datapoint.\n",
    "    #It is a matrix of the size of X since for each datapoint m may be different\n",
    "    #In this example however, we take m=1(or a matrix of ones) by default\n",
    "    v=m*np.multiply(p(X,beta), 1-p(X,beta)) #v is the variance of the data\n",
    "    \n",
    "    V=np.diag(v.flatten())                             #V is the diagonal form of v\n",
    "    \n",
    "    hess = np.matmul(np.matmul(np.transpose(X),V),X)  # This is the formula for the hessian derived by double \n",
    "                                                      # differentiating the likelihood function(MLE)\n",
    "    return hess"
   ]
  },
  {
   "cell_type": "code",
   "execution_count": 114,
   "metadata": {},
   "outputs": [],
   "source": [
    "def gradient(X,Y,m,beta):\n",
    "    mean=m*p(X,beta)                     #mean is the expectation value of the data point, since m is 1, it represents the probability of success\n",
    "    diff= Y-mean\n",
    "    grad=np.matmul(np.transpose(X),diff) #This formula for the gradient is obtained by differentiating the likelihood fxn.\n",
    "    return grad\n",
    "    "
   ]
  },
  {
   "cell_type": "code",
   "execution_count": 26,
   "metadata": {},
   "outputs": [],
   "source": [
    "def newton1(beta_old,X,Y,m=1, step_size=1):\n",
    "    #newton's formula for convergence\n",
    "    beta_new= beta_old + step_size * np.matmul(np.linalg.inv(hessian(X,beta_old,m)),gradient(X,Y,m,beta_old))\n",
    "    return beta_new"
   ]
  },
  {
   "cell_type": "code",
   "execution_count": 137,
   "metadata": {},
   "outputs": [],
   "source": [
    "def newton2(beta_old,X,Y,m=1, step_size=1):\n",
    "    #Newton's formula, not assuming that the hessian is non-singular. If it is, it raises a linalgerror \n",
    "    aa,*bb = np.linalg.lstsq(hessian(X,beta_old,m), gradient(X,Y,m,beta_old)) \n",
    "    beta_new = beta_old - step_size*aa\n",
    "    return beta_new"
   ]
  },
  {
   "cell_type": "code",
   "execution_count": 220,
   "metadata": {},
   "outputs": [],
   "source": [
    "def fit(X,Y,epochs=20,m=1,step_size=1,tol=1e-5):\n",
    "    #training step\n",
    "    epoch=0  #counter\n",
    "    beta_new=np.zeros((X.shape[1],1))\n",
    "    beta_old=beta_new+1\n",
    "    while (epoch < epochs) and np.abs(beta_new-beta_old).sum() > tol:\n",
    "        beta_old = beta_new\n",
    "        beta_new = newton2(beta_old,X,Y,m,step_size) #can be changed to newton1 \n",
    "        epoch=epoch+1\n",
    "    return beta_new"
   ]
  },
  {
   "cell_type": "markdown",
   "metadata": {},
   "source": [
    "## The main program"
   ]
  },
  {
   "cell_type": "code",
   "execution_count": 223,
   "metadata": {},
   "outputs": [],
   "source": [
    "#X,Y are randomly shuffled forms of X,Y\n",
    "X1,Y1 = play_data()\n",
    "X,Y = sampler(X1,Y1)\n",
    "#Convert Y into column vector\n",
    "Y=Y.reshape(X.shape[0],1)"
   ]
  },
  {
   "cell_type": "code",
   "execution_count": 224,
   "metadata": {},
   "outputs": [
    {
     "data": {
      "text/plain": [
       "<matplotlib.collections.PathCollection at 0x7fdbacaea080>"
      ]
     },
     "execution_count": 224,
     "metadata": {},
     "output_type": "execute_result"
    },
    {
     "data": {
      "image/png": "[encoded data removed]",
      "text/plain": [
       "<Figure size 432x288 with 1 Axes>"
      ]
     },
     "metadata": {},
     "output_type": "display_data"
    }
   ],
   "source": [
    "#Visualizing the data\n",
    "plt.scatter(X1[0:100,1],X1[0:100,2],c='red',marker='+')\n",
    "plt.scatter(X1[100:,1],X1[100:,2],c='blue',marker='_')"
   ]
  },
  {
   "cell_type": "code",
   "execution_count": 225,
   "metadata": {},
   "outputs": [
    {
     "name": "stderr",
     "output_type": "stream",
     "text": [
      "/usr/local/lib/python3.5/dist-packages/ipykernel_launcher.py:3: FutureWarning: `rcond` parameter will change to the default of machine precision times ``max(M, N)`` where M and N are the input matrix dimensions.\n",
      "To use the future default and silence this warning we advise to pass `rcond=None`, to keep using the old, explicitly pass `rcond=-1`.\n",
      "  This is separate from the ipykernel package so we can avoid doing imports until\n"
     ]
    }
   ],
   "source": [
    "#Getting our optimized beta values\n",
    "beta = fit(X, Y)"
   ]
  },
  {
   "cell_type": "code",
   "execution_count": 226,
   "metadata": {},
   "outputs": [
    {
     "data": {
      "text/plain": [
       "array([[42.95407654],\n",
       "       [-5.68007106],\n",
       "       [-7.68966049]])"
      ]
     },
     "execution_count": 226,
     "metadata": {},
     "output_type": "execute_result"
    }
   ],
   "source": [
    "beta"
   ]
  },
  {
   "cell_type": "code",
   "execution_count": 227,
   "metadata": {},
   "outputs": [
    {
     "data": {
      "text/plain": [
       "[<matplotlib.lines.Line2D at 0x7fdbaca9ac50>]"
      ]
     },
     "execution_count": 227,
     "metadata": {},
     "output_type": "execute_result"
    },
    {
     "data": {
      "image/png": "[encoded data removed]",
      "text/plain": [
       "<Figure size 432x288 with 1 Axes>"
      ]
     },
     "metadata": {},
     "output_type": "display_data"
    }
   ],
   "source": [
    "plt.scatter(X1[0:100,1],X1[0:100,2],c='red',marker='+')\n",
    "plt.scatter(X1[100:,1],X1[100:,2],c='blue',marker='_')\n",
    "#Plotting the decision boundary\n",
    "xplot = np.linspace(-3,8)\n",
    "yplot=(-1*beta[0] - beta[1]*xplot)/beta[2]\n",
    "plt.plot(xplot,yplot,'g-')"
   ]
  },
  {
   "cell_type": "code",
   "execution_count": 228,
   "metadata": {},
   "outputs": [
    {
     "data": {
      "text/plain": [
       "<matplotlib.collections.PathCollection at 0x7fdbaca52b70>"
      ]
     },
     "execution_count": 228,
     "metadata": {},
     "output_type": "execute_result"
    },
    {
     "data": {
      "image/png": "[encoded data removed]",
      "text/plain": [
       "<Figure size 432x288 with 1 Axes>"
      ]
     },
     "metadata": {},
     "output_type": "display_data"
    }
   ],
   "source": [
    "X2, Y2 = csplay_data()\n",
    "plt.scatter(X2[0:50,1],X2[0:50,2],c='red',marker='+')\n",
    "plt.scatter(X2[50:,1],X2[50:,2],c='blue',marker='_')"
   ]
  },
  {
   "cell_type": "code",
   "execution_count": 229,
   "metadata": {},
   "outputs": [],
   "source": [
    "X2=np.insert(X2,3,X2[:,1]**2, axis=1)\n",
    "#Adding the column x^2"
   ]
  },
  {
   "cell_type": "code",
   "execution_count": 230,
   "metadata": {},
   "outputs": [],
   "source": [
    "X2=np.insert(X2,4,X2[:,2]**2, axis=1)\n",
    "#Adding the column y^2"
   ]
  },
  {
   "cell_type": "code",
   "execution_count": 231,
   "metadata": {},
   "outputs": [],
   "source": [
    "XX,YY = sampler(X2,Y2)\n",
    "#Convert Y into column vector\n",
    "YY=YY.reshape(XX.shape[0],1)"
   ]
  },
  {
   "cell_type": "code",
   "execution_count": 290,
   "metadata": {},
   "outputs": [
    {
     "name": "stderr",
     "output_type": "stream",
     "text": [
      "/usr/local/lib/python3.5/dist-packages/ipykernel_launcher.py:3: FutureWarning: `rcond` parameter will change to the default of machine precision times ``max(M, N)`` where M and N are the input matrix dimensions.\n",
      "To use the future default and silence this warning we advise to pass `rcond=None`, to keep using the old, explicitly pass `rcond=-1`.\n",
      "  This is separate from the ipykernel package so we can avoid doing imports until\n"
     ]
    }
   ],
   "source": [
    "#fit has many parameters set to default. We can give custom values instead of these defaults.\n",
    "beta2=fit(XX,YY,epochs=1000,step_size=0.1)"
   ]
  },
  {
   "cell_type": "code",
   "execution_count": 291,
   "metadata": {},
   "outputs": [
    {
     "data": {
      "text/plain": [
       "array([[115.93488955],\n",
       "       [ -4.09458081],\n",
       "       [ -3.14911906],\n",
       "       [-26.59746176],\n",
       "       [-27.99192943]])"
      ]
     },
     "execution_count": 291,
     "metadata": {},
     "output_type": "execute_result"
    }
   ],
   "source": [
    "beta2"
   ]
  },
  {
   "cell_type": "code",
   "execution_count": 292,
   "metadata": {},
   "outputs": [
    {
     "data": {
      "text/plain": [
       "<matplotlib.collections.PathCollection at 0x7fdbac4084e0>"
      ]
     },
     "execution_count": 292,
     "metadata": {},
     "output_type": "execute_result"
    },
    {
     "data": {
      "image/png": "[encoded data removed]",
      "text/plain": [
       "<Figure size 432x288 with 1 Axes>"
      ]
     },
     "metadata": {},
     "output_type": "display_data"
    }
   ],
   "source": [
    "#Plotting the decision boundary\n",
    "xplt=np.linspace(-4,4)\n",
    "yplt=np.linspace(-4,4)\n",
    "xx,yy=np.meshgrid(xplt,yplt)\n",
    "F = beta2[0] + beta[1]*xx + beta[2]*yy + beta2[3]*(xx**2) + beta2[4]*(yy**2)\n",
    "plt.contour(xx,yy,F,[0],colors='green',linestyles='solid')\n",
    "\n",
    "plt.scatter(X2[0:50,1],X2[0:50,2],c='red',marker='+')\n",
    "plt.scatter(X2[50:,1],X2[50:,2],c='blue',marker='_')"
   ]
  },
  {
   "cell_type": "code",
   "execution_count": null,
   "metadata": {},
   "outputs": [],
   "source": []
  }
 ],
 "metadata": {
  "kernelspec": {
   "display_name": "Python 3",
   "language": "python",
   "name": "python3"
  },
  "language_info": {
   "codemirror_mode": {
    "name": "ipython",
    "version": 3
   },
   "file_extension": ".py",
   "mimetype": "text/x-python",
   "name": "python",
   "nbconvert_exporter": "python",
   "pygments_lexer": "ipython3",
   "version": "3.5.2"
  }
 },
 "nbformat": 4,
 "nbformat_minor": 2
}
