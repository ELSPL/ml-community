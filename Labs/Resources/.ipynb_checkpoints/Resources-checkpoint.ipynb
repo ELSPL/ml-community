{
 "cells": [
  {
   "cell_type": "markdown",
   "metadata": {},
   "source": [
    "This notebook contains the many good references and resources, which will help to get you started for the topic in no time at all. If you are already familiar with the concepts, these will be a good source of revision."
   ]
  },
  {
   "cell_type": "markdown",
   "metadata": {},
   "source": [
    "Also, do go through Anndrew NG's course on intro to machine learning on coursera. It provides a very good understanding of the various models used in machine-learning. I would say that it is a must for ML enthusiasts\n",
    "[Intro to ML](https://www.coursera.org/learn/machine-learning)"
   ]
  },
  {
   "cell_type": "markdown",
   "metadata": {},
   "source": [
    "# Lab 0\n",
    "\n",
    "- Libraries  \n",
    "    - [Introduction to numpy](https://www.youtube.com/watch?v=EEUXKG97YRw&t=852s)\n",
    "    - [Introduction to pandas](https://www.youtube.com/watch?v=0hsKLYfyQZc&t=11359s)\n",
    "    - [Introduction to sklearn](https://www.youtube.com/watch?v=elojMnjn4kk)\n",
    "    - [Introduction to Random](https://www.youtube.com/watch?v=KzqSDvzOFNA)\n",
    "    - [Introduction to Pickle](https://www.youtube.com/watch?v=2Tw39kZIbhs&t=7s)\n",
    "    - Of course, there are always the docs for each library for further reading!\n",
    "\n",
    "\n",
    "- Data banks\n",
    "    - [Quandl](https://www.quandl.com/)\n",
    "    - [UCI Repository](https://archive.ics.uci.edu/ml/index.php)\n",
    "\n",
    "\n",
    "- General awesome videos and channels\n",
    "    - [Maths(Linear algebra, calculus)](https://www.youtube.com/channel/UCYO_jab_esuFRV4b17AJtAw)\n",
    "    - [Maths for ML](https://www.youtube.com/watch?v=xRJCOz3AfYY&list=PL2-dafEMk2A7mu0bSksCGMJEmeddU_H4D&index=1)"
   ]
  },
  {
   "cell_type": "markdown",
   "metadata": {},
   "source": [
    "# Lab 1\n",
    "\n",
    "- [Method for Gradient Descent](https://en.wikipedia.org/wiki/Gradient_descent)\n",
    "- [SVM explained](https://www.youtube.com/watch?v=_PwhiWxHK8o)\n",
    "- [Qudadratic Problem using cvxopt](https://courses.csail.mit.edu/6.867/wiki/images/a/a7/Qp-cvxopt.pdf)\n",
    "- [Convex Optimization](https://web.stanford.edu/~boyd/cvxbook/bv_cvxbook.pdf)\n",
    "- [SVM ref. code](https://gist.github.com/mblondel/586753)"
   ]
  },
  {
   "cell_type": "markdown",
   "metadata": {},
   "source": [
    "# Lab 2\n",
    "\n",
    "- [ref. code logistic regression](https://github.com/hhl60492/newton_logistic/blob/master/main.py)\n",
    "- [ref. code logistic regression](https://github.com/llSourcell/logistic_regression_newtons_method/blob/master/NewtonCode.ipynb)\n",
    "- [A guide to multinomial regression](http://dataaspirant.com/2017/05/15/implement-multinomial-logistic-regression-python/)\n",
    "- [Bayesian Statistics](https://www.coursera.org/learn/bayesian-statistics)\n",
    "- [Statistical Models](https://www.cs.toronto.edu/~hinton/csc2515/notes/lec6tutorial.pdf)\n",
    "- [Logistic Regression using MLE](https://statacumen.com/teach/SC1/SC1_11_LogisticRegression.pdf)"
   ]
  },
  {
   "cell_type": "markdown",
   "metadata": {},
   "source": [
    "# Lab 3\n",
    "\n",
    "- [Ln regularization](https://www.youtube.com/watch?v=sO4ZirJh9ds)\n",
    "- [Maths behind PCA](http://www.math.union.edu/~jaureguj/PCA.pdf)"
   ]
  },
  {
   "cell_type": "markdown",
   "metadata": {},
   "source": [
    "# Lab 4\n",
    "\n",
    " "
   ]
  },
  {
   "cell_type": "markdown",
   "metadata": {},
   "source": [
    "# Lab 5\n",
    "\n",
    "- [Principle of Decision Trees(part 1-8)](https://www.youtube.com/watch?v=eKD5gxPPeY0)\n",
    "- [Reference python code](https://machinelearningmastery.com/implement-decision-tree-algorithm-scratch-python/)\n",
    "- [Reference python code](http://kldavenport.com/pure-python-decision-trees/)"
   ]
  },
  {
   "cell_type": "markdown",
   "metadata": {},
   "source": [
    "# Extras\n",
    "\n",
    "- [Evaluation of model](https://adamyedidia.files.wordpress.com/2014/11/f_score.pdf)\n",
    "- [Evaluation of model](http://blog.uwgb.edu/bansalg/statistics-data-analytics/linear-regression/what-are-the-four-assumptions-of-linear-regression/)"
   ]
  }
 ],
 "metadata": {
  "kernelspec": {
   "display_name": "Python 3",
   "language": "python",
   "name": "python3"
  },
  "language_info": {
   "codemirror_mode": {
    "name": "ipython",
    "version": 3
   },
   "file_extension": ".py",
   "mimetype": "text/x-python",
   "name": "python",
   "nbconvert_exporter": "python",
   "pygments_lexer": "ipython3",
   "version": "3.5.2"
  }
 },
 "nbformat": 4,
 "nbformat_minor": 2
}
