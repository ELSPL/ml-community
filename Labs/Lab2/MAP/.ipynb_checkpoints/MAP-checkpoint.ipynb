{
 "cells": [
  {
   "cell_type": "markdown",
   "metadata": {},
   "source": [
    "# Classification Using MAP"
   ]
  },
  {
   "cell_type": "markdown",
   "metadata": {},
   "source": [
    "Maximum A Posteriori (MAP) is a concept derived from Bayesian Staistics and a widely used way of doing estimation. It has an advantage over the frequentist approach(MLE) that it also considers what we know about the data before seeing it. Thus, in a way, it regularizes the MLE method \n",
    "\n",
    "The Bayes formula can be written as shown below with an example:\n",
    "\n",
    "<img src='https://www.maths.ox.ac.uk/system/files/attachments/Bayes_0.png'>\n",
    "\n",
    "Here, A can be thought of as the prior probability of a class i.e. we have some idea about how likely that class is and we include that idea into our estimation of the actual probability of the class after seeing the data.\n",
    "\n",
    "B|A is the likelihood of the data given the parameters of the distribution(A), which come with our class.\n",
    "That means for class 0, P(X|class_0) represents the Probability Distribution Function for some X given class_0. It gives a measure of how likely X belongs to the class_0.\n",
    "\n",
    "Multiplying these two gives us the posterior probability( \\* some constant which is not important)for some datapoint X. MAP then says that X belongs to the class for which the posterior probability is maximum. For example if for some X, **P(X|class_0)** * **P(class_0)** is maximum among class_0, class_1, and class_2, then predict that X belongs to class )\n"
   ]
  },
  {
   "cell_type": "markdown",
   "metadata": {},
   "source": [
    "Lets take a solid example for understanding the terms in the equation.\n",
    "Lets say you have a sister who comes to you with a coin and then bets you 10Rs. if the coin is loaded(P(head)=0.7). Before, taking the bet you are allowed 5 flips of the coin. Now, you know her very well and can say that the probability that she comes to you with a loaded coin is 0.65. \n",
    "\n",
    "Then, the prior is 0.65 and A is 0.7.\n",
    "\n",
    "Now in 5 flips you notice 2H and 3T. Then the posterior probability that the coin is loaded is directly proportional to:\n",
    "\n",
    "( $0.7^{2}$ \\* $(0.3)^{3}$ ) * 0.65 "
   ]
  },
  {
   "cell_type": "markdown",
   "metadata": {},
   "source": [
    "Lets try on some toy data"
   ]
  },
  {
   "cell_type": "code",
   "execution_count": 213,
   "metadata": {},
   "outputs": [],
   "source": [
    "#Importing libraries\n",
    "import numpy as np                    #for matrix math\n",
    "from matplotlib import pyplot as plt  #for plotting our results\n",
    "import random                         #for generating random data\n",
    "%matplotlib inline"
   ]
  },
  {
   "cell_type": "code",
   "execution_count": 214,
   "metadata": {},
   "outputs": [],
   "source": [
    "#Generating toy data\n",
    "def toy_data():\n",
    "    np.random.seed(0)   #generates the same play data every time this cell runs, making it easier for debugging\n",
    "    \n",
    "    trialx1=np.random.normal(6,1,100)  #positive samples x coordinate\n",
    "    trialx2=np.random.normal(0,1,75)  #negative samples x coordinate\n",
    "    trialy1=np.random.normal(6,1,100)  #positive samples y coordinate\n",
    "    trialy2=np.random.normal(0,1,75)  #negative samples y coordinate\n",
    "    \n",
    "    trialx=np.concatenate((trialx1,trialx2),axis=0)\n",
    "    trialy=np.concatenate((trialy1,trialy2),axis=0)\n",
    "    \n",
    "    X=np.stack((trialx,trialy),axis=1)  #the final input data\n",
    "    Y=np.ones((X.shape[0],1))\n",
    "    Y[100:]=0\n",
    "    return X,Y"
   ]
  },
  {
   "cell_type": "code",
   "execution_count": 215,
   "metadata": {},
   "outputs": [
    {
     "data": {
      "image/png": "[encoded data removed]",
      "text/plain": [
       "<Figure size 432x288 with 1 Axes>"
      ]
     },
     "metadata": {},
     "output_type": "display_data"
    }
   ],
   "source": [
    "#Visualizing Toy data\n",
    "X,Y =toy_data()\n",
    "Y=Y.reshape(X.shape[0],1)\n",
    "plt.scatter(X[0:100,0],X[0:100,1], c='red', marker='+')\n",
    "plt.scatter(X[100:,0],X[100:,1], c='blue', marker='_')\n",
    "\n",
    "#Splitting the data\n",
    "Xtr = np.concatenate((X[0:80,:],X[130:,:]), axis=0)\n",
    "Xte = X[80:130,:]\n",
    "Ytr = np.concatenate((Y[0:80],Y[130:]),axis=0)\n",
    "Yte = Y[80:130]"
   ]
  },
  {
   "cell_type": "markdown",
   "metadata": {},
   "source": [
    "## Defining the various functions to calculate terms of the above equations"
   ]
  },
  {
   "cell_type": "code",
   "execution_count": 216,
   "metadata": {},
   "outputs": [],
   "source": [
    "#Calculate priors based on the training data\n",
    "def prior(Y):\n",
    "    classes={}\n",
    "    for classname in np.unique(Y):\n",
    "        occurences = (Y == classname).sum()\n",
    "        prior = occurences/len(Y)\n",
    "        classes[classname] = prior\n",
    "    \n",
    "    return classes"
   ]
  },
  {
   "cell_type": "code",
   "execution_count": 217,
   "metadata": {},
   "outputs": [],
   "source": [
    "'''\n",
    "  We have assumed a gaussian probability distribution function for our data. Hence, we find out the mean\n",
    "  and the standard deviation from the training dataand plug it into the gaussian equation in the function pdf\n",
    "'''\n",
    "def stat(X,Y):\n",
    "    classes={}\n",
    "    for classname in np.unique(Y):\n",
    "        class_X = X[np.where(Y==classname)[0]]\n",
    "        #Parameters for the probability density function\n",
    "        class_mean = class_X.mean(axis=0)\n",
    "        class_std = class_X.std(axis=0)\n",
    "        \n",
    "        classes[classname] = [class_mean,class_std]\n",
    "    \n",
    "    return classes"
   ]
  },
  {
   "cell_type": "code",
   "execution_count": 218,
   "metadata": {},
   "outputs": [],
   "source": [
    "#Taking mu and sigma from stats, we find the likelihood\n",
    "def pdf(X,sigma,mu):\n",
    "    mu = mu.reshape(X.shape)\n",
    "    sigma = sigma.reshape(X.shape)\n",
    "    res = 1/(np.sqrt(2*np.pi)*(sigma**2)) * np.exp(-1*((X-mu)**2) / (sigma**2))\n",
    "    \n",
    "    return res"
   ]
  },
  {
   "cell_type": "code",
   "execution_count": 219,
   "metadata": {},
   "outputs": [],
   "source": [
    "#Find the posteriors for each class\n",
    "def posteriors(X,stats,priors):\n",
    "    posteriors ={}\n",
    "    for classname in stats:\n",
    "        \n",
    "        mu = stats[classname][0]\n",
    "        sigma = stats[classname][1]\n",
    "        likelihood = pdf(X,sigma,mu)\n",
    "        \n",
    "        posteriors[classname] = priors[classname] * np.prod(likelihood)  #Find out how likely this example is to a class.\n",
    "    \n",
    "    return posteriors\n",
    "        \n",
    "        "
   ]
  },
  {
   "cell_type": "code",
   "execution_count": 220,
   "metadata": {},
   "outputs": [],
   "source": [
    "#Classify based on the model\n",
    "def classify(X,stats,priors):\n",
    "    posterioris = posteriors(X,stats,priors)\n",
    "    \n",
    "    return max(posterioris, key=lambda key: posterioris[key])"
   ]
  },
  {
   "cell_type": "code",
   "execution_count": 226,
   "metadata": {},
   "outputs": [
    {
     "name": "stdout",
     "output_type": "stream",
     "text": [
      "{0.0: 0.36, 1.0: 0.64}\n"
     ]
    }
   ],
   "source": [
    "priors = prior(Ytr)\n",
    "print(priors)"
   ]
  },
  {
   "cell_type": "code",
   "execution_count": 227,
   "metadata": {
    "scrolled": true
   },
   "outputs": [
    {
     "name": "stdout",
     "output_type": "stream",
     "text": [
      "{0.0: [array([-0.00945006, -0.2247342 ]), array([0.95582395, 0.91127621])], 1.0: [array([5.96945772, 5.87956431]), array([1.00612318, 0.90904757])]}\n"
     ]
    }
   ],
   "source": [
    "stats = stat(Xtr,Ytr)\n",
    "print(stats)"
   ]
  },
  {
   "cell_type": "code",
   "execution_count": 225,
   "metadata": {
    "scrolled": true
   },
   "outputs": [
    {
     "name": "stdout",
     "output_type": "stream",
     "text": [
      "[1.0, 1.0, 1.0, 1.0, 1.0, 1.0, 1.0, 1.0, 1.0, 1.0, 1.0, 1.0, 1.0, 1.0, 1.0, 1.0, 1.0, 1.0, 1.0, 1.0, 0.0, 0.0, 0.0, 0.0, 0.0, 0.0, 0.0, 0.0, 0.0, 0.0, 0.0, 0.0, 0.0, 0.0, 0.0, 0.0, 0.0, 0.0, 0.0, 0.0, 0.0, 0.0, 0.0, 0.0, 0.0, 0.0, 0.0, 0.0, 0.0, 0.0]\n"
     ]
    }
   ],
   "source": [
    "#Predictions\n",
    "res=[]\n",
    "for i in Xte:\n",
    "    res.append(classify(i,stats,priors))\n",
    "print(res)\n"
   ]
  },
  {
   "cell_type": "code",
   "execution_count": 231,
   "metadata": {},
   "outputs": [
    {
     "data": {
      "text/plain": [
       "True"
      ]
     },
     "execution_count": 231,
     "metadata": {},
     "output_type": "execute_result"
    }
   ],
   "source": [
    "Yte.tolist() == res"
   ]
  },
  {
   "cell_type": "markdown",
   "metadata": {},
   "source": [
    "Thus, we see that it predicts our data correctly. \n",
    "In this case we have taken 2 classes, but this idea can be extended to as many classes as we like\n",
    "Also, we have seperated the data by a long gap, but for closely spaced data, the more the number of prior(testing) data points, the more the accuracy."
   ]
  }
 ],
 "metadata": {
  "kernelspec": {
   "display_name": "Python 3",
   "language": "python",
   "name": "python3"
  },
  "language_info": {
   "codemirror_mode": {
    "name": "ipython",
    "version": 3
   },
   "file_extension": ".py",
   "mimetype": "text/x-python",
   "name": "python",
   "nbconvert_exporter": "python",
   "pygments_lexer": "ipython3",
   "version": "3.5.2"
  }
 },
 "nbformat": 4,
 "nbformat_minor": 2
}
