{
 "cells": [
  {
   "cell_type": "markdown",
   "metadata": {},
   "source": [
    "# Logistic Regression\n",
    "\n",
    "Logistic regression is again, regression but used for classification. Instead of predicting new values, it can classify. Of course, we need to change the optimization objective. In this example, we use the MLE(Maximum Likelihood Esitmator).\n",
    "\n",
    "Likelihood is defined by the probability of the data given the weights(You remember the weights from linear regression, don't you?). That being our optimization objective, we maximize the probability. We assume that the data is distributed in a bernoulli distribution and the probability function is sigmoid function. \n",
    "\n",
    "For a detailed explanation of the process, do have a look at the resources section, but on a higher level, \n",
    "we wil use Newton's Method for maximizing the Likelihood Function"
   ]
  },
  {
   "cell_type": "markdown",
   "metadata": {},
   "source": [
    "<img src='https://ardianumam.files.wordpress.com/2017/09/newtonmethodforoptim1.jpg'>"
   ]
  },
  {
   "cell_type": "markdown",
   "metadata": {},
   "source": [
    "The above figure explains the working of newton's methodand the meaning of the equation"
   ]
  },
  {
   "cell_type": "markdown",
   "metadata": {},
   "source": [
    "<img src='https://i.ytimg.com/vi/I_dhPETvll8/maxresdefault.jpg'>"
   ]
  },
  {
   "cell_type": "markdown",
   "metadata": {},
   "source": [
    "Here, f is the likelihood function. We maximize it using newton's method to get the optimized weights."
   ]
  },
  {
   "cell_type": "markdown",
   "metadata": {},
   "source": [
    "You must be wondering where the weights are. Well, it comes full circle with the sigmoid function for probability:\n",
    "<img src='https://fuyangliudk.files.wordpress.com/2015/12/logistic-regression-model-1.jpg?w=500'>\n",
    "\n",
    "As you can see, weights determine the probability function and this is so because now we can easily say that if W<sup>T</sup>X is negative, it is negative example and if positive, then positive"
   ]
  },
  {
   "cell_type": "code",
   "execution_count": 1,
   "metadata": {},
   "outputs": [],
   "source": [
    "#Importing libraries\n",
    "import numpy as np                    #for matrix math\n",
    "from matplotlib import pyplot as plt  #for plotting our results\n",
    "import random                         #for generating random data"
   ]
  },
  {
   "cell_type": "code",
   "execution_count": 2,
   "metadata": {},
   "outputs": [],
   "source": [
    "def play_data():\n",
    "    np.random.seed(0)   #generates the same play data every time this cell runs, making it easier for debugging\n",
    "    \n",
    "    trialx1=np.random.normal(6,1,100)  #positive samples x coordinate\n",
    "    trialx2=np.random.normal(0,1,100)  #negative samples x coordinate\n",
    "    trialy1=np.random.normal(6,1,100)  #positive samples y coordinate\n",
    "    trialy2=np.random.normal(0,1,100)  #negative samples y coordinate\n",
    "    \n",
    "    trialx=np.concatenate((trialx1,trialx2),axis=0)\n",
    "    trialy=np.concatenate((trialy1,trialy2),axis=0)\n",
    "    \n",
    "    X=np.stack((np.ones(trialx.shape),trialx,trialy),axis=1)  #the final input data\n",
    "    Y=np.ones((X.shape[0],1))\n",
    "    Y[100:]=0\n",
    "    return X,Y"
   ]
  },
  {
   "cell_type": "code",
   "execution_count": 3,
   "metadata": {},
   "outputs": [],
   "source": [
    "def csplay_data():\n",
    "    #Circular data\n",
    "    np.random.seed(0)   #generates the same play data every time this cell runs, making it easier for debugging\n",
    "    \n",
    "    X=np.zeros((100,2))\n",
    "    Y=np.ones((100,1))\n",
    "    Y[0:50] = 0\n",
    "    \n",
    "    for i in range(50):\n",
    "        dummy=random.choice([-1,1]) #-ve class, x coordinate\n",
    "        X[i,0]=(random.random()) * dummy #Noise\n",
    "        \n",
    "        dummy=random.choice([-1,1]) #-ve class, y coordinate\n",
    "        X[i,1]=(random.random()) * dummy#Noise\n",
    "        \n",
    "        dummy=random.choice([-1,1]) #+ve class, x coordinate\n",
    "        X[i+50,0]=random.uniform(1.5,3.0) * dummy #Noise\n",
    "        \n",
    "        dummy=random.choice([-1,1]) #+ve class, y coordinate\n",
    "        X[i+50,1]=random.uniform(1.5,3.0) * dummy #Noise\n",
    "        \n",
    "    X=np.concatenate((np.ones(Y.shape),X),axis=1)\n",
    "    return X,Y"
   ]
  },
  {
   "cell_type": "code",
   "execution_count": 4,
   "metadata": {},
   "outputs": [],
   "source": [
    "#returns data shuffled and seperated into X and Y\n",
    "def sampler(X,Y):\n",
    "    dummy = np.concatenate((X,Y),axis=1)\n",
    "    np.random.shuffle(dummy)\n",
    "    X_new = dummy[:,:-1] \n",
    "    Y_new = dummy[:,-1]\n",
    "    return X_new,Y_new"
   ]
  },
  {
   "cell_type": "code",
   "execution_count": 5,
   "metadata": {},
   "outputs": [],
   "source": [
    "#returns the sigmoid of a value\n",
    "def sigmoid(z):\n",
    "    return 1/(1+np.exp(z))"
   ]
  },
  {
   "cell_type": "code",
   "execution_count": 6,
   "metadata": {},
   "outputs": [],
   "source": [
    "#returns the probability matrix p where each row is the probability of a datapoint being positive \n",
    "def p(X,beta):\n",
    "    #X is the data matrix which contains x, y coordinates and intercept term\n",
    "    #beta is the matrix of parameters/weights\n",
    "    return sigmoid(np.matmul(X,beta))"
   ]
  },
  {
   "cell_type": "code",
   "execution_count": 7,
   "metadata": {},
   "outputs": [],
   "source": [
    "def hessian(X,beta,m=1):\n",
    "    # m is the total number of times the trials are conducted for a datapoint.\n",
    "    #It is a matrix of the size of X since for each datapoint m may be different\n",
    "    #In this example however, we take m=1(or a matrix of ones) by default\n",
    "    v=m*np.multiply(p(X,beta), 1-p(X,beta)) #v is the variance of the data\n",
    "    \n",
    "    V=np.diag(v.flatten())                             #V is the diagonal form of v\n",
    "    \n",
    "    hess = np.matmul(np.matmul(np.transpose(X),V),X)  # This is the formula for the hessian derived by double \n",
    "                                                      # differentiating the likelihood function(MLE)\n",
    "    return hess"
   ]
  },
  {
   "cell_type": "code",
   "execution_count": 8,
   "metadata": {},
   "outputs": [],
   "source": [
    "def gradient(X,Y,m,beta):\n",
    "    mean=m*p(X,beta)                     #mean is the expectation value of the data point, since m is 1, it represents the probability of success\n",
    "    diff= Y-mean\n",
    "    grad=np.matmul(np.transpose(X),diff) #This formula for the gradient is obtained by differentiating the likelihood fxn.\n",
    "    return grad\n",
    "    "
   ]
  },
  {
   "cell_type": "code",
   "execution_count": 9,
   "metadata": {},
   "outputs": [],
   "source": [
    "def newton1(beta_old,X,Y,m=1, step_size=1):\n",
    "    #newton's formula for convergence\n",
    "    beta_new= beta_old + step_size * np.matmul(np.linalg.inv(hessian(X,beta_old,m)),gradient(X,Y,m,beta_old))\n",
    "    return beta_new"
   ]
  },
  {
   "cell_type": "code",
   "execution_count": 10,
   "metadata": {},
   "outputs": [],
   "source": [
    "def newton2(beta_old,X,Y,m=1, step_size=1):\n",
    "    #Newton's formula, not assuming that the hessian is non-singular. If it is, it raises a linalgerror \n",
    "    aa,*bb = np.linalg.lstsq(hessian(X,beta_old,m), gradient(X,Y,m,beta_old)) \n",
    "    beta_new = beta_old - step_size*aa\n",
    "    return beta_new"
   ]
  },
  {
   "cell_type": "code",
   "execution_count": 11,
   "metadata": {},
   "outputs": [],
   "source": [
    "def fit(X,Y,epochs=20,m=1,step_size=1,tol=1e-5):\n",
    "    #training step\n",
    "    epoch=0  #counter\n",
    "    beta_new=np.zeros((X.shape[1],1))\n",
    "    beta_old=beta_new+1\n",
    "    while (epoch < epochs) and np.abs(beta_new-beta_old).sum() > tol:\n",
    "        beta_old = beta_new\n",
    "        beta_new = newton2(beta_old,X,Y,m,step_size) #can be changed to newton1 \n",
    "        epoch=epoch+1\n",
    "    return beta_new"
   ]
  },
  {
   "cell_type": "markdown",
   "metadata": {},
   "source": [
    "## The main program"
   ]
  },
  {
   "cell_type": "code",
   "execution_count": 12,
   "metadata": {},
   "outputs": [],
   "source": [
    "#X,Y are randomly shuffled forms of X,Y\n",
    "X1,Y1 = play_data()\n",
    "X,Y = sampler(X1,Y1)\n",
    "#Convert Y into column vector\n",
    "Y=Y.reshape(X.shape[0],1)"
   ]
  },
  {
   "cell_type": "code",
   "execution_count": 13,
   "metadata": {},
   "outputs": [
    {
     "data": {
      "text/plain": [
       "<matplotlib.collections.PathCollection at 0x7f059f49f390>"
      ]
     },
     "execution_count": 13,
     "metadata": {},
     "output_type": "execute_result"
    },
    {
     "data": {
      "image/png": "[encoded data removed]",
      "text/plain": [
       "<Figure size 432x288 with 1 Axes>"
      ]
     },
     "metadata": {},
     "output_type": "display_data"
    }
   ],
   "source": [
    "#Visualizing the data\n",
    "plt.scatter(X1[0:100,1],X1[0:100,2],c='red',marker='+')\n",
    "plt.scatter(X1[100:,1],X1[100:,2],c='blue',marker='_')"
   ]
  },
  {
   "cell_type": "code",
   "execution_count": 14,
   "metadata": {},
   "outputs": [
    {
     "name": "stderr",
     "output_type": "stream",
     "text": [
      "/usr/local/lib/python3.5/dist-packages/ipykernel_launcher.py:3: FutureWarning: `rcond` parameter will change to the default of machine precision times ``max(M, N)`` where M and N are the input matrix dimensions.\n",
      "To use the future default and silence this warning we advise to pass `rcond=None`, to keep using the old, explicitly pass `rcond=-1`.\n",
      "  This is separate from the ipykernel package so we can avoid doing imports until\n"
     ]
    }
   ],
   "source": [
    "#Getting our optimized beta values\n",
    "beta = fit(X, Y)"
   ]
  },
  {
   "cell_type": "code",
   "execution_count": 15,
   "metadata": {},
   "outputs": [
    {
     "data": {
      "text/plain": [
       "array([[42.95407654],\n",
       "       [-5.68007106],\n",
       "       [-7.68966049]])"
      ]
     },
     "execution_count": 15,
     "metadata": {},
     "output_type": "execute_result"
    }
   ],
   "source": [
    "beta"
   ]
  },
  {
   "cell_type": "code",
   "execution_count": 16,
   "metadata": {},
   "outputs": [
    {
     "data": {
      "text/plain": [
       "[<matplotlib.lines.Line2D at 0x7f059f4147b8>]"
      ]
     },
     "execution_count": 16,
     "metadata": {},
     "output_type": "execute_result"
    },
    {
     "data": {
      "image/png": "[encoded data removed]",
      "text/plain": [
       "<Figure size 432x288 with 1 Axes>"
      ]
     },
     "metadata": {},
     "output_type": "display_data"
    }
   ],
   "source": [
    "plt.scatter(X1[0:100,1],X1[0:100,2],c='red',marker='+')\n",
    "plt.scatter(X1[100:,1],X1[100:,2],c='blue',marker='_')\n",
    "#Plotting the decision boundary\n",
    "xplot = np.linspace(-3,8)\n",
    "yplot=(-1*beta[0] - beta[1]*xplot)/beta[2]\n",
    "plt.plot(xplot,yplot,'g-')"
   ]
  },
  {
   "cell_type": "code",
   "execution_count": 17,
   "metadata": {},
   "outputs": [
    {
     "data": {
      "text/plain": [
       "<matplotlib.collections.PathCollection at 0x7f059f3d2d30>"
      ]
     },
     "execution_count": 17,
     "metadata": {},
     "output_type": "execute_result"
    },
    {
     "data": {
      "image/png": "[encoded data removed]",
      "text/plain": [
       "<Figure size 432x288 with 1 Axes>"
      ]
     },
     "metadata": {},
     "output_type": "display_data"
    }
   ],
   "source": [
    "X2, Y2 = csplay_data()\n",
    "plt.scatter(X2[0:50,1],X2[0:50,2],c='red',marker='+')\n",
    "plt.scatter(X2[50:,1],X2[50:,2],c='blue',marker='_')"
   ]
  },
  {
   "cell_type": "markdown",
   "metadata": {},
   "source": [
    "For non linear seperations we need to add complex terms like square or product between two features"
   ]
  },
  {
   "cell_type": "code",
   "execution_count": 18,
   "metadata": {},
   "outputs": [],
   "source": [
    "X2=np.insert(X2,3,X2[:,1]**2, axis=1)\n",
    "#Adding the column x^2"
   ]
  },
  {
   "cell_type": "code",
   "execution_count": 19,
   "metadata": {},
   "outputs": [],
   "source": [
    "X2=np.insert(X2,4,X2[:,2]**2, axis=1)\n",
    "#Adding the column y^2"
   ]
  },
  {
   "cell_type": "code",
   "execution_count": 20,
   "metadata": {},
   "outputs": [],
   "source": [
    "X2 = np.insert(X2,5,X2[:,1]*X2[:,2],axis=1)\n",
    "#Adding the column xy"
   ]
  },
  {
   "cell_type": "code",
   "execution_count": 21,
   "metadata": {},
   "outputs": [],
   "source": [
    "XX,YY = sampler(X2,Y2)\n",
    "#Convert Y into column vector\n",
    "YY=YY.reshape(XX.shape[0],1)"
   ]
  },
  {
   "cell_type": "code",
   "execution_count": 22,
   "metadata": {},
   "outputs": [
    {
     "name": "stderr",
     "output_type": "stream",
     "text": [
      "/usr/local/lib/python3.5/dist-packages/ipykernel_launcher.py:3: FutureWarning: `rcond` parameter will change to the default of machine precision times ``max(M, N)`` where M and N are the input matrix dimensions.\n",
      "To use the future default and silence this warning we advise to pass `rcond=None`, to keep using the old, explicitly pass `rcond=-1`.\n",
      "  This is separate from the ipykernel package so we can avoid doing imports until\n"
     ]
    }
   ],
   "source": [
    "#fit has many parameters set to default. We can give custom values instead of these defaults.\n",
    "beta2=fit(XX,YY,epochs=1000,step_size=0.1)"
   ]
  },
  {
   "cell_type": "code",
   "execution_count": 23,
   "metadata": {},
   "outputs": [
    {
     "data": {
      "text/plain": [
       "array([[119.08707894],\n",
       "       [ -0.12721968],\n",
       "       [ -1.90730032],\n",
       "       [-18.88185138],\n",
       "       [-25.90878225],\n",
       "       [  0.66149925]])"
      ]
     },
     "execution_count": 23,
     "metadata": {},
     "output_type": "execute_result"
    }
   ],
   "source": [
    "beta2"
   ]
  },
  {
   "cell_type": "code",
   "execution_count": 24,
   "metadata": {},
   "outputs": [
    {
     "data": {
      "text/plain": [
       "<matplotlib.collections.PathCollection at 0x7f059f395a90>"
      ]
     },
     "execution_count": 24,
     "metadata": {},
     "output_type": "execute_result"
    },
    {
     "data": {
      "image/png": "[encoded data removed]",
      "text/plain": [
       "<Figure size 432x288 with 1 Axes>"
      ]
     },
     "metadata": {},
     "output_type": "display_data"
    }
   ],
   "source": [
    "#Plotting the decision boundary\n",
    "xplt=np.linspace(-4,4)\n",
    "yplt=np.linspace(-4,4)\n",
    "xx,yy=np.meshgrid(xplt,yplt)\n",
    "F = beta2[0] + beta[1]*xx + beta[2]*yy + beta2[3]*(xx**2) + beta2[4]*(yy**2)\n",
    "plt.contour(xx,yy,F,[0],colors='green',linestyles='solid')\n",
    "\n",
    "plt.scatter(X2[0:50,1],X2[0:50,2],c='red',marker='+')\n",
    "plt.scatter(X2[50:,1],X2[50:,2],c='blue',marker='_')"
   ]
  },
  {
   "cell_type": "markdown",
   "metadata": {},
   "source": [
    "## Implementing on real data(Multi Class Classification)\n",
    "\n",
    "Now we can no longer call our data as distributed like bernoulli. Hence, we can apply one of the two methods.\n",
    "\n",
    "1.) We can assume a modified bernoulli and use (m-1)\\*p\\*(1-p) for variance matrix where m is the no. of classes. Thus      \n",
    "    (m-1)*probability will be the new mean value of a datapoint and rounding it off, we will predict its class\n",
    "    \n",
    "2.) Use the One vs All Method to run the toy data code above, m-1 times"
   ]
  },
  {
   "cell_type": "markdown",
   "metadata": {},
   "source": [
    "## Method 1"
   ]
  },
  {
   "cell_type": "code",
   "execution_count": 25,
   "metadata": {},
   "outputs": [],
   "source": [
    "import pandas as pd  # to work with the data"
   ]
  },
  {
   "cell_type": "code",
   "execution_count": 26,
   "metadata": {
    "scrolled": true
   },
   "outputs": [],
   "source": [
    "#importing data into indata\n",
    "headers=['buying','maintainence','doors','persons','bootspace','safety','class']\n",
    "indata=pd.read_csv('https://archive.ics.uci.edu/ml/machine-learning-databases/car/car.data',header=None, names=headers)\n",
    "\n",
    "#Making the dictionaryies form mapping various columns\n",
    "dic1={'vhigh':4, 'high':3, 'med':2, 'low':1}\n",
    "dic2={'small':1, 'med':2, 'big':3}\n",
    "dic3={'low':1, 'med':2, 'high':3}\n",
    "dic4={'unacc':0,'acc':1,'good':2,'vgood':3}\n",
    "\n",
    "#Mapping string dtypes columns to integer according to the above dictionaries\n",
    "indata.loc[:,'buying'] = indata['buying'].map(dic1)\n",
    "indata.loc[:,'maintainence'] = indata['maintainence'].map(dic1)\n",
    "indata.loc[:,'bootspace'] = indata['bootspace'].map(dic2)\n",
    "indata.loc[:,'safety'] = indata['safety'].map(dic3)\n",
    "indata.loc[:,'class'] = indata['class'].map(dic4)\n",
    "\n"
   ]
  },
  {
   "cell_type": "code",
   "execution_count": 27,
   "metadata": {},
   "outputs": [],
   "source": [
    "#converting the 5more and more to 5\n",
    "indata.loc[(indata['persons']=='more'),'persons'] = 5\n",
    "indata.loc[(indata['doors']=='5more'),'doors'] = 5\n"
   ]
  },
  {
   "cell_type": "code",
   "execution_count": 28,
   "metadata": {},
   "outputs": [
    {
     "data": {
      "text/html": [
       "<div>\n",
       "<style scoped>\n",
       "    .dataframe tbody tr th:only-of-type {\n",
       "        vertical-align: middle;\n",
       "    }\n",
       "\n",
       "    .dataframe tbody tr th {\n",
       "        vertical-align: top;\n",
       "    }\n",
       "\n",
       "    .dataframe thead th {\n",
       "        text-align: right;\n",
       "    }\n",
       "</style>\n",
       "<table border=\"1\" class=\"dataframe\">\n",
       "  <thead>\n",
       "    <tr style=\"text-align: right;\">\n",
       "      <th></th>\n",
       "      <th>buying</th>\n",
       "      <th>maintainence</th>\n",
       "      <th>doors</th>\n",
       "      <th>persons</th>\n",
       "      <th>bootspace</th>\n",
       "      <th>safety</th>\n",
       "      <th>class</th>\n",
       "    </tr>\n",
       "  </thead>\n",
       "  <tbody>\n",
       "    <tr>\n",
       "      <th>0</th>\n",
       "      <td>4</td>\n",
       "      <td>4</td>\n",
       "      <td>2</td>\n",
       "      <td>2</td>\n",
       "      <td>1</td>\n",
       "      <td>1</td>\n",
       "      <td>0</td>\n",
       "    </tr>\n",
       "    <tr>\n",
       "      <th>1</th>\n",
       "      <td>4</td>\n",
       "      <td>4</td>\n",
       "      <td>2</td>\n",
       "      <td>2</td>\n",
       "      <td>1</td>\n",
       "      <td>2</td>\n",
       "      <td>0</td>\n",
       "    </tr>\n",
       "    <tr>\n",
       "      <th>2</th>\n",
       "      <td>4</td>\n",
       "      <td>4</td>\n",
       "      <td>2</td>\n",
       "      <td>2</td>\n",
       "      <td>1</td>\n",
       "      <td>3</td>\n",
       "      <td>0</td>\n",
       "    </tr>\n",
       "    <tr>\n",
       "      <th>3</th>\n",
       "      <td>4</td>\n",
       "      <td>4</td>\n",
       "      <td>2</td>\n",
       "      <td>2</td>\n",
       "      <td>2</td>\n",
       "      <td>1</td>\n",
       "      <td>0</td>\n",
       "    </tr>\n",
       "    <tr>\n",
       "      <th>4</th>\n",
       "      <td>4</td>\n",
       "      <td>4</td>\n",
       "      <td>2</td>\n",
       "      <td>2</td>\n",
       "      <td>2</td>\n",
       "      <td>2</td>\n",
       "      <td>0</td>\n",
       "    </tr>\n",
       "  </tbody>\n",
       "</table>\n",
       "</div>"
      ],
      "text/plain": [
       "   buying  maintainence doors persons  bootspace  safety  class\n",
       "0       4             4     2       2          1       1      0\n",
       "1       4             4     2       2          1       2      0\n",
       "2       4             4     2       2          1       3      0\n",
       "3       4             4     2       2          2       1      0\n",
       "4       4             4     2       2          2       2      0"
      ]
     },
     "execution_count": 28,
     "metadata": {},
     "output_type": "execute_result"
    }
   ],
   "source": [
    "#Viewing the data\n",
    "indata.head()"
   ]
  },
  {
   "cell_type": "code",
   "execution_count": 29,
   "metadata": {},
   "outputs": [],
   "source": [
    "#The doors and persons colums are not int 64 but object types and so we convert the entire dataframe into int 64\n",
    "#(Since the others are int 64 only)\n",
    "indata = indata.astype('int64')"
   ]
  },
  {
   "cell_type": "code",
   "execution_count": 30,
   "metadata": {},
   "outputs": [
    {
     "data": {
      "text/plain": [
       "buying          int64\n",
       "maintainence    int64\n",
       "doors           int64\n",
       "persons         int64\n",
       "bootspace       int64\n",
       "safety          int64\n",
       "class           int64\n",
       "dtype: object"
      ]
     },
     "execution_count": 30,
     "metadata": {},
     "output_type": "execute_result"
    }
   ],
   "source": [
    "#Verifying the changed datatypes\n",
    "indata.dtypes"
   ]
  },
  {
   "cell_type": "code",
   "execution_count": 31,
   "metadata": {},
   "outputs": [],
   "source": [
    "#Splitting the data into training and testing sets\n",
    "TR_data = indata.loc[0:1362, :]\n",
    "TE_data = indata.loc[1362:,:]\n",
    "\n",
    "#shuffling the data\n",
    "TR_data = TR_data.sample(frac=1)\n",
    "TE_data = TE_data.sample(frac=1)"
   ]
  },
  {
   "cell_type": "code",
   "execution_count": 32,
   "metadata": {},
   "outputs": [],
   "source": [
    "#Seperating the class as y values\n",
    "Xtr = TR_data.loc[:,'buying':'safety']\n",
    "Ytr = TR_data.loc[:,'class']\n",
    "#inserting the bias term\n",
    "Xtr.insert(0,'bias',1)"
   ]
  },
  {
   "cell_type": "code",
   "execution_count": 33,
   "metadata": {},
   "outputs": [],
   "source": [
    "#### Seperating the class as y values\n",
    "Xte = indata.loc[:,'buying':'safety']\n",
    "Yte = indata.loc[:,'class']\n",
    "Xte.insert(0,'bias',1)"
   ]
  },
  {
   "cell_type": "code",
   "execution_count": 34,
   "metadata": {},
   "outputs": [
    {
     "data": {
      "text/html": [
       "<div>\n",
       "<style scoped>\n",
       "    .dataframe tbody tr th:only-of-type {\n",
       "        vertical-align: middle;\n",
       "    }\n",
       "\n",
       "    .dataframe tbody tr th {\n",
       "        vertical-align: top;\n",
       "    }\n",
       "\n",
       "    .dataframe thead th {\n",
       "        text-align: right;\n",
       "    }\n",
       "</style>\n",
       "<table border=\"1\" class=\"dataframe\">\n",
       "  <thead>\n",
       "    <tr style=\"text-align: right;\">\n",
       "      <th></th>\n",
       "      <th>bias</th>\n",
       "      <th>buying</th>\n",
       "      <th>maintainence</th>\n",
       "      <th>doors</th>\n",
       "      <th>persons</th>\n",
       "      <th>bootspace</th>\n",
       "      <th>safety</th>\n",
       "    </tr>\n",
       "  </thead>\n",
       "  <tbody>\n",
       "    <tr>\n",
       "      <th>530</th>\n",
       "      <td>1</td>\n",
       "      <td>3</td>\n",
       "      <td>4</td>\n",
       "      <td>5</td>\n",
       "      <td>4</td>\n",
       "      <td>3</td>\n",
       "      <td>3</td>\n",
       "    </tr>\n",
       "    <tr>\n",
       "      <th>657</th>\n",
       "      <td>1</td>\n",
       "      <td>3</td>\n",
       "      <td>2</td>\n",
       "      <td>2</td>\n",
       "      <td>4</td>\n",
       "      <td>1</td>\n",
       "      <td>1</td>\n",
       "    </tr>\n",
       "    <tr>\n",
       "      <th>459</th>\n",
       "      <td>1</td>\n",
       "      <td>3</td>\n",
       "      <td>4</td>\n",
       "      <td>3</td>\n",
       "      <td>2</td>\n",
       "      <td>1</td>\n",
       "      <td>1</td>\n",
       "    </tr>\n",
       "    <tr>\n",
       "      <th>279</th>\n",
       "      <td>1</td>\n",
       "      <td>4</td>\n",
       "      <td>2</td>\n",
       "      <td>4</td>\n",
       "      <td>4</td>\n",
       "      <td>1</td>\n",
       "      <td>1</td>\n",
       "    </tr>\n",
       "    <tr>\n",
       "      <th>656</th>\n",
       "      <td>1</td>\n",
       "      <td>3</td>\n",
       "      <td>2</td>\n",
       "      <td>2</td>\n",
       "      <td>2</td>\n",
       "      <td>3</td>\n",
       "      <td>3</td>\n",
       "    </tr>\n",
       "  </tbody>\n",
       "</table>\n",
       "</div>"
      ],
      "text/plain": [
       "     bias  buying  maintainence  doors  persons  bootspace  safety\n",
       "530     1       3             4      5        4          3       3\n",
       "657     1       3             2      2        4          1       1\n",
       "459     1       3             4      3        2          1       1\n",
       "279     1       4             2      4        4          1       1\n",
       "656     1       3             2      2        2          3       3"
      ]
     },
     "execution_count": 34,
     "metadata": {},
     "output_type": "execute_result"
    }
   ],
   "source": [
    "Xtr.head()"
   ]
  },
  {
   "cell_type": "code",
   "execution_count": 35,
   "metadata": {},
   "outputs": [
    {
     "name": "stderr",
     "output_type": "stream",
     "text": [
      "/usr/local/lib/python3.5/dist-packages/ipykernel_launcher.py:3: FutureWarning: `rcond` parameter will change to the default of machine precision times ``max(M, N)`` where M and N are the input matrix dimensions.\n",
      "To use the future default and silence this warning we advise to pass `rcond=None`, to keep using the old, explicitly pass `rcond=-1`.\n",
      "  This is separate from the ipykernel package so we can avoid doing imports until\n"
     ]
    }
   ],
   "source": [
    "beta_out = fit(np.array(Xtr),np.array(Ytr).reshape((Ytr.size),1),m=3,epochs=100000,step_size=1)"
   ]
  },
  {
   "cell_type": "code",
   "execution_count": 36,
   "metadata": {},
   "outputs": [
    {
     "data": {
      "text/plain": [
       "array([[ 7.93415004],\n",
       "       [ 0.93978473],\n",
       "       [ 0.76230608],\n",
       "       [-0.19183208],\n",
       "       [-1.05950847],\n",
       "       [-0.58936134],\n",
       "       [-1.65889717]])"
      ]
     },
     "execution_count": 36,
     "metadata": {},
     "output_type": "execute_result"
    }
   ],
   "source": [
    "beta_out"
   ]
  },
  {
   "cell_type": "code",
   "execution_count": 37,
   "metadata": {},
   "outputs": [],
   "source": [
    "Ypr = np.round(3*p(Xtr,beta_out))"
   ]
  },
  {
   "cell_type": "code",
   "execution_count": 38,
   "metadata": {},
   "outputs": [
    {
     "data": {
      "text/plain": [
       "0.8393250183418929"
      ]
     },
     "execution_count": 38,
     "metadata": {},
     "output_type": "execute_result"
    }
   ],
   "source": [
    "(Ytr == Ypr.flatten()).sum() / len(Ytr) "
   ]
  },
  {
   "cell_type": "code",
   "execution_count": 39,
   "metadata": {},
   "outputs": [],
   "source": [
    "Ypr2 = np.round(3*p(Xte,beta_out))"
   ]
  },
  {
   "cell_type": "code",
   "execution_count": 40,
   "metadata": {},
   "outputs": [
    {
     "data": {
      "text/plain": [
       "0.8090277777777778"
      ]
     },
     "execution_count": 40,
     "metadata": {},
     "output_type": "execute_result"
    }
   ],
   "source": [
    "(Yte == Ypr2.flatten()).sum() / len(Yte) "
   ]
  },
  {
   "cell_type": "markdown",
   "metadata": {},
   "source": [
    "## One vs all method for multinomial classification(Method 2)"
   ]
  },
  {
   "cell_type": "code",
   "execution_count": 41,
   "metadata": {},
   "outputs": [],
   "source": [
    "def onevallfit(X,Y,m):\n",
    "    beta_i=np.ones((X.shape[1],m))\n",
    "    for i in range(m):\n",
    "        dummy_Y = ((Y == i)*1).reshape(((Y.size),1))\n",
    "        beta_i[:,i] = fit(X,dummy_Y, epochs = 1000).flatten()\n",
    "    return beta_i"
   ]
  },
  {
   "cell_type": "code",
   "execution_count": 42,
   "metadata": {},
   "outputs": [],
   "source": [
    "def mcpredictor(betas,X,m):\n",
    "    probabs=np.ones((X.shape[0],m))\n",
    "    for i in range(m):\n",
    "        probabs[:,i] = (p(X,betas[:,i])).flatten()\n",
    "    Ypr = np.argmax(probabs, axis=1)\n",
    "    return Ypr\n",
    "        "
   ]
  },
  {
   "cell_type": "code",
   "execution_count": 43,
   "metadata": {},
   "outputs": [
    {
     "name": "stderr",
     "output_type": "stream",
     "text": [
      "/usr/local/lib/python3.5/dist-packages/ipykernel_launcher.py:3: FutureWarning: `rcond` parameter will change to the default of machine precision times ``max(M, N)`` where M and N are the input matrix dimensions.\n",
      "To use the future default and silence this warning we advise to pass `rcond=None`, to keep using the old, explicitly pass `rcond=-1`.\n",
      "  This is separate from the ipykernel package so we can avoid doing imports until\n"
     ]
    }
   ],
   "source": [
    "betas = onevallfit(np.array(Xtr),np.array(Ytr).reshape((Ytr.size),1),4)"
   ]
  },
  {
   "cell_type": "code",
   "execution_count": 46,
   "metadata": {},
   "outputs": [],
   "source": [
    "Yprr = mcpredictor(betas,Xtr,m=4)"
   ]
  },
  {
   "cell_type": "code",
   "execution_count": 47,
   "metadata": {},
   "outputs": [
    {
     "data": {
      "text/plain": [
       "0.8650036683785767"
      ]
     },
     "execution_count": 47,
     "metadata": {},
     "output_type": "execute_result"
    }
   ],
   "source": [
    "(Ytr == Yprr.flatten()).sum() / len(Ytr) "
   ]
  },
  {
   "cell_type": "code",
   "execution_count": 48,
   "metadata": {},
   "outputs": [
    {
     "data": {
      "text/plain": [
       "0.8096064814814815"
      ]
     },
     "execution_count": 48,
     "metadata": {},
     "output_type": "execute_result"
    }
   ],
   "source": [
    "(mcpredictor(betas,Xte,m=4) == np.array(Yte)).sum() / len(Yte)"
   ]
  },
  {
   "cell_type": "markdown",
   "metadata": {},
   "source": [
    "#### Using all the different methods above we find that accuracy is 80-86% which suggests a pretty good fit to a real dataset"
   ]
  },
  {
   "cell_type": "markdown",
   "metadata": {},
   "source": [
    "\n",
    "\n",
    "## Using sklearn"
   ]
  },
  {
   "cell_type": "code",
   "execution_count": 49,
   "metadata": {},
   "outputs": [],
   "source": [
    "from sklearn.linear_model import LogisticRegression"
   ]
  },
  {
   "cell_type": "code",
   "execution_count": 50,
   "metadata": {},
   "outputs": [
    {
     "data": {
      "text/plain": [
       "LogisticRegression(C=1.0, class_weight=None, dual=False, fit_intercept=True,\n",
       "          intercept_scaling=1, max_iter=100, multi_class='multinomial',\n",
       "          n_jobs=1, penalty='l2', random_state=None, solver='newton-cg',\n",
       "          tol=0.0001, verbose=0, warm_start=False)"
      ]
     },
     "execution_count": 50,
     "metadata": {},
     "output_type": "execute_result"
    }
   ],
   "source": [
    "reg1 = LogisticRegression()\n",
    "reg2 = LogisticRegression(multi_class='multinomial', solver='newton-cg')\n",
    "reg1.fit(Xtr,Ytr)\n",
    "reg2.fit(Xtr,Ytr)"
   ]
  },
  {
   "cell_type": "code",
   "execution_count": 51,
   "metadata": {},
   "outputs": [
    {
     "name": "stdout",
     "output_type": "stream",
     "text": [
      "0.855465884079237\n",
      "0.880410858400587\n"
     ]
    }
   ],
   "source": [
    "print(reg1.score(Xtr,Ytr))\n",
    "print(reg2.score(Xtr,Ytr))"
   ]
  },
  {
   "cell_type": "markdown",
   "metadata": {},
   "source": [
    "### Thus, even our benchmark is 85-88% and so we can safely say that it is a pretty good fit for the dataset."
   ]
  }
 ],
 "metadata": {
  "kernelspec": {
   "display_name": "Python 3",
   "language": "python",
   "name": "python3"
  },
  "language_info": {
   "codemirror_mode": {
    "name": "ipython",
    "version": 3
   },
   "file_extension": ".py",
   "mimetype": "text/x-python",
   "name": "python",
   "nbconvert_exporter": "python",
   "pygments_lexer": "ipython3",
   "version": "3.5.2"
  }
 },
 "nbformat": 4,
 "nbformat_minor": 2
}
